{
 "cells": [
  {
   "cell_type": "code",
   "execution_count": 2,
   "id": "08550bbb",
   "metadata": {},
   "outputs": [],
   "source": [
    "import os\n",
    "os.getcwd()\n",
    "os.chdir('..')"
   ]
  },
  {
   "cell_type": "code",
   "execution_count": 30,
   "id": "1221b5c4",
   "metadata": {},
   "outputs": [],
   "source": [
    "from Sources.utils import get_tickers_json\n",
    "from collections import defaultdict\n",
    "exchanges = [\"NYSE\", \"NASDAQ\"]\n",
    "by_exchange = defaultdict(dict)"
   ]
  },
  {
   "cell_type": "code",
   "execution_count": 31,
   "id": "42a111b4",
   "metadata": {},
   "outputs": [],
   "source": [
    "for exchange in exchanges:\n",
    "    by_exchange[exchange] = get_tickers_json(exchange)"
   ]
  },
  {
   "cell_type": "code",
   "execution_count": 35,
   "id": "36a768a5",
   "metadata": {},
   "outputs": [
    {
     "name": "stdout",
     "output_type": "stream",
     "text": [
      "[{'ticker': 'A', 'analyst_ratio_to_current': 0.8839459713728915}]\n",
      "[{'ticker': 'AA', 'analyst_ratio_to_current': 0.8725242309313105}]\n",
      "[{'ticker': 'AA', 'analyst_ratio_to_current': 0.8725242309313105}]\n"
     ]
    },
    {
     "name": "stderr",
     "output_type": "stream",
     "text": [
      "404 Client Error: Not Found for url: https://query2.finance.yahoo.com/v10/finance/quoteSummary/AAM?modules=financialData&corsDomain=finance.yahoo.com&formatted=false&symbol=AAM&crumb=zgTXR7VBJ.z\n"
     ]
    },
    {
     "name": "stdout",
     "output_type": "stream",
     "text": [
      "[{'ticker': 'AA', 'analyst_ratio_to_current': 0.8725242309313105}]\n",
      "[{'ticker': 'AAP', 'analyst_ratio_to_current': 0.7552433312970882}]\n",
      "[{'ticker': 'AAT', 'analyst_ratio_to_current': 1.120408163265306}]\n",
      "[{'ticker': 'AB', 'analyst_ratio_to_current': 0.8834883720930233}]\n",
      "[{'ticker': 'ABBV', 'analyst_ratio_to_current': 0.9392888976923839}]\n",
      "[{'ticker': 'ABCB', 'analyst_ratio_to_current': 0.9077586206896553}]\n",
      "[{'ticker': 'ABEV', 'analyst_ratio_to_current': 0.7307692307692307}]\n",
      "[{'ticker': 'ABG', 'analyst_ratio_to_current': 0.9116921957725418}]\n",
      "[{'ticker': 'ABM', 'analyst_ratio_to_current': 0.9340869565217391}]\n",
      "[{'ticker': 'ABR', 'analyst_ratio_to_current': 1.0447042640990372}]\n"
     ]
    },
    {
     "name": "stderr",
     "output_type": "stream",
     "text": [
      "404 Client Error: Not Found for url: https://query2.finance.yahoo.com/v10/finance/quoteSummary/ABR%5ED?modules=financialData&corsDomain=finance.yahoo.com&formatted=false&symbol=ABR%5ED&crumb=zgTXR7VBJ.z\n"
     ]
    },
    {
     "name": "stdout",
     "output_type": "stream",
     "text": [
      "[{'ticker': 'ABR', 'analyst_ratio_to_current': 1.0447042640990372}]\n"
     ]
    },
    {
     "name": "stderr",
     "output_type": "stream",
     "text": [
      "404 Client Error: Not Found for url: https://query2.finance.yahoo.com/v10/finance/quoteSummary/ABR%5EE?modules=financialData&corsDomain=finance.yahoo.com&formatted=false&symbol=ABR%5EE&crumb=zgTXR7VBJ.z\n"
     ]
    },
    {
     "name": "stdout",
     "output_type": "stream",
     "text": [
      "[{'ticker': 'ABR', 'analyst_ratio_to_current': 1.0447042640990372}]\n"
     ]
    },
    {
     "name": "stderr",
     "output_type": "stream",
     "text": [
      "404 Client Error: Not Found for url: https://query2.finance.yahoo.com/v10/finance/quoteSummary/ABR%5EF?modules=financialData&corsDomain=finance.yahoo.com&formatted=false&symbol=ABR%5EF&crumb=zgTXR7VBJ.z\n"
     ]
    },
    {
     "name": "stdout",
     "output_type": "stream",
     "text": [
      "[{'ticker': 'ABR', 'analyst_ratio_to_current': 1.0447042640990372}]\n",
      "[{'ticker': 'ABT', 'analyst_ratio_to_current': 0.8790844636251541}]\n",
      "[{'ticker': 'ABT', 'analyst_ratio_to_current': 0.8790844636251541}]\n",
      "[{'ticker': 'ACA', 'analyst_ratio_to_current': 0.8786372007366483}]\n",
      "[{'ticker': 'ACCO', 'analyst_ratio_to_current': 0.4629803186504218}]\n",
      "[{'ticker': 'ACEL', 'analyst_ratio_to_current': 0.7743694614860259}]\n",
      "[{'ticker': 'ACHR', 'analyst_ratio_to_current': 0.3589473684210526}]\n",
      "[{'ticker': 'ACI', 'analyst_ratio_to_current': 0.7797619047619048}]\n",
      "[{'ticker': 'ACM', 'analyst_ratio_to_current': 0.9392622805461962}]\n",
      "[{'ticker': 'ACN', 'analyst_ratio_to_current': 0.9397627965043694}]\n",
      "[{'ticker': 'ACN', 'analyst_ratio_to_current': 0.9397627965043694}]\n"
     ]
    },
    {
     "name": "stderr",
     "output_type": "stream",
     "text": [
      "404 Client Error: Not Found for url: https://query2.finance.yahoo.com/v10/finance/quoteSummary/ACP%5EA?modules=financialData&corsDomain=finance.yahoo.com&formatted=false&symbol=ACP%5EA&crumb=zgTXR7VBJ.z\n"
     ]
    },
    {
     "name": "stdout",
     "output_type": "stream",
     "text": [
      "[{'ticker': 'ACN', 'analyst_ratio_to_current': 0.9397627965043694}]\n",
      "[{'ticker': 'ACR', 'analyst_ratio_to_current': 0.8064}]\n"
     ]
    },
    {
     "name": "stderr",
     "output_type": "stream",
     "text": [
      "404 Client Error: Not Found for url: https://query2.finance.yahoo.com/v10/finance/quoteSummary/ACR%5EC?modules=financialData&corsDomain=finance.yahoo.com&formatted=false&symbol=ACR%5EC&crumb=zgTXR7VBJ.z\n"
     ]
    },
    {
     "name": "stdout",
     "output_type": "stream",
     "text": [
      "[{'ticker': 'ACR', 'analyst_ratio_to_current': 0.8064}]\n"
     ]
    },
    {
     "name": "stderr",
     "output_type": "stream",
     "text": [
      "404 Client Error: Not Found for url: https://query2.finance.yahoo.com/v10/finance/quoteSummary/ACR%5ED?modules=financialData&corsDomain=finance.yahoo.com&formatted=false&symbol=ACR%5ED&crumb=zgTXR7VBJ.z\n"
     ]
    },
    {
     "name": "stdout",
     "output_type": "stream",
     "text": [
      "[{'ticker': 'ACR', 'analyst_ratio_to_current': 0.8064}]\n",
      "[{'ticker': 'ACRE', 'analyst_ratio_to_current': 0.9500000000000001}]\n",
      "[{'ticker': 'ACV', 'analyst_ratio_to_current': 0.5664771188735446}]\n",
      "[{'ticker': 'ADC', 'analyst_ratio_to_current': 0.9554671457905545}]\n"
     ]
    },
    {
     "name": "stderr",
     "output_type": "stream",
     "text": [
      "404 Client Error: Not Found for url: https://query2.finance.yahoo.com/v10/finance/quoteSummary/ADC%5EA?modules=financialData&corsDomain=finance.yahoo.com&formatted=false&symbol=ADC%5EA&crumb=zgTXR7VBJ.z\n"
     ]
    },
    {
     "name": "stdout",
     "output_type": "stream",
     "text": [
      "[{'ticker': 'ADC', 'analyst_ratio_to_current': 0.9554671457905545}]\n",
      "[{'ticker': 'ADCT', 'analyst_ratio_to_current': 0.31224489795918364}]\n",
      "[{'ticker': 'ADM', 'analyst_ratio_to_current': 0.9277147487844408}]\n",
      "[{'ticker': 'ADNT', 'analyst_ratio_to_current': 0.8295981452859351}]\n",
      "[{'ticker': 'ADT', 'analyst_ratio_to_current': 0.7865528281750268}]\n",
      "[{'ticker': 'ADT', 'analyst_ratio_to_current': 0.7865528281750268}]\n",
      "[{'ticker': 'AEE', 'analyst_ratio_to_current': 0.9884464385866517}]\n"
     ]
    },
    {
     "name": "stderr",
     "output_type": "stream",
     "text": [
      "404 Client Error: Not Found for url: https://query2.finance.yahoo.com/v10/finance/quoteSummary/AEFC?modules=financialData&corsDomain=finance.yahoo.com&formatted=false&symbol=AEFC&crumb=zgTXR7VBJ.z\n"
     ]
    },
    {
     "name": "stdout",
     "output_type": "stream",
     "text": [
      "[{'ticker': 'AEE', 'analyst_ratio_to_current': 0.9884464385866517}]\n",
      "[{'ticker': 'AEG', 'analyst_ratio_to_current': 0.9289855072463767}]\n",
      "[{'ticker': 'AEM', 'analyst_ratio_to_current': 0.9342091095079142}]\n",
      "[{'ticker': 'AEO', 'analyst_ratio_to_current': 0.854920100925147}]\n",
      "[{'ticker': 'AER', 'analyst_ratio_to_current': 0.8907119021134595}]\n",
      "[{'ticker': 'AES', 'analyst_ratio_to_current': 0.765947888589398}]\n",
      "[{'ticker': 'AESI', 'analyst_ratio_to_current': 0.8141520943472956}]\n",
      "[{'ticker': 'AEVA', 'analyst_ratio_to_current': 0.45070422535211274}]\n",
      "[{'ticker': 'AEVA', 'analyst_ratio_to_current': 0.45070422535211274}]\n",
      "[{'ticker': 'AFG', 'analyst_ratio_to_current': 0.9178672316384181}]\n"
     ]
    },
    {
     "name": "stderr",
     "output_type": "stream",
     "text": [
      "404 Client Error: Not Found for url: https://query2.finance.yahoo.com/v10/finance/quoteSummary/AFGB?modules=financialData&corsDomain=finance.yahoo.com&formatted=false&symbol=AFGB&crumb=zgTXR7VBJ.z\n"
     ]
    },
    {
     "name": "stdout",
     "output_type": "stream",
     "text": [
      "[{'ticker': 'AFG', 'analyst_ratio_to_current': 0.9178672316384181}]\n"
     ]
    },
    {
     "name": "stderr",
     "output_type": "stream",
     "text": [
      "404 Client Error: Not Found for url: https://query2.finance.yahoo.com/v10/finance/quoteSummary/AFGC?modules=financialData&corsDomain=finance.yahoo.com&formatted=false&symbol=AFGC&crumb=zgTXR7VBJ.z\n"
     ]
    },
    {
     "name": "stdout",
     "output_type": "stream",
     "text": [
      "[{'ticker': 'AFG', 'analyst_ratio_to_current': 0.9178672316384181}]\n",
      "[{'ticker': 'AFG', 'analyst_ratio_to_current': 0.9178672316384181}]\n",
      "[{'ticker': 'AFG', 'analyst_ratio_to_current': 0.9178672316384181}]\n",
      "[{'ticker': 'AFL', 'analyst_ratio_to_current': 1.0696609508963368}]\n",
      "[{'ticker': 'AG', 'analyst_ratio_to_current': 0.9745547073791349}]\n",
      "[{'ticker': 'AGCO', 'analyst_ratio_to_current': 0.9206650402096322}]\n",
      "[{'ticker': 'AGCO', 'analyst_ratio_to_current': 0.9206650402096322}]\n",
      "[{'ticker': 'AGI', 'analyst_ratio_to_current': 0.859538784067086}]\n",
      "[{'ticker': 'AGL', 'analyst_ratio_to_current': 0.4141104294478528}]\n",
      "[{'ticker': 'AGM', 'analyst_ratio_to_current': 0.8532110091743119}]\n"
     ]
    },
    {
     "name": "stderr",
     "output_type": "stream",
     "text": [
      "404 Client Error: Not Found for url: https://query2.finance.yahoo.com/v10/finance/quoteSummary/AGM%5ED?modules=financialData&corsDomain=finance.yahoo.com&formatted=false&symbol=AGM%5ED&crumb=zgTXR7VBJ.z\n"
     ]
    },
    {
     "name": "stdout",
     "output_type": "stream",
     "text": [
      "[{'ticker': 'AGM', 'analyst_ratio_to_current': 0.8532110091743119}]\n"
     ]
    },
    {
     "name": "stderr",
     "output_type": "stream",
     "text": [
      "404 Client Error: Not Found for url: https://query2.finance.yahoo.com/v10/finance/quoteSummary/AGM%5EE?modules=financialData&corsDomain=finance.yahoo.com&formatted=false&symbol=AGM%5EE&crumb=zgTXR7VBJ.z\n"
     ]
    },
    {
     "name": "stdout",
     "output_type": "stream",
     "text": [
      "[{'ticker': 'AGM', 'analyst_ratio_to_current': 0.8532110091743119}]\n"
     ]
    },
    {
     "name": "stderr",
     "output_type": "stream",
     "text": [
      "404 Client Error: Not Found for url: https://query2.finance.yahoo.com/v10/finance/quoteSummary/AGM%5EF?modules=financialData&corsDomain=finance.yahoo.com&formatted=false&symbol=AGM%5EF&crumb=zgTXR7VBJ.z\n"
     ]
    },
    {
     "name": "stdout",
     "output_type": "stream",
     "text": [
      "[{'ticker': 'AGM', 'analyst_ratio_to_current': 0.8532110091743119}]\n"
     ]
    },
    {
     "name": "stderr",
     "output_type": "stream",
     "text": [
      "404 Client Error: Not Found for url: https://query2.finance.yahoo.com/v10/finance/quoteSummary/AGM%5EG?modules=financialData&corsDomain=finance.yahoo.com&formatted=false&symbol=AGM%5EG&crumb=zgTXR7VBJ.z\n"
     ]
    },
    {
     "name": "stdout",
     "output_type": "stream",
     "text": [
      "[{'ticker': 'AGM', 'analyst_ratio_to_current': 0.8532110091743119}]\n",
      "[{'ticker': 'AGO', 'analyst_ratio_to_current': 0.8433830845771145}]\n",
      "[{'ticker': 'AGR', 'analyst_ratio_to_current': 0.9620967741935483}]\n",
      "[{'ticker': 'AGRO', 'analyst_ratio_to_current': 0.9268680445151033}]\n",
      "[{'ticker': 'AGS', 'analyst_ratio_to_current': 0.9192399049881235}]\n",
      "[{'ticker': 'AGX', 'analyst_ratio_to_current': 1.6929032258064514}]\n",
      "[{'ticker': 'AHH', 'analyst_ratio_to_current': 0.9684210526315788}]\n"
     ]
    },
    {
     "name": "stderr",
     "output_type": "stream",
     "text": [
      "404 Client Error: Not Found for url: https://query2.finance.yahoo.com/v10/finance/quoteSummary/AHH%5EA?modules=financialData&corsDomain=finance.yahoo.com&formatted=false&symbol=AHH%5EA&crumb=zgTXR7VBJ.z\n"
     ]
    },
    {
     "name": "stdout",
     "output_type": "stream",
     "text": [
      "[{'ticker': 'AHH', 'analyst_ratio_to_current': 0.9684210526315788}]\n"
     ]
    },
    {
     "name": "stderr",
     "output_type": "stream",
     "text": [
      "404 Client Error: Not Found for url: https://query2.finance.yahoo.com/v10/finance/quoteSummary/AHL%5EC?modules=financialData&corsDomain=finance.yahoo.com&formatted=false&symbol=AHL%5EC&crumb=zgTXR7VBJ.z\n"
     ]
    },
    {
     "name": "stdout",
     "output_type": "stream",
     "text": [
      "[{'ticker': 'AHH', 'analyst_ratio_to_current': 0.9684210526315788}]\n"
     ]
    },
    {
     "name": "stderr",
     "output_type": "stream",
     "text": [
      "404 Client Error: Not Found for url: https://query2.finance.yahoo.com/v10/finance/quoteSummary/AHL%5ED?modules=financialData&corsDomain=finance.yahoo.com&formatted=false&symbol=AHL%5ED&crumb=zgTXR7VBJ.z\n"
     ]
    },
    {
     "name": "stdout",
     "output_type": "stream",
     "text": [
      "[{'ticker': 'AHH', 'analyst_ratio_to_current': 0.9684210526315788}]\n"
     ]
    },
    {
     "name": "stderr",
     "output_type": "stream",
     "text": [
      "404 Client Error: Not Found for url: https://query2.finance.yahoo.com/v10/finance/quoteSummary/AHL%5EE?modules=financialData&corsDomain=finance.yahoo.com&formatted=false&symbol=AHL%5EE&crumb=zgTXR7VBJ.z\n"
     ]
    },
    {
     "name": "stdout",
     "output_type": "stream",
     "text": [
      "[{'ticker': 'AHH', 'analyst_ratio_to_current': 0.9684210526315788}]\n",
      "[{'ticker': 'AHR', 'analyst_ratio_to_current': 0.9395584509591025}]\n",
      "[{'ticker': 'AHT', 'analyst_ratio_to_current': 2.8110599078341014}]\n"
     ]
    },
    {
     "name": "stderr",
     "output_type": "stream",
     "text": [
      "404 Client Error: Not Found for url: https://query2.finance.yahoo.com/v10/finance/quoteSummary/AHT%5ED?modules=financialData&corsDomain=finance.yahoo.com&formatted=false&symbol=AHT%5ED&crumb=zgTXR7VBJ.z\n"
     ]
    },
    {
     "name": "stdout",
     "output_type": "stream",
     "text": [
      "[{'ticker': 'AHT', 'analyst_ratio_to_current': 2.8110599078341014}]\n"
     ]
    },
    {
     "name": "stderr",
     "output_type": "stream",
     "text": [
      "404 Client Error: Not Found for url: https://query2.finance.yahoo.com/v10/finance/quoteSummary/AHT%5EF?modules=financialData&corsDomain=finance.yahoo.com&formatted=false&symbol=AHT%5EF&crumb=zgTXR7VBJ.z\n"
     ]
    },
    {
     "name": "stdout",
     "output_type": "stream",
     "text": [
      "[{'ticker': 'AHT', 'analyst_ratio_to_current': 2.8110599078341014}]\n"
     ]
    },
    {
     "name": "stderr",
     "output_type": "stream",
     "text": [
      "404 Client Error: Not Found for url: https://query2.finance.yahoo.com/v10/finance/quoteSummary/AHT%5EG?modules=financialData&corsDomain=finance.yahoo.com&formatted=false&symbol=AHT%5EG&crumb=zgTXR7VBJ.z\n"
     ]
    },
    {
     "name": "stdout",
     "output_type": "stream",
     "text": [
      "[{'ticker': 'AHT', 'analyst_ratio_to_current': 2.8110599078341014}]\n"
     ]
    },
    {
     "name": "stderr",
     "output_type": "stream",
     "text": [
      "404 Client Error: Not Found for url: https://query2.finance.yahoo.com/v10/finance/quoteSummary/AHT%5EH?modules=financialData&corsDomain=finance.yahoo.com&formatted=false&symbol=AHT%5EH&crumb=zgTXR7VBJ.z\n"
     ]
    },
    {
     "name": "stdout",
     "output_type": "stream",
     "text": [
      "[{'ticker': 'AHT', 'analyst_ratio_to_current': 2.8110599078341014}]\n"
     ]
    },
    {
     "name": "stderr",
     "output_type": "stream",
     "text": [
      "404 Client Error: Not Found for url: https://query2.finance.yahoo.com/v10/finance/quoteSummary/AHT%5EI?modules=financialData&corsDomain=finance.yahoo.com&formatted=false&symbol=AHT%5EI&crumb=zgTXR7VBJ.z\n"
     ]
    },
    {
     "name": "stdout",
     "output_type": "stream",
     "text": [
      "[{'ticker': 'AHT', 'analyst_ratio_to_current': 2.8110599078341014}]\n",
      "[{'ticker': 'AI', 'analyst_ratio_to_current': 1.048984468339307}]\n",
      "[{'ticker': 'AIG', 'analyst_ratio_to_current': 0.9141104294478527}]\n",
      "[{'ticker': 'AIN', 'analyst_ratio_to_current': 0.7838776174460237}]\n",
      "[{'ticker': 'AIN', 'analyst_ratio_to_current': 0.7838776174460237}]\n",
      "[{'ticker': 'AIR', 'analyst_ratio_to_current': 0.7637755742437555}]\n",
      "[{'ticker': 'AIT', 'analyst_ratio_to_current': 0.916800879915151}]\n",
      "[{'ticker': 'AIT', 'analyst_ratio_to_current': 0.916800879915151}]\n",
      "[{'ticker': 'AIZ', 'analyst_ratio_to_current': 0.887705667276051}]\n"
     ]
    },
    {
     "name": "stderr",
     "output_type": "stream",
     "text": [
      "404 Client Error: Not Found for url: https://query2.finance.yahoo.com/v10/finance/quoteSummary/AIZN?modules=financialData&corsDomain=finance.yahoo.com&formatted=false&symbol=AIZN&crumb=zgTXR7VBJ.z\n"
     ]
    },
    {
     "name": "stdout",
     "output_type": "stream",
     "text": [
      "[{'ticker': 'AIZ', 'analyst_ratio_to_current': 0.887705667276051}]\n",
      "[{'ticker': 'AJG', 'analyst_ratio_to_current': 0.9732516590096988}]\n",
      "[{'ticker': 'AJX', 'analyst_ratio_to_current': 0.535}]\n",
      "[{'ticker': 'AKA', 'analyst_ratio_to_current': 1.1849411764705882}]\n"
     ]
    },
    {
     "name": "stderr",
     "output_type": "stream",
     "text": [
      "404 Client Error: Not Found for url: https://query2.finance.yahoo.com/v10/finance/quoteSummary/AKO/A?modules=financialData&corsDomain=finance.yahoo.com&formatted=false&symbol=AKO%2FA&crumb=zgTXR7VBJ.z\n"
     ]
    },
    {
     "name": "stdout",
     "output_type": "stream",
     "text": [
      "[{'ticker': 'AKA', 'analyst_ratio_to_current': 1.1849411764705882}]\n"
     ]
    },
    {
     "name": "stderr",
     "output_type": "stream",
     "text": [
      "404 Client Error: Not Found for url: https://query2.finance.yahoo.com/v10/finance/quoteSummary/AKO/B?modules=financialData&corsDomain=finance.yahoo.com&formatted=false&symbol=AKO%2FB&crumb=zgTXR7VBJ.z\n"
     ]
    },
    {
     "name": "stdout",
     "output_type": "stream",
     "text": [
      "[{'ticker': 'AKA', 'analyst_ratio_to_current': 1.1849411764705882}]\n",
      "[{'ticker': 'AKR', 'analyst_ratio_to_current': 1.0081967213114755}]\n",
      "[{'ticker': 'AL', 'analyst_ratio_to_current': 0.7945229681978798}]\n",
      "[{'ticker': 'ALB', 'analyst_ratio_to_current': 0.8934000910332272}]\n"
     ]
    },
    {
     "name": "stderr",
     "output_type": "stream",
     "text": [
      "404 Client Error: Not Found for url: https://query2.finance.yahoo.com/v10/finance/quoteSummary/ALB%5EA?modules=financialData&corsDomain=finance.yahoo.com&formatted=false&symbol=ALB%5EA&crumb=zgTXR7VBJ.z\n"
     ]
    },
    {
     "name": "stdout",
     "output_type": "stream",
     "text": [
      "[{'ticker': 'ALB', 'analyst_ratio_to_current': 0.8934000910332272}]\n",
      "[{'ticker': 'ALC', 'analyst_ratio_to_current': 0.9268268855021493}]\n",
      "[{'ticker': 'ALE', 'analyst_ratio_to_current': 0.9972080037226618}]\n",
      "[{'ticker': 'ALEX', 'analyst_ratio_to_current': 0.8903529411764707}]\n",
      "[{'ticker': 'ALG', 'analyst_ratio_to_current': 0.816694021101993}]\n",
      "[{'ticker': 'ALIT', 'analyst_ratio_to_current': 0.6704014939309056}]\n",
      "[{'ticker': 'ALK', 'analyst_ratio_to_current': 0.87546468401487}]\n",
      "[{'ticker': 'ALL', 'analyst_ratio_to_current': 0.9128232342724817}]\n"
     ]
    },
    {
     "name": "stderr",
     "output_type": "stream",
     "text": [
      "404 Client Error: Not Found for url: https://query2.finance.yahoo.com/v10/finance/quoteSummary/ALL%5EB?modules=financialData&corsDomain=finance.yahoo.com&formatted=false&symbol=ALL%5EB&crumb=zgTXR7VBJ.z\n"
     ]
    },
    {
     "name": "stdout",
     "output_type": "stream",
     "text": [
      "[{'ticker': 'ALL', 'analyst_ratio_to_current': 0.9128232342724817}]\n"
     ]
    },
    {
     "name": "stderr",
     "output_type": "stream",
     "text": [
      "404 Client Error: Not Found for url: https://query2.finance.yahoo.com/v10/finance/quoteSummary/ALL%5EH?modules=financialData&corsDomain=finance.yahoo.com&formatted=false&symbol=ALL%5EH&crumb=zgTXR7VBJ.z\n"
     ]
    },
    {
     "name": "stdout",
     "output_type": "stream",
     "text": [
      "[{'ticker': 'ALL', 'analyst_ratio_to_current': 0.9128232342724817}]\n"
     ]
    },
    {
     "name": "stderr",
     "output_type": "stream",
     "text": [
      "404 Client Error: Not Found for url: https://query2.finance.yahoo.com/v10/finance/quoteSummary/ALL%5EI?modules=financialData&corsDomain=finance.yahoo.com&formatted=false&symbol=ALL%5EI&crumb=zgTXR7VBJ.z\n"
     ]
    },
    {
     "name": "stdout",
     "output_type": "stream",
     "text": [
      "[{'ticker': 'ALL', 'analyst_ratio_to_current': 0.9128232342724817}]\n"
     ]
    },
    {
     "name": "stderr",
     "output_type": "stream",
     "text": [
      "404 Client Error: Not Found for url: https://query2.finance.yahoo.com/v10/finance/quoteSummary/ALL%5EJ?modules=financialData&corsDomain=finance.yahoo.com&formatted=false&symbol=ALL%5EJ&crumb=zgTXR7VBJ.z\n"
     ]
    },
    {
     "name": "stdout",
     "output_type": "stream",
     "text": [
      "[{'ticker': 'ALL', 'analyst_ratio_to_current': 0.9128232342724817}]\n",
      "[{'ticker': 'ALLE', 'analyst_ratio_to_current': 0.9761333241890132}]\n",
      "[{'ticker': 'ALLY', 'analyst_ratio_to_current': 0.9025957337445387}]\n",
      "[{'ticker': 'ALSN', 'analyst_ratio_to_current': 1.0523819561551433}]\n",
      "[{'ticker': 'ALTG', 'analyst_ratio_to_current': 0.432258064516129}]\n"
     ]
    },
    {
     "name": "stderr",
     "output_type": "stream",
     "text": [
      "404 Client Error: Not Found for url: https://query2.finance.yahoo.com/v10/finance/quoteSummary/ALTG%5EA?modules=financialData&corsDomain=finance.yahoo.com&formatted=false&symbol=ALTG%5EA&crumb=zgTXR7VBJ.z\n"
     ]
    },
    {
     "name": "stdout",
     "output_type": "stream",
     "text": [
      "[{'ticker': 'ALTG', 'analyst_ratio_to_current': 0.432258064516129}]\n",
      "[{'ticker': 'ALTM', 'analyst_ratio_to_current': 0.9057851239669422}]\n",
      "[{'ticker': 'ALUR', 'analyst_ratio_to_current': 0.31684873949579834}]\n",
      "[{'ticker': 'ALV', 'analyst_ratio_to_current': 0.8122489959839357}]\n",
      "[{'ticker': 'ALX', 'analyst_ratio_to_current': 1.8252000000000002}]\n",
      "[{'ticker': 'AM', 'analyst_ratio_to_current': 0.9600000000000001}]\n",
      "[{'ticker': 'AMBC', 'analyst_ratio_to_current': 0.6729411764705882}]\n",
      "[{'ticker': 'AMBP', 'analyst_ratio_to_current': 0.875598086124402}]\n",
      "[{'ticker': 'AMC', 'analyst_ratio_to_current': 0.9568965517241381}]\n",
      "[{'ticker': 'AMCR', 'analyst_ratio_to_current': 1.0374531835205993}]\n",
      "[{'ticker': 'AME', 'analyst_ratio_to_current': 0.9048567736377343}]\n",
      "[{'ticker': 'AMG', 'analyst_ratio_to_current': 0.9167529411764705}]\n",
      "[{'ticker': 'AMH', 'analyst_ratio_to_current': 0.9152704643370033}]\n"
     ]
    },
    {
     "name": "stderr",
     "output_type": "stream",
     "text": [
      "404 Client Error: Not Found for url: https://query2.finance.yahoo.com/v10/finance/quoteSummary/AMH%5EG?modules=financialData&corsDomain=finance.yahoo.com&formatted=false&symbol=AMH%5EG&crumb=zgTXR7VBJ.z\n"
     ]
    },
    {
     "name": "stdout",
     "output_type": "stream",
     "text": [
      "[{'ticker': 'AMH', 'analyst_ratio_to_current': 0.9152704643370033}]\n"
     ]
    },
    {
     "name": "stderr",
     "output_type": "stream",
     "text": [
      "404 Client Error: Not Found for url: https://query2.finance.yahoo.com/v10/finance/quoteSummary/AMH%5EH?modules=financialData&corsDomain=finance.yahoo.com&formatted=false&symbol=AMH%5EH&crumb=zgTXR7VBJ.z\n"
     ]
    },
    {
     "name": "stdout",
     "output_type": "stream",
     "text": [
      "[{'ticker': 'AMH', 'analyst_ratio_to_current': 0.9152704643370033}]\n",
      "[{'ticker': 'AMN', 'analyst_ratio_to_current': 0.7486430844095078}]\n",
      "[{'ticker': 'AMP', 'analyst_ratio_to_current': 1.0057989185800484}]\n",
      "[{'ticker': 'AMPS', 'analyst_ratio_to_current': 0.7007434944237918}]\n",
      "[{'ticker': 'AMPX', 'analyst_ratio_to_current': 0.19386331938633192}]\n",
      "[{'ticker': 'AMPY', 'analyst_ratio_to_current': 0.657}]\n",
      "[{'ticker': 'AMR', 'analyst_ratio_to_current': 0.6299397590361445}]\n",
      "[{'ticker': 'AMRC', 'analyst_ratio_to_current': 0.8332895773168809}]\n",
      "[{'ticker': 'AMT', 'analyst_ratio_to_current': 0.9195183514710142}]\n",
      "[{'ticker': 'AMTB', 'analyst_ratio_to_current': 0.88}]\n",
      "[{'ticker': 'AMTB', 'analyst_ratio_to_current': 0.88}]\n",
      "[{'ticker': 'AMTB', 'analyst_ratio_to_current': 0.88}]\n",
      "[{'ticker': 'AMWL', 'analyst_ratio_to_current': 0.8275}]\n",
      "[{'ticker': 'AMX', 'analyst_ratio_to_current': 0.7927927927927927}]\n",
      "[{'ticker': 'AN', 'analyst_ratio_to_current': 0.7918921627580677}]\n",
      "[{'ticker': 'ANET', 'analyst_ratio_to_current': 1.0453152889149373}]\n",
      "[{'ticker': 'ANF', 'analyst_ratio_to_current': 0.7475338753387534}]\n"
     ]
    },
    {
     "name": "stderr",
     "output_type": "stream",
     "text": [
      "404 Client Error: Not Found for url: https://query2.finance.yahoo.com/v10/finance/quoteSummary/ANG%5EA?modules=financialData&corsDomain=finance.yahoo.com&formatted=false&symbol=ANG%5EA&crumb=zgTXR7VBJ.z\n"
     ]
    },
    {
     "name": "stdout",
     "output_type": "stream",
     "text": [
      "[{'ticker': 'ANF', 'analyst_ratio_to_current': 0.7475338753387534}]\n"
     ]
    },
    {
     "name": "stderr",
     "output_type": "stream",
     "text": [
      "404 Client Error: Not Found for url: https://query2.finance.yahoo.com/v10/finance/quoteSummary/ANG%5EB?modules=financialData&corsDomain=finance.yahoo.com&formatted=false&symbol=ANG%5EB&crumb=zgTXR7VBJ.z\n"
     ]
    },
    {
     "name": "stdout",
     "output_type": "stream",
     "text": [
      "[{'ticker': 'ANF', 'analyst_ratio_to_current': 0.7475338753387534}]\n",
      "[{'ticker': 'ANRO', 'analyst_ratio_to_current': 0.2679365079365079}]\n",
      "[{'ticker': 'ANVS', 'analyst_ratio_to_current': 0.27873563218390807}]\n",
      "[{'ticker': 'ANVS', 'analyst_ratio_to_current': 0.27873563218390807}]\n"
     ]
    },
    {
     "name": "stderr",
     "output_type": "stream",
     "text": [
      "404 Client Error: Not Found for url: https://query2.finance.yahoo.com/v10/finance/quoteSummary/AOMN?modules=financialData&corsDomain=finance.yahoo.com&formatted=false&symbol=AOMN&crumb=zgTXR7VBJ.z\n"
     ]
    },
    {
     "name": "stdout",
     "output_type": "stream",
     "text": [
      "[{'ticker': 'ANVS', 'analyst_ratio_to_current': 0.27873563218390807}]\n",
      "[{'ticker': 'AOMR', 'analyst_ratio_to_current': 0.7459677419354839}]\n",
      "[{'ticker': 'AON', 'analyst_ratio_to_current': 1.0205084559631012}]\n",
      "[{'ticker': 'AORT', 'analyst_ratio_to_current': 0.8599285017874554}]\n",
      "[{'ticker': 'AOS', 'analyst_ratio_to_current': 0.9066289885788296}]\n",
      "[{'ticker': 'AOS', 'analyst_ratio_to_current': 0.9066289885788296}]\n",
      "[{'ticker': 'APAM', 'analyst_ratio_to_current': 1.041930194424924}]\n",
      "[{'ticker': 'APD', 'analyst_ratio_to_current': 0.9714599676444552}]\n",
      "[{'ticker': 'APG', 'analyst_ratio_to_current': 0.7545913682277318}]\n",
      "[{'ticker': 'APH', 'analyst_ratio_to_current': 0.9152452025586354}]\n",
      "[{'ticker': 'APLE', 'analyst_ratio_to_current': 0.9190505173463177}]\n",
      "[{'ticker': 'APO', 'analyst_ratio_to_current': 0.9811014021540337}]\n"
     ]
    },
    {
     "name": "stderr",
     "output_type": "stream",
     "text": [
      "404 Client Error: Not Found for url: https://query2.finance.yahoo.com/v10/finance/quoteSummary/APO%5EA?modules=financialData&corsDomain=finance.yahoo.com&formatted=false&symbol=APO%5EA&crumb=zgTXR7VBJ.z\n"
     ]
    },
    {
     "name": "stdout",
     "output_type": "stream",
     "text": [
      "[{'ticker': 'APO', 'analyst_ratio_to_current': 0.9811014021540337}]\n"
     ]
    },
    {
     "name": "stderr",
     "output_type": "stream",
     "text": [
      "404 Client Error: Not Found for url: https://query2.finance.yahoo.com/v10/finance/quoteSummary/APOS?modules=financialData&corsDomain=finance.yahoo.com&formatted=false&symbol=APOS&crumb=zgTXR7VBJ.z\n"
     ]
    },
    {
     "name": "stdout",
     "output_type": "stream",
     "text": [
      "[{'ticker': 'APO', 'analyst_ratio_to_current': 0.9811014021540337}]\n",
      "[{'ticker': 'APTV', 'analyst_ratio_to_current': 0.7738814993954052}]\n",
      "[{'ticker': 'AQN', 'analyst_ratio_to_current': 0.8758741258741258}]\n"
     ]
    },
    {
     "name": "stderr",
     "output_type": "stream",
     "text": [
      "404 Client Error: Not Found for url: https://query2.finance.yahoo.com/v10/finance/quoteSummary/AQNB?modules=financialData&corsDomain=finance.yahoo.com&formatted=false&symbol=AQNB&crumb=zgTXR7VBJ.z\n"
     ]
    },
    {
     "name": "stdout",
     "output_type": "stream",
     "text": [
      "[{'ticker': 'AQN', 'analyst_ratio_to_current': 0.8758741258741258}]\n",
      "[{'ticker': 'AR', 'analyst_ratio_to_current': 0.8133531157270029}]\n",
      "[{'ticker': 'ARC', 'analyst_ratio_to_current': 0.7862068965517242}]\n",
      "[{'ticker': 'ARCH', 'analyst_ratio_to_current': 0.8632238805970149}]\n",
      "[{'ticker': 'ARCO', 'analyst_ratio_to_current': 0.7046317388003037}]\n",
      "[{'ticker': 'ARCO', 'analyst_ratio_to_current': 0.7046317388003037}]\n",
      "[{'ticker': 'ARDT', 'analyst_ratio_to_current': 0.7843478260869565}]\n",
      "[{'ticker': 'ARE', 'analyst_ratio_to_current': 0.8411940298507462}]\n",
      "[{'ticker': 'ARES', 'analyst_ratio_to_current': 1.0257363969044333}]\n"
     ]
    },
    {
     "name": "stderr",
     "output_type": "stream",
     "text": [
      "404 Client Error: Not Found for url: https://query2.finance.yahoo.com/v10/finance/quoteSummary/ARES%5EB?modules=financialData&corsDomain=finance.yahoo.com&formatted=false&symbol=ARES%5EB&crumb=zgTXR7VBJ.z\n"
     ]
    },
    {
     "name": "stdout",
     "output_type": "stream",
     "text": [
      "[{'ticker': 'ARES', 'analyst_ratio_to_current': 1.0257363969044333}]\n"
     ]
    },
    {
     "name": "stderr",
     "output_type": "stream",
     "text": [
      "404 Client Error: Not Found for url: https://query2.finance.yahoo.com/v10/finance/quoteSummary/ARGD?modules=financialData&corsDomain=finance.yahoo.com&formatted=false&symbol=ARGD&crumb=zgTXR7VBJ.z\n"
     ]
    },
    {
     "name": "stdout",
     "output_type": "stream",
     "text": [
      "[{'ticker': 'ARES', 'analyst_ratio_to_current': 1.0257363969044333}]\n"
     ]
    },
    {
     "name": "stderr",
     "output_type": "stream",
     "text": [
      "404 Client Error: Not Found for url: https://query2.finance.yahoo.com/v10/finance/quoteSummary/ARGO%5EA?modules=financialData&corsDomain=finance.yahoo.com&formatted=false&symbol=ARGO%5EA&crumb=zgTXR7VBJ.z\n"
     ]
    },
    {
     "name": "stdout",
     "output_type": "stream",
     "text": [
      "[{'ticker': 'ARES', 'analyst_ratio_to_current': 1.0257363969044333}]\n",
      "[{'ticker': 'ARI', 'analyst_ratio_to_current': 0.9693318729463306}]\n",
      "[{'ticker': 'ARIS', 'analyst_ratio_to_current': 0.7906005221932115}]\n",
      "[{'ticker': 'ARIS', 'analyst_ratio_to_current': 0.7906005221932115}]\n",
      "[{'ticker': 'ARLO', 'analyst_ratio_to_current': 0.6038461538461539}]\n",
      "[{'ticker': 'ARMK', 'analyst_ratio_to_current': 0.9376687116564417}]\n",
      "[{'ticker': 'AROC', 'analyst_ratio_to_current': 0.8274747474747475}]\n",
      "[{'ticker': 'ARR', 'analyst_ratio_to_current': 0.9317073170731708}]\n"
     ]
    },
    {
     "name": "stderr",
     "output_type": "stream",
     "text": [
      "404 Client Error: Not Found for url: https://query2.finance.yahoo.com/v10/finance/quoteSummary/ARR%5EC?modules=financialData&corsDomain=finance.yahoo.com&formatted=false&symbol=ARR%5EC&crumb=zgTXR7VBJ.z\n"
     ]
    },
    {
     "name": "stdout",
     "output_type": "stream",
     "text": [
      "[{'ticker': 'ARR', 'analyst_ratio_to_current': 0.9317073170731708}]\n",
      "[{'ticker': 'ARW', 'analyst_ratio_to_current': 1.016328700539227}]\n",
      "[{'ticker': 'AS', 'analyst_ratio_to_current': 0.905793450881612}]\n",
      "[{'ticker': 'AS', 'analyst_ratio_to_current': 0.905793450881612}]\n",
      "[{'ticker': 'ASAI', 'analyst_ratio_to_current': 0.6616314199395771}]\n",
      "[{'ticker': 'ASAN', 'analyst_ratio_to_current': 0.8421052631578947}]\n",
      "[{'ticker': 'ASB', 'analyst_ratio_to_current': 0.968241042345277}]\n"
     ]
    },
    {
     "name": "stderr",
     "output_type": "stream",
     "text": [
      "404 Client Error: Not Found for url: https://query2.finance.yahoo.com/v10/finance/quoteSummary/ASB%5EE?modules=financialData&corsDomain=finance.yahoo.com&formatted=false&symbol=ASB%5EE&crumb=zgTXR7VBJ.z\n"
     ]
    },
    {
     "name": "stdout",
     "output_type": "stream",
     "text": [
      "[{'ticker': 'ASB', 'analyst_ratio_to_current': 0.968241042345277}]\n"
     ]
    },
    {
     "name": "stderr",
     "output_type": "stream",
     "text": [
      "404 Client Error: Not Found for url: https://query2.finance.yahoo.com/v10/finance/quoteSummary/ASB%5EF?modules=financialData&corsDomain=finance.yahoo.com&formatted=false&symbol=ASB%5EF&crumb=zgTXR7VBJ.z\n"
     ]
    },
    {
     "name": "stdout",
     "output_type": "stream",
     "text": [
      "[{'ticker': 'ASB', 'analyst_ratio_to_current': 0.968241042345277}]\n"
     ]
    },
    {
     "name": "stderr",
     "output_type": "stream",
     "text": [
      "404 Client Error: Not Found for url: https://query2.finance.yahoo.com/v10/finance/quoteSummary/ASBA?modules=financialData&corsDomain=finance.yahoo.com&formatted=false&symbol=ASBA&crumb=zgTXR7VBJ.z\n"
     ]
    },
    {
     "name": "stdout",
     "output_type": "stream",
     "text": [
      "[{'ticker': 'ASB', 'analyst_ratio_to_current': 0.968241042345277}]\n",
      "[{'ticker': 'ASC', 'analyst_ratio_to_current': 0.6495495495495496}]\n",
      "[{'ticker': 'ASC', 'analyst_ratio_to_current': 0.6495495495495496}]\n",
      "[{'ticker': 'ASC', 'analyst_ratio_to_current': 0.6495495495495496}]\n",
      "[{'ticker': 'ASGN', 'analyst_ratio_to_current': 0.9666563754245138}]\n",
      "[{'ticker': 'ASH', 'analyst_ratio_to_current': 0.8360207172872081}]\n",
      "[{'ticker': 'ASIX', 'analyst_ratio_to_current': 0.8171830985915494}]\n",
      "[{'ticker': 'ASPN', 'analyst_ratio_to_current': 0.5820627802690582}]\n",
      "[{'ticker': 'ASR', 'analyst_ratio_to_current': 0.8646425134270901}]\n",
      "[{'ticker': 'ASX', 'analyst_ratio_to_current': 0.9269406392694065}]\n"
     ]
    },
    {
     "name": "stderr",
     "output_type": "stream",
     "text": [
      "404 Client Error: Not Found for url: https://query2.finance.yahoo.com/v10/finance/quoteSummary/ATCO%5ED?modules=financialData&corsDomain=finance.yahoo.com&formatted=false&symbol=ATCO%5ED&crumb=zgTXR7VBJ.z\n"
     ]
    },
    {
     "name": "stdout",
     "output_type": "stream",
     "text": [
      "[{'ticker': 'ASX', 'analyst_ratio_to_current': 0.9269406392694065}]\n"
     ]
    },
    {
     "name": "stderr",
     "output_type": "stream",
     "text": [
      "404 Client Error: Not Found for url: https://query2.finance.yahoo.com/v10/finance/quoteSummary/ATCO%5EH?modules=financialData&corsDomain=finance.yahoo.com&formatted=false&symbol=ATCO%5EH&crumb=zgTXR7VBJ.z\n"
     ]
    },
    {
     "name": "stdout",
     "output_type": "stream",
     "text": [
      "[{'ticker': 'ASX', 'analyst_ratio_to_current': 0.9269406392694065}]\n",
      "[{'ticker': 'ATEN', 'analyst_ratio_to_current': 0.8564705882352941}]\n",
      "[{'ticker': 'ATGE', 'analyst_ratio_to_current': 0.8428735632183908}]\n"
     ]
    },
    {
     "name": "stderr",
     "output_type": "stream",
     "text": [
      "404 Client Error: Not Found for url: https://query2.finance.yahoo.com/v10/finance/quoteSummary/ATH%5EA?modules=financialData&corsDomain=finance.yahoo.com&formatted=false&symbol=ATH%5EA&crumb=zgTXR7VBJ.z\n"
     ]
    },
    {
     "name": "stdout",
     "output_type": "stream",
     "text": [
      "[{'ticker': 'ATGE', 'analyst_ratio_to_current': 0.8428735632183908}]\n"
     ]
    },
    {
     "name": "stderr",
     "output_type": "stream",
     "text": [
      "404 Client Error: Not Found for url: https://query2.finance.yahoo.com/v10/finance/quoteSummary/ATH%5EB?modules=financialData&corsDomain=finance.yahoo.com&formatted=false&symbol=ATH%5EB&crumb=zgTXR7VBJ.z\n"
     ]
    },
    {
     "name": "stdout",
     "output_type": "stream",
     "text": [
      "[{'ticker': 'ATGE', 'analyst_ratio_to_current': 0.8428735632183908}]\n"
     ]
    },
    {
     "name": "stderr",
     "output_type": "stream",
     "text": [
      "404 Client Error: Not Found for url: https://query2.finance.yahoo.com/v10/finance/quoteSummary/ATH%5EC?modules=financialData&corsDomain=finance.yahoo.com&formatted=false&symbol=ATH%5EC&crumb=zgTXR7VBJ.z\n"
     ]
    },
    {
     "name": "stdout",
     "output_type": "stream",
     "text": [
      "[{'ticker': 'ATGE', 'analyst_ratio_to_current': 0.8428735632183908}]\n"
     ]
    },
    {
     "name": "stderr",
     "output_type": "stream",
     "text": [
      "404 Client Error: Not Found for url: https://query2.finance.yahoo.com/v10/finance/quoteSummary/ATH%5ED?modules=financialData&corsDomain=finance.yahoo.com&formatted=false&symbol=ATH%5ED&crumb=zgTXR7VBJ.z\n"
     ]
    },
    {
     "name": "stdout",
     "output_type": "stream",
     "text": [
      "[{'ticker': 'ATGE', 'analyst_ratio_to_current': 0.8428735632183908}]\n"
     ]
    },
    {
     "name": "stderr",
     "output_type": "stream",
     "text": [
      "404 Client Error: Not Found for url: https://query2.finance.yahoo.com/v10/finance/quoteSummary/ATH%5EE?modules=financialData&corsDomain=finance.yahoo.com&formatted=false&symbol=ATH%5EE&crumb=zgTXR7VBJ.z\n"
     ]
    },
    {
     "name": "stdout",
     "output_type": "stream",
     "text": [
      "[{'ticker': 'ATGE', 'analyst_ratio_to_current': 0.8428735632183908}]\n",
      "[{'ticker': 'ATHM', 'analyst_ratio_to_current': 0.9850349185234453}]\n"
     ]
    },
    {
     "name": "stderr",
     "output_type": "stream",
     "text": [
      "404 Client Error: Not Found for url: https://query2.finance.yahoo.com/v10/finance/quoteSummary/ATHS?modules=financialData&corsDomain=finance.yahoo.com&formatted=false&symbol=ATHS&crumb=zgTXR7VBJ.z\n"
     ]
    },
    {
     "name": "stdout",
     "output_type": "stream",
     "text": [
      "[{'ticker': 'ATHM', 'analyst_ratio_to_current': 0.9850349185234453}]\n",
      "[{'ticker': 'ATI', 'analyst_ratio_to_current': 0.8647243879086308}]\n",
      "[{'ticker': 'ATIP', 'analyst_ratio_to_current': 1.0709090909090908}]\n",
      "[{'ticker': 'ATKR', 'analyst_ratio_to_current': 0.7402030712427624}]\n",
      "[{'ticker': 'ATMU', 'analyst_ratio_to_current': 0.9463692453725677}]\n",
      "[{'ticker': 'ATO', 'analyst_ratio_to_current': 0.9686451701239133}]\n",
      "[{'ticker': 'ATR', 'analyst_ratio_to_current': 0.9446927374301676}]\n",
      "[{'ticker': 'ATR', 'analyst_ratio_to_current': 0.9446927374301676}]\n",
      "[{'ticker': 'ATUS', 'analyst_ratio_to_current': 1.1222707423580784}]\n",
      "[{'ticker': 'AU', 'analyst_ratio_to_current': 0.8564179104477613}]\n",
      "[{'ticker': 'AUB', 'analyst_ratio_to_current': 0.8749425287356323}]\n"
     ]
    },
    {
     "name": "stderr",
     "output_type": "stream",
     "text": [
      "404 Client Error: Not Found for url: https://query2.finance.yahoo.com/v10/finance/quoteSummary/AUB%5EA?modules=financialData&corsDomain=finance.yahoo.com&formatted=false&symbol=AUB%5EA&crumb=zgTXR7VBJ.z\n"
     ]
    },
    {
     "name": "stdout",
     "output_type": "stream",
     "text": [
      "[{'ticker': 'AUB', 'analyst_ratio_to_current': 0.8749425287356323}]\n",
      "[{'ticker': 'AUNA', 'analyst_ratio_to_current': 0.4551994767822106}]\n",
      "[{'ticker': 'AVA', 'analyst_ratio_to_current': 0.95475}]\n",
      "[{'ticker': 'AVA', 'analyst_ratio_to_current': 0.95475}]\n",
      "[{'ticker': 'AVB', 'analyst_ratio_to_current': 0.973161498872868}]\n",
      "[{'ticker': 'AVD', 'analyst_ratio_to_current': 0.4336}]\n",
      "[{'ticker': 'AVD', 'analyst_ratio_to_current': 0.4336}]\n",
      "[{'ticker': 'AVNS', 'analyst_ratio_to_current': 0.8870588235294118}]\n",
      "[{'ticker': 'AVNT', 'analyst_ratio_to_current': 0.9108173524483336}]\n",
      "[{'ticker': 'AVTR', 'analyst_ratio_to_current': 0.8329654157468728}]\n",
      "[{'ticker': 'AVY', 'analyst_ratio_to_current': 0.877208592856235}]\n",
      "[{'ticker': 'AVY', 'analyst_ratio_to_current': 0.877208592856235}]\n",
      "[{'ticker': 'AWI', 'analyst_ratio_to_current': 0.9859964093357272}]\n",
      "[{'ticker': 'AWK', 'analyst_ratio_to_current': 0.966167768882701}]\n",
      "[{'ticker': 'AWK', 'analyst_ratio_to_current': 0.966167768882701}]\n",
      "[{'ticker': 'AWR', 'analyst_ratio_to_current': 0.9516571428571428}]\n",
      "[{'ticker': 'AX', 'analyst_ratio_to_current': 0.8516071655444036}]\n",
      "[{'ticker': 'AXL', 'analyst_ratio_to_current': 0.8898305084745762}]\n",
      "[{'ticker': 'AXP', 'analyst_ratio_to_current': 0.9868765450050896}]\n",
      "[{'ticker': 'AXP', 'analyst_ratio_to_current': 0.9868765450050896}]\n",
      "[{'ticker': 'AXS', 'analyst_ratio_to_current': 0.8527082673424138}]\n"
     ]
    },
    {
     "name": "stderr",
     "output_type": "stream",
     "text": [
      "404 Client Error: Not Found for url: https://query2.finance.yahoo.com/v10/finance/quoteSummary/AXS%5EE?modules=financialData&corsDomain=finance.yahoo.com&formatted=false&symbol=AXS%5EE&crumb=zgTXR7VBJ.z\n"
     ]
    },
    {
     "name": "stdout",
     "output_type": "stream",
     "text": [
      "[{'ticker': 'AXS', 'analyst_ratio_to_current': 0.8527082673424138}]\n",
      "[{'ticker': 'AXTA', 'analyst_ratio_to_current': 0.8534772182254197}]\n",
      "[{'ticker': 'AYI', 'analyst_ratio_to_current': 0.9804876485854345}]\n",
      "[{'ticker': 'AZEK', 'analyst_ratio_to_current': 0.8693147964250248}]\n",
      "[{'ticker': 'AZO', 'analyst_ratio_to_current': 0.926612210315282}]\n",
      "[{'ticker': 'AZUL', 'analyst_ratio_to_current': 0.642}]\n",
      "[{'ticker': 'AZZ', 'analyst_ratio_to_current': 0.8048453608247422}]\n",
      "[{'ticker': 'B', 'analyst_ratio_to_current': 0.9766179540709813}]\n",
      "[{'ticker': 'BA', 'analyst_ratio_to_current': 0.8016704793318082}]\n",
      "[{'ticker': 'BABA', 'analyst_ratio_to_current': 0.8424380374304502}]\n",
      "[{'ticker': 'BAC', 'analyst_ratio_to_current': 0.9265217391304347}]\n"
     ]
    },
    {
     "name": "stderr",
     "output_type": "stream",
     "text": [
      "404 Client Error: Not Found for url: https://query2.finance.yahoo.com/v10/finance/quoteSummary/BAC%5EB?modules=financialData&corsDomain=finance.yahoo.com&formatted=false&symbol=BAC%5EB&crumb=zgTXR7VBJ.z\n"
     ]
    },
    {
     "name": "stdout",
     "output_type": "stream",
     "text": [
      "[{'ticker': 'BAC', 'analyst_ratio_to_current': 0.9265217391304347}]\n"
     ]
    },
    {
     "name": "stderr",
     "output_type": "stream",
     "text": [
      "404 Client Error: Not Found for url: https://query2.finance.yahoo.com/v10/finance/quoteSummary/BAC%5EE?modules=financialData&corsDomain=finance.yahoo.com&formatted=false&symbol=BAC%5EE&crumb=zgTXR7VBJ.z\n"
     ]
    },
    {
     "ename": "KeyboardInterrupt",
     "evalue": "",
     "output_type": "error",
     "traceback": [
      "\u001b[0;31m---------------------------------------------------------------------------\u001b[0m",
      "\u001b[0;31mKeyboardInterrupt\u001b[0m                         Traceback (most recent call last)",
      "\u001b[0;32m/var/folders/7s/rqlglvnd5j59m1s85bx_4y3h0000gn/T/ipykernel_43053/1525190006.py\u001b[0m in \u001b[0;36m<module>\u001b[0;34m\u001b[0m\n\u001b[1;32m      8\u001b[0m         \u001b[0;32mexcept\u001b[0m \u001b[0mException\u001b[0m \u001b[0;32mas\u001b[0m \u001b[0me\u001b[0m\u001b[0;34m:\u001b[0m\u001b[0;34m\u001b[0m\u001b[0;34m\u001b[0m\u001b[0m\n\u001b[1;32m      9\u001b[0m             \u001b[0;32mpass\u001b[0m\u001b[0;34m\u001b[0m\u001b[0;34m\u001b[0m\u001b[0m\n\u001b[0;32m---> 10\u001b[0;31m         \u001b[0mtime\u001b[0m\u001b[0;34m.\u001b[0m\u001b[0msleep\u001b[0m\u001b[0;34m(\u001b[0m\u001b[0;36m0.5\u001b[0m\u001b[0;34m)\u001b[0m\u001b[0;34m\u001b[0m\u001b[0;34m\u001b[0m\u001b[0m\n\u001b[0m\u001b[1;32m     11\u001b[0m         \u001b[0mprint\u001b[0m\u001b[0;34m(\u001b[0m\u001b[0mall_stocks\u001b[0m\u001b[0;34m[\u001b[0m\u001b[0;34m-\u001b[0m\u001b[0;36m1\u001b[0m\u001b[0;34m]\u001b[0m\u001b[0;34m)\u001b[0m\u001b[0;34m\u001b[0m\u001b[0;34m\u001b[0m\u001b[0m\n",
      "\u001b[0;31mKeyboardInterrupt\u001b[0m: "
     ]
    }
   ],
   "source": [
    "import time\n",
    "all_stocks = []\n",
    "seen = set()\n",
    "for exchange in exchanges:\n",
    "    for ticker in by_exchange[exchange].keys():\n",
    "        if ticker in seen:\n",
    "            continue\n",
    "        try:\n",
    "            rec = yf.Ticker(ticker).get_analyst_price_targets()\n",
    "            all_stocks.append([{'ticker':ticker, 'analyst_ratio_to_current': rec['current']/rec['mean']}])\n",
    "        except Exception as e:\n",
    "            pass\n",
    "        seen.add(ticker)\n",
    "        \n",
    "        print(all_stocks[-1])"
   ]
  },
  {
   "cell_type": "code",
   "execution_count": 7,
   "id": "23d88378",
   "metadata": {},
   "outputs": [],
   "source": [
    "import yfinance as yf\n"
   ]
  },
  {
   "cell_type": "code",
   "execution_count": 15,
   "id": "d1ad2677",
   "metadata": {},
   "outputs": [],
   "source": [
    "ticker = yf.Ticker('MSFT')"
   ]
  },
  {
   "cell_type": "code",
   "execution_count": 17,
   "id": "bffcbce0",
   "metadata": {},
   "outputs": [],
   "source": [
    "d = ticker.recommendations"
   ]
  },
  {
   "cell_type": "code",
   "execution_count": 24,
   "id": "512921eb",
   "metadata": {},
   "outputs": [
    {
     "data": {
      "text/plain": [
       "{'current': 426.59,\n",
       " 'low': 440.0,\n",
       " 'high': 600.0,\n",
       " 'mean': 495.89,\n",
       " 'median': 500.0}"
      ]
     },
     "execution_count": 24,
     "metadata": {},
     "output_type": "execute_result"
    }
   ],
   "source": [
    "ticker.get_analyst_price_targets()"
   ]
  },
  {
   "cell_type": "code",
   "execution_count": null,
   "id": "20f22a0d",
   "metadata": {},
   "outputs": [],
   "source": []
  }
 ],
 "metadata": {
  "kernelspec": {
   "display_name": "Python 3 (ipykernel)",
   "language": "python",
   "name": "python3"
  },
  "language_info": {
   "codemirror_mode": {
    "name": "ipython",
    "version": 3
   },
   "file_extension": ".py",
   "mimetype": "text/x-python",
   "name": "python",
   "nbconvert_exporter": "python",
   "pygments_lexer": "ipython3",
   "version": "3.9.13"
  }
 },
 "nbformat": 4,
 "nbformat_minor": 5
}
