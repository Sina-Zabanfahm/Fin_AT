{
 "cells": [
  {
   "cell_type": "code",
   "execution_count": 2,
   "id": "3410a131",
   "metadata": {},
   "outputs": [],
   "source": [
    "import os\n",
    "os.getcwd()\n",
    "os.chdir('..')"
   ]
  },
  {
   "cell_type": "code",
   "execution_count": 30,
   "id": "a5860e72",
   "metadata": {},
   "outputs": [],
   "source": [
    "from Sources.utils import get_tickers_json\n",
    "from collections import defaultdict\n",
    "exchanges = [\"NYSE\", \"NASDAQ\"]\n",
    "by_exchange = defaultdict(dict)"
   ]
  },
  {
   "cell_type": "code",
   "execution_count": 31,
   "id": "12126375",
   "metadata": {},
   "outputs": [],
   "source": [
    "for exchange in exchanges:\n",
    "    by_exchange[exchange] = get_tickers_json(exchange)"
   ]
  },
  {
   "cell_type": "code",
   "execution_count": 36,
   "id": "270d33c1",
   "metadata": {},
   "outputs": [
    {
     "name": "stdout",
     "output_type": "stream",
     "text": [
      "[{'ticker': 'A', 'analyst_ratio_to_current': 0.8839459713728915}]\n",
      "[{'ticker': 'AA', 'analyst_ratio_to_current': 0.8725242309313105}]\n",
      "[{'ticker': 'AA', 'analyst_ratio_to_current': 0.8725242309313105}]\n"
     ]
    },
    {
     "name": "stderr",
     "output_type": "stream",
     "text": [
      "404 Client Error: Not Found for url: https://query2.finance.yahoo.com/v10/finance/quoteSummary/AAM?modules=financialData&corsDomain=finance.yahoo.com&formatted=false&symbol=AAM&crumb=zgTXR7VBJ.z\n"
     ]
    },
    {
     "name": "stdout",
     "output_type": "stream",
     "text": [
      "[{'ticker': 'AA', 'analyst_ratio_to_current': 0.8725242309313105}]\n",
      "[{'ticker': 'AAP', 'analyst_ratio_to_current': 0.7552433312970882}]\n",
      "[{'ticker': 'AAT', 'analyst_ratio_to_current': 1.120408163265306}]\n",
      "[{'ticker': 'AB', 'analyst_ratio_to_current': 0.8834883720930233}]\n",
      "[{'ticker': 'ABBV', 'analyst_ratio_to_current': 0.9392888976923839}]\n",
      "[{'ticker': 'ABCB', 'analyst_ratio_to_current': 0.9077586206896553}]\n",
      "[{'ticker': 'ABEV', 'analyst_ratio_to_current': 0.7307692307692307}]\n",
      "[{'ticker': 'ABG', 'analyst_ratio_to_current': 0.9116921957725418}]\n",
      "[{'ticker': 'ABM', 'analyst_ratio_to_current': 0.9340869565217391}]\n",
      "[{'ticker': 'ABR', 'analyst_ratio_to_current': 1.0447042640990372}]\n"
     ]
    },
    {
     "name": "stderr",
     "output_type": "stream",
     "text": [
      "404 Client Error: Not Found for url: https://query2.finance.yahoo.com/v10/finance/quoteSummary/ABR%5ED?modules=financialData&corsDomain=finance.yahoo.com&formatted=false&symbol=ABR%5ED&crumb=zgTXR7VBJ.z\n"
     ]
    },
    {
     "name": "stdout",
     "output_type": "stream",
     "text": [
      "[{'ticker': 'ABR', 'analyst_ratio_to_current': 1.0447042640990372}]\n"
     ]
    },
    {
     "name": "stderr",
     "output_type": "stream",
     "text": [
      "404 Client Error: Not Found for url: https://query2.finance.yahoo.com/v10/finance/quoteSummary/ABR%5EE?modules=financialData&corsDomain=finance.yahoo.com&formatted=false&symbol=ABR%5EE&crumb=zgTXR7VBJ.z\n"
     ]
    },
    {
     "name": "stdout",
     "output_type": "stream",
     "text": [
      "[{'ticker': 'ABR', 'analyst_ratio_to_current': 1.0447042640990372}]\n"
     ]
    },
    {
     "name": "stderr",
     "output_type": "stream",
     "text": [
      "404 Client Error: Not Found for url: https://query2.finance.yahoo.com/v10/finance/quoteSummary/ABR%5EF?modules=financialData&corsDomain=finance.yahoo.com&formatted=false&symbol=ABR%5EF&crumb=zgTXR7VBJ.z\n"
     ]
    },
    {
     "name": "stdout",
     "output_type": "stream",
     "text": [
      "[{'ticker': 'ABR', 'analyst_ratio_to_current': 1.0447042640990372}]\n",
      "[{'ticker': 'ABT', 'analyst_ratio_to_current': 0.8790844636251541}]\n",
      "[{'ticker': 'ABT', 'analyst_ratio_to_current': 0.8790844636251541}]\n",
      "[{'ticker': 'ACA', 'analyst_ratio_to_current': 0.8786372007366483}]\n",
      "[{'ticker': 'ACCO', 'analyst_ratio_to_current': 0.4629803186504218}]\n",
      "[{'ticker': 'ACEL', 'analyst_ratio_to_current': 0.7743694614860259}]\n",
      "[{'ticker': 'ACHR', 'analyst_ratio_to_current': 0.3589473684210526}]\n",
      "[{'ticker': 'ACI', 'analyst_ratio_to_current': 0.7797619047619048}]\n",
      "[{'ticker': 'ACM', 'analyst_ratio_to_current': 0.9392622805461962}]\n",
      "[{'ticker': 'ACN', 'analyst_ratio_to_current': 0.9397627965043694}]\n",
      "[{'ticker': 'ACN', 'analyst_ratio_to_current': 0.9397627965043694}]\n"
     ]
    },
    {
     "name": "stderr",
     "output_type": "stream",
     "text": [
      "404 Client Error: Not Found for url: https://query2.finance.yahoo.com/v10/finance/quoteSummary/ACP%5EA?modules=financialData&corsDomain=finance.yahoo.com&formatted=false&symbol=ACP%5EA&crumb=zgTXR7VBJ.z\n"
     ]
    },
    {
     "name": "stdout",
     "output_type": "stream",
     "text": [
      "[{'ticker': 'ACN', 'analyst_ratio_to_current': 0.9397627965043694}]\n",
      "[{'ticker': 'ACR', 'analyst_ratio_to_current': 0.8064}]\n"
     ]
    },
    {
     "name": "stderr",
     "output_type": "stream",
     "text": [
      "404 Client Error: Not Found for url: https://query2.finance.yahoo.com/v10/finance/quoteSummary/ACR%5EC?modules=financialData&corsDomain=finance.yahoo.com&formatted=false&symbol=ACR%5EC&crumb=zgTXR7VBJ.z\n"
     ]
    },
    {
     "name": "stdout",
     "output_type": "stream",
     "text": [
      "[{'ticker': 'ACR', 'analyst_ratio_to_current': 0.8064}]\n"
     ]
    },
    {
     "name": "stderr",
     "output_type": "stream",
     "text": [
      "404 Client Error: Not Found for url: https://query2.finance.yahoo.com/v10/finance/quoteSummary/ACR%5ED?modules=financialData&corsDomain=finance.yahoo.com&formatted=false&symbol=ACR%5ED&crumb=zgTXR7VBJ.z\n"
     ]
    },
    {
     "name": "stdout",
     "output_type": "stream",
     "text": [
      "[{'ticker': 'ACR', 'analyst_ratio_to_current': 0.8064}]\n",
      "[{'ticker': 'ACRE', 'analyst_ratio_to_current': 0.9500000000000001}]\n",
      "[{'ticker': 'ACV', 'analyst_ratio_to_current': 0.5664771188735446}]\n",
      "[{'ticker': 'ADC', 'analyst_ratio_to_current': 0.9554671457905545}]\n"
     ]
    },
    {
     "name": "stderr",
     "output_type": "stream",
     "text": [
      "404 Client Error: Not Found for url: https://query2.finance.yahoo.com/v10/finance/quoteSummary/ADC%5EA?modules=financialData&corsDomain=finance.yahoo.com&formatted=false&symbol=ADC%5EA&crumb=zgTXR7VBJ.z\n"
     ]
    },
    {
     "name": "stdout",
     "output_type": "stream",
     "text": [
      "[{'ticker': 'ADC', 'analyst_ratio_to_current': 0.9554671457905545}]\n",
      "[{'ticker': 'ADCT', 'analyst_ratio_to_current': 0.31224489795918364}]\n",
      "[{'ticker': 'ADM', 'analyst_ratio_to_current': 0.9277147487844408}]\n",
      "[{'ticker': 'ADNT', 'analyst_ratio_to_current': 0.8295981452859351}]\n",
      "[{'ticker': 'ADT', 'analyst_ratio_to_current': 0.7865528281750268}]\n",
      "[{'ticker': 'ADT', 'analyst_ratio_to_current': 0.7865528281750268}]\n",
      "[{'ticker': 'AEE', 'analyst_ratio_to_current': 0.9884464385866517}]\n"
     ]
    },
    {
     "name": "stderr",
     "output_type": "stream",
     "text": [
      "404 Client Error: Not Found for url: https://query2.finance.yahoo.com/v10/finance/quoteSummary/AEFC?modules=financialData&corsDomain=finance.yahoo.com&formatted=false&symbol=AEFC&crumb=zgTXR7VBJ.z\n"
     ]
    },
    {
     "name": "stdout",
     "output_type": "stream",
     "text": [
      "[{'ticker': 'AEE', 'analyst_ratio_to_current': 0.9884464385866517}]\n",
      "[{'ticker': 'AEG', 'analyst_ratio_to_current': 0.9289855072463767}]\n",
      "[{'ticker': 'AEM', 'analyst_ratio_to_current': 0.9342091095079142}]\n",
      "[{'ticker': 'AEO', 'analyst_ratio_to_current': 0.854920100925147}]\n",
      "[{'ticker': 'AER', 'analyst_ratio_to_current': 0.8907119021134595}]\n",
      "[{'ticker': 'AES', 'analyst_ratio_to_current': 0.765947888589398}]\n",
      "[{'ticker': 'AESI', 'analyst_ratio_to_current': 0.8141520943472956}]\n",
      "[{'ticker': 'AEVA', 'analyst_ratio_to_current': 0.45070422535211274}]\n",
      "[{'ticker': 'AEVA', 'analyst_ratio_to_current': 0.45070422535211274}]\n",
      "[{'ticker': 'AFG', 'analyst_ratio_to_current': 0.9178672316384181}]\n"
     ]
    },
    {
     "name": "stderr",
     "output_type": "stream",
     "text": [
      "404 Client Error: Not Found for url: https://query2.finance.yahoo.com/v10/finance/quoteSummary/AFGB?modules=financialData&corsDomain=finance.yahoo.com&formatted=false&symbol=AFGB&crumb=zgTXR7VBJ.z\n"
     ]
    },
    {
     "name": "stdout",
     "output_type": "stream",
     "text": [
      "[{'ticker': 'AFG', 'analyst_ratio_to_current': 0.9178672316384181}]\n"
     ]
    },
    {
     "name": "stderr",
     "output_type": "stream",
     "text": [
      "404 Client Error: Not Found for url: https://query2.finance.yahoo.com/v10/finance/quoteSummary/AFGC?modules=financialData&corsDomain=finance.yahoo.com&formatted=false&symbol=AFGC&crumb=zgTXR7VBJ.z\n"
     ]
    },
    {
     "name": "stdout",
     "output_type": "stream",
     "text": [
      "[{'ticker': 'AFG', 'analyst_ratio_to_current': 0.9178672316384181}]\n",
      "[{'ticker': 'AFG', 'analyst_ratio_to_current': 0.9178672316384181}]\n",
      "[{'ticker': 'AFG', 'analyst_ratio_to_current': 0.9178672316384181}]\n",
      "[{'ticker': 'AFL', 'analyst_ratio_to_current': 1.0696609508963368}]\n",
      "[{'ticker': 'AG', 'analyst_ratio_to_current': 0.9745547073791349}]\n",
      "[{'ticker': 'AGCO', 'analyst_ratio_to_current': 0.9206650402096322}]\n",
      "[{'ticker': 'AGCO', 'analyst_ratio_to_current': 0.9206650402096322}]\n",
      "[{'ticker': 'AGI', 'analyst_ratio_to_current': 0.859538784067086}]\n",
      "[{'ticker': 'AGL', 'analyst_ratio_to_current': 0.4141104294478528}]\n",
      "[{'ticker': 'AGM', 'analyst_ratio_to_current': 0.8532110091743119}]\n"
     ]
    },
    {
     "name": "stderr",
     "output_type": "stream",
     "text": [
      "404 Client Error: Not Found for url: https://query2.finance.yahoo.com/v10/finance/quoteSummary/AGM%5ED?modules=financialData&corsDomain=finance.yahoo.com&formatted=false&symbol=AGM%5ED&crumb=zgTXR7VBJ.z\n"
     ]
    },
    {
     "name": "stdout",
     "output_type": "stream",
     "text": [
      "[{'ticker': 'AGM', 'analyst_ratio_to_current': 0.8532110091743119}]\n"
     ]
    },
    {
     "name": "stderr",
     "output_type": "stream",
     "text": [
      "404 Client Error: Not Found for url: https://query2.finance.yahoo.com/v10/finance/quoteSummary/AGM%5EE?modules=financialData&corsDomain=finance.yahoo.com&formatted=false&symbol=AGM%5EE&crumb=zgTXR7VBJ.z\n"
     ]
    },
    {
     "name": "stdout",
     "output_type": "stream",
     "text": [
      "[{'ticker': 'AGM', 'analyst_ratio_to_current': 0.8532110091743119}]\n"
     ]
    },
    {
     "name": "stderr",
     "output_type": "stream",
     "text": [
      "404 Client Error: Not Found for url: https://query2.finance.yahoo.com/v10/finance/quoteSummary/AGM%5EF?modules=financialData&corsDomain=finance.yahoo.com&formatted=false&symbol=AGM%5EF&crumb=zgTXR7VBJ.z\n"
     ]
    },
    {
     "name": "stdout",
     "output_type": "stream",
     "text": [
      "[{'ticker': 'AGM', 'analyst_ratio_to_current': 0.8532110091743119}]\n"
     ]
    },
    {
     "name": "stderr",
     "output_type": "stream",
     "text": [
      "404 Client Error: Not Found for url: https://query2.finance.yahoo.com/v10/finance/quoteSummary/AGM%5EG?modules=financialData&corsDomain=finance.yahoo.com&formatted=false&symbol=AGM%5EG&crumb=zgTXR7VBJ.z\n"
     ]
    },
    {
     "name": "stdout",
     "output_type": "stream",
     "text": [
      "[{'ticker': 'AGM', 'analyst_ratio_to_current': 0.8532110091743119}]\n",
      "[{'ticker': 'AGO', 'analyst_ratio_to_current': 0.8433830845771145}]\n",
      "[{'ticker': 'AGR', 'analyst_ratio_to_current': 0.9620967741935483}]\n",
      "[{'ticker': 'AGRO', 'analyst_ratio_to_current': 0.9268680445151033}]\n",
      "[{'ticker': 'AGS', 'analyst_ratio_to_current': 0.9192399049881235}]\n",
      "[{'ticker': 'AGX', 'analyst_ratio_to_current': 1.6929032258064514}]\n",
      "[{'ticker': 'AHH', 'analyst_ratio_to_current': 0.9684210526315788}]\n"
     ]
    },
    {
     "name": "stderr",
     "output_type": "stream",
     "text": [
      "404 Client Error: Not Found for url: https://query2.finance.yahoo.com/v10/finance/quoteSummary/AHH%5EA?modules=financialData&corsDomain=finance.yahoo.com&formatted=false&symbol=AHH%5EA&crumb=zgTXR7VBJ.z\n"
     ]
    },
    {
     "name": "stdout",
     "output_type": "stream",
     "text": [
      "[{'ticker': 'AHH', 'analyst_ratio_to_current': 0.9684210526315788}]\n"
     ]
    },
    {
     "name": "stderr",
     "output_type": "stream",
     "text": [
      "404 Client Error: Not Found for url: https://query2.finance.yahoo.com/v10/finance/quoteSummary/AHL%5EC?modules=financialData&corsDomain=finance.yahoo.com&formatted=false&symbol=AHL%5EC&crumb=zgTXR7VBJ.z\n"
     ]
    },
    {
     "name": "stdout",
     "output_type": "stream",
     "text": [
      "[{'ticker': 'AHH', 'analyst_ratio_to_current': 0.9684210526315788}]\n"
     ]
    },
    {
     "name": "stderr",
     "output_type": "stream",
     "text": [
      "404 Client Error: Not Found for url: https://query2.finance.yahoo.com/v10/finance/quoteSummary/AHL%5ED?modules=financialData&corsDomain=finance.yahoo.com&formatted=false&symbol=AHL%5ED&crumb=zgTXR7VBJ.z\n"
     ]
    },
    {
     "name": "stdout",
     "output_type": "stream",
     "text": [
      "[{'ticker': 'AHH', 'analyst_ratio_to_current': 0.9684210526315788}]\n"
     ]
    },
    {
     "name": "stderr",
     "output_type": "stream",
     "text": [
      "404 Client Error: Not Found for url: https://query2.finance.yahoo.com/v10/finance/quoteSummary/AHL%5EE?modules=financialData&corsDomain=finance.yahoo.com&formatted=false&symbol=AHL%5EE&crumb=zgTXR7VBJ.z\n"
     ]
    },
    {
     "name": "stdout",
     "output_type": "stream",
     "text": [
      "[{'ticker': 'AHH', 'analyst_ratio_to_current': 0.9684210526315788}]\n",
      "[{'ticker': 'AHR', 'analyst_ratio_to_current': 0.9395584509591025}]\n",
      "[{'ticker': 'AHT', 'analyst_ratio_to_current': 2.8110599078341014}]\n"
     ]
    },
    {
     "name": "stderr",
     "output_type": "stream",
     "text": [
      "404 Client Error: Not Found for url: https://query2.finance.yahoo.com/v10/finance/quoteSummary/AHT%5ED?modules=financialData&corsDomain=finance.yahoo.com&formatted=false&symbol=AHT%5ED&crumb=zgTXR7VBJ.z\n"
     ]
    },
    {
     "name": "stdout",
     "output_type": "stream",
     "text": [
      "[{'ticker': 'AHT', 'analyst_ratio_to_current': 2.8110599078341014}]\n"
     ]
    },
    {
     "name": "stderr",
     "output_type": "stream",
     "text": [
      "404 Client Error: Not Found for url: https://query2.finance.yahoo.com/v10/finance/quoteSummary/AHT%5EF?modules=financialData&corsDomain=finance.yahoo.com&formatted=false&symbol=AHT%5EF&crumb=zgTXR7VBJ.z\n"
     ]
    },
    {
     "name": "stdout",
     "output_type": "stream",
     "text": [
      "[{'ticker': 'AHT', 'analyst_ratio_to_current': 2.8110599078341014}]\n"
     ]
    },
    {
     "name": "stderr",
     "output_type": "stream",
     "text": [
      "404 Client Error: Not Found for url: https://query2.finance.yahoo.com/v10/finance/quoteSummary/AHT%5EG?modules=financialData&corsDomain=finance.yahoo.com&formatted=false&symbol=AHT%5EG&crumb=zgTXR7VBJ.z\n"
     ]
    },
    {
     "name": "stdout",
     "output_type": "stream",
     "text": [
      "[{'ticker': 'AHT', 'analyst_ratio_to_current': 2.8110599078341014}]\n"
     ]
    },
    {
     "name": "stderr",
     "output_type": "stream",
     "text": [
      "404 Client Error: Not Found for url: https://query2.finance.yahoo.com/v10/finance/quoteSummary/AHT%5EH?modules=financialData&corsDomain=finance.yahoo.com&formatted=false&symbol=AHT%5EH&crumb=zgTXR7VBJ.z\n"
     ]
    },
    {
     "name": "stdout",
     "output_type": "stream",
     "text": [
      "[{'ticker': 'AHT', 'analyst_ratio_to_current': 2.8110599078341014}]\n"
     ]
    },
    {
     "name": "stderr",
     "output_type": "stream",
     "text": [
      "404 Client Error: Not Found for url: https://query2.finance.yahoo.com/v10/finance/quoteSummary/AHT%5EI?modules=financialData&corsDomain=finance.yahoo.com&formatted=false&symbol=AHT%5EI&crumb=zgTXR7VBJ.z\n"
     ]
    },
    {
     "name": "stdout",
     "output_type": "stream",
     "text": [
      "[{'ticker': 'AHT', 'analyst_ratio_to_current': 2.8110599078341014}]\n",
      "[{'ticker': 'AI', 'analyst_ratio_to_current': 1.048984468339307}]\n",
      "[{'ticker': 'AIG', 'analyst_ratio_to_current': 0.9141104294478527}]\n",
      "[{'ticker': 'AIN', 'analyst_ratio_to_current': 0.7838776174460237}]\n",
      "[{'ticker': 'AIN', 'analyst_ratio_to_current': 0.7838776174460237}]\n",
      "[{'ticker': 'AIR', 'analyst_ratio_to_current': 0.7637755742437555}]\n",
      "[{'ticker': 'AIT', 'analyst_ratio_to_current': 0.916800879915151}]\n",
      "[{'ticker': 'AIT', 'analyst_ratio_to_current': 0.916800879915151}]\n",
      "[{'ticker': 'AIZ', 'analyst_ratio_to_current': 0.887705667276051}]\n"
     ]
    },
    {
     "name": "stderr",
     "output_type": "stream",
     "text": [
      "404 Client Error: Not Found for url: https://query2.finance.yahoo.com/v10/finance/quoteSummary/AIZN?modules=financialData&corsDomain=finance.yahoo.com&formatted=false&symbol=AIZN&crumb=zgTXR7VBJ.z\n"
     ]
    },
    {
     "name": "stdout",
     "output_type": "stream",
     "text": [
      "[{'ticker': 'AIZ', 'analyst_ratio_to_current': 0.887705667276051}]\n",
      "[{'ticker': 'AJG', 'analyst_ratio_to_current': 0.9732516590096988}]\n",
      "[{'ticker': 'AJX', 'analyst_ratio_to_current': 0.535}]\n",
      "[{'ticker': 'AKA', 'analyst_ratio_to_current': 1.1849411764705882}]\n"
     ]
    },
    {
     "name": "stderr",
     "output_type": "stream",
     "text": [
      "404 Client Error: Not Found for url: https://query2.finance.yahoo.com/v10/finance/quoteSummary/AKO/A?modules=financialData&corsDomain=finance.yahoo.com&formatted=false&symbol=AKO%2FA&crumb=zgTXR7VBJ.z\n"
     ]
    },
    {
     "name": "stdout",
     "output_type": "stream",
     "text": [
      "[{'ticker': 'AKA', 'analyst_ratio_to_current': 1.1849411764705882}]\n"
     ]
    },
    {
     "name": "stderr",
     "output_type": "stream",
     "text": [
      "404 Client Error: Not Found for url: https://query2.finance.yahoo.com/v10/finance/quoteSummary/AKO/B?modules=financialData&corsDomain=finance.yahoo.com&formatted=false&symbol=AKO%2FB&crumb=zgTXR7VBJ.z\n"
     ]
    },
    {
     "name": "stdout",
     "output_type": "stream",
     "text": [
      "[{'ticker': 'AKA', 'analyst_ratio_to_current': 1.1849411764705882}]\n",
      "[{'ticker': 'AKR', 'analyst_ratio_to_current': 1.0081967213114755}]\n",
      "[{'ticker': 'AL', 'analyst_ratio_to_current': 0.7945229681978798}]\n",
      "[{'ticker': 'ALB', 'analyst_ratio_to_current': 0.8934000910332272}]\n"
     ]
    },
    {
     "name": "stderr",
     "output_type": "stream",
     "text": [
      "404 Client Error: Not Found for url: https://query2.finance.yahoo.com/v10/finance/quoteSummary/ALB%5EA?modules=financialData&corsDomain=finance.yahoo.com&formatted=false&symbol=ALB%5EA&crumb=zgTXR7VBJ.z\n"
     ]
    },
    {
     "name": "stdout",
     "output_type": "stream",
     "text": [
      "[{'ticker': 'ALB', 'analyst_ratio_to_current': 0.8934000910332272}]\n",
      "[{'ticker': 'ALC', 'analyst_ratio_to_current': 0.9268268855021493}]\n",
      "[{'ticker': 'ALE', 'analyst_ratio_to_current': 0.9972080037226618}]\n",
      "[{'ticker': 'ALEX', 'analyst_ratio_to_current': 0.8903529411764707}]\n",
      "[{'ticker': 'ALG', 'analyst_ratio_to_current': 0.816694021101993}]\n",
      "[{'ticker': 'ALIT', 'analyst_ratio_to_current': 0.6704014939309056}]\n",
      "[{'ticker': 'ALK', 'analyst_ratio_to_current': 0.87546468401487}]\n",
      "[{'ticker': 'ALL', 'analyst_ratio_to_current': 0.9128232342724817}]\n"
     ]
    },
    {
     "name": "stderr",
     "output_type": "stream",
     "text": [
      "404 Client Error: Not Found for url: https://query2.finance.yahoo.com/v10/finance/quoteSummary/ALL%5EB?modules=financialData&corsDomain=finance.yahoo.com&formatted=false&symbol=ALL%5EB&crumb=zgTXR7VBJ.z\n"
     ]
    },
    {
     "name": "stdout",
     "output_type": "stream",
     "text": [
      "[{'ticker': 'ALL', 'analyst_ratio_to_current': 0.9128232342724817}]\n"
     ]
    },
    {
     "name": "stderr",
     "output_type": "stream",
     "text": [
      "404 Client Error: Not Found for url: https://query2.finance.yahoo.com/v10/finance/quoteSummary/ALL%5EH?modules=financialData&corsDomain=finance.yahoo.com&formatted=false&symbol=ALL%5EH&crumb=zgTXR7VBJ.z\n"
     ]
    },
    {
     "name": "stdout",
     "output_type": "stream",
     "text": [
      "[{'ticker': 'ALL', 'analyst_ratio_to_current': 0.9128232342724817}]\n"
     ]
    },
    {
     "name": "stderr",
     "output_type": "stream",
     "text": [
      "404 Client Error: Not Found for url: https://query2.finance.yahoo.com/v10/finance/quoteSummary/ALL%5EI?modules=financialData&corsDomain=finance.yahoo.com&formatted=false&symbol=ALL%5EI&crumb=zgTXR7VBJ.z\n"
     ]
    },
    {
     "name": "stdout",
     "output_type": "stream",
     "text": [
      "[{'ticker': 'ALL', 'analyst_ratio_to_current': 0.9128232342724817}]\n"
     ]
    },
    {
     "name": "stderr",
     "output_type": "stream",
     "text": [
      "404 Client Error: Not Found for url: https://query2.finance.yahoo.com/v10/finance/quoteSummary/ALL%5EJ?modules=financialData&corsDomain=finance.yahoo.com&formatted=false&symbol=ALL%5EJ&crumb=zgTXR7VBJ.z\n"
     ]
    },
    {
     "name": "stdout",
     "output_type": "stream",
     "text": [
      "[{'ticker': 'ALL', 'analyst_ratio_to_current': 0.9128232342724817}]\n",
      "[{'ticker': 'ALLE', 'analyst_ratio_to_current': 0.9761333241890132}]\n",
      "[{'ticker': 'ALLY', 'analyst_ratio_to_current': 0.9025957337445387}]\n",
      "[{'ticker': 'ALSN', 'analyst_ratio_to_current': 1.0523819561551433}]\n",
      "[{'ticker': 'ALTG', 'analyst_ratio_to_current': 0.432258064516129}]\n"
     ]
    },
    {
     "name": "stderr",
     "output_type": "stream",
     "text": [
      "404 Client Error: Not Found for url: https://query2.finance.yahoo.com/v10/finance/quoteSummary/ALTG%5EA?modules=financialData&corsDomain=finance.yahoo.com&formatted=false&symbol=ALTG%5EA&crumb=zgTXR7VBJ.z\n"
     ]
    },
    {
     "name": "stdout",
     "output_type": "stream",
     "text": [
      "[{'ticker': 'ALTG', 'analyst_ratio_to_current': 0.432258064516129}]\n",
      "[{'ticker': 'ALTM', 'analyst_ratio_to_current': 0.9057851239669422}]\n",
      "[{'ticker': 'ALUR', 'analyst_ratio_to_current': 0.31684873949579834}]\n",
      "[{'ticker': 'ALV', 'analyst_ratio_to_current': 0.8122489959839357}]\n",
      "[{'ticker': 'ALX', 'analyst_ratio_to_current': 1.8252000000000002}]\n",
      "[{'ticker': 'AM', 'analyst_ratio_to_current': 0.9600000000000001}]\n",
      "[{'ticker': 'AMBC', 'analyst_ratio_to_current': 0.6729411764705882}]\n",
      "[{'ticker': 'AMBP', 'analyst_ratio_to_current': 0.875598086124402}]\n",
      "[{'ticker': 'AMC', 'analyst_ratio_to_current': 0.9568965517241381}]\n",
      "[{'ticker': 'AMCR', 'analyst_ratio_to_current': 1.0374531835205993}]\n",
      "[{'ticker': 'AME', 'analyst_ratio_to_current': 0.9048567736377343}]\n",
      "[{'ticker': 'AMG', 'analyst_ratio_to_current': 0.9167529411764705}]\n",
      "[{'ticker': 'AMH', 'analyst_ratio_to_current': 0.9152704643370033}]\n"
     ]
    },
    {
     "name": "stderr",
     "output_type": "stream",
     "text": [
      "404 Client Error: Not Found for url: https://query2.finance.yahoo.com/v10/finance/quoteSummary/AMH%5EG?modules=financialData&corsDomain=finance.yahoo.com&formatted=false&symbol=AMH%5EG&crumb=zgTXR7VBJ.z\n"
     ]
    },
    {
     "name": "stdout",
     "output_type": "stream",
     "text": [
      "[{'ticker': 'AMH', 'analyst_ratio_to_current': 0.9152704643370033}]\n"
     ]
    },
    {
     "name": "stderr",
     "output_type": "stream",
     "text": [
      "404 Client Error: Not Found for url: https://query2.finance.yahoo.com/v10/finance/quoteSummary/AMH%5EH?modules=financialData&corsDomain=finance.yahoo.com&formatted=false&symbol=AMH%5EH&crumb=zgTXR7VBJ.z\n"
     ]
    },
    {
     "name": "stdout",
     "output_type": "stream",
     "text": [
      "[{'ticker': 'AMH', 'analyst_ratio_to_current': 0.9152704643370033}]\n",
      "[{'ticker': 'AMN', 'analyst_ratio_to_current': 0.7486430844095078}]\n",
      "[{'ticker': 'AMP', 'analyst_ratio_to_current': 1.0057989185800484}]\n",
      "[{'ticker': 'AMPS', 'analyst_ratio_to_current': 0.7007434944237918}]\n",
      "[{'ticker': 'AMPX', 'analyst_ratio_to_current': 0.19386331938633192}]\n",
      "[{'ticker': 'AMPY', 'analyst_ratio_to_current': 0.657}]\n",
      "[{'ticker': 'AMR', 'analyst_ratio_to_current': 0.6299397590361445}]\n",
      "[{'ticker': 'AMRC', 'analyst_ratio_to_current': 0.8332895773168809}]\n",
      "[{'ticker': 'AMT', 'analyst_ratio_to_current': 0.9195183514710142}]\n",
      "[{'ticker': 'AMTB', 'analyst_ratio_to_current': 0.88}]\n",
      "[{'ticker': 'AMTB', 'analyst_ratio_to_current': 0.88}]\n",
      "[{'ticker': 'AMTB', 'analyst_ratio_to_current': 0.88}]\n",
      "[{'ticker': 'AMWL', 'analyst_ratio_to_current': 0.8275}]\n",
      "[{'ticker': 'AMX', 'analyst_ratio_to_current': 0.7927927927927927}]\n",
      "[{'ticker': 'AN', 'analyst_ratio_to_current': 0.7918921627580677}]\n",
      "[{'ticker': 'ANET', 'analyst_ratio_to_current': 1.0453152889149373}]\n",
      "[{'ticker': 'ANF', 'analyst_ratio_to_current': 0.7475338753387534}]\n"
     ]
    },
    {
     "name": "stderr",
     "output_type": "stream",
     "text": [
      "404 Client Error: Not Found for url: https://query2.finance.yahoo.com/v10/finance/quoteSummary/ANG%5EA?modules=financialData&corsDomain=finance.yahoo.com&formatted=false&symbol=ANG%5EA&crumb=zgTXR7VBJ.z\n"
     ]
    },
    {
     "name": "stdout",
     "output_type": "stream",
     "text": [
      "[{'ticker': 'ANF', 'analyst_ratio_to_current': 0.7475338753387534}]\n"
     ]
    },
    {
     "name": "stderr",
     "output_type": "stream",
     "text": [
      "404 Client Error: Not Found for url: https://query2.finance.yahoo.com/v10/finance/quoteSummary/ANG%5EB?modules=financialData&corsDomain=finance.yahoo.com&formatted=false&symbol=ANG%5EB&crumb=zgTXR7VBJ.z\n"
     ]
    },
    {
     "name": "stdout",
     "output_type": "stream",
     "text": [
      "[{'ticker': 'ANF', 'analyst_ratio_to_current': 0.7475338753387534}]\n",
      "[{'ticker': 'ANRO', 'analyst_ratio_to_current': 0.2679365079365079}]\n",
      "[{'ticker': 'ANVS', 'analyst_ratio_to_current': 0.27873563218390807}]\n",
      "[{'ticker': 'ANVS', 'analyst_ratio_to_current': 0.27873563218390807}]\n"
     ]
    },
    {
     "name": "stderr",
     "output_type": "stream",
     "text": [
      "404 Client Error: Not Found for url: https://query2.finance.yahoo.com/v10/finance/quoteSummary/AOMN?modules=financialData&corsDomain=finance.yahoo.com&formatted=false&symbol=AOMN&crumb=zgTXR7VBJ.z\n"
     ]
    },
    {
     "name": "stdout",
     "output_type": "stream",
     "text": [
      "[{'ticker': 'ANVS', 'analyst_ratio_to_current': 0.27873563218390807}]\n",
      "[{'ticker': 'AOMR', 'analyst_ratio_to_current': 0.7459677419354839}]\n",
      "[{'ticker': 'AON', 'analyst_ratio_to_current': 1.0205084559631012}]\n",
      "[{'ticker': 'AORT', 'analyst_ratio_to_current': 0.8599285017874554}]\n",
      "[{'ticker': 'AOS', 'analyst_ratio_to_current': 0.9066289885788296}]\n",
      "[{'ticker': 'AOS', 'analyst_ratio_to_current': 0.9066289885788296}]\n",
      "[{'ticker': 'APAM', 'analyst_ratio_to_current': 1.041930194424924}]\n",
      "[{'ticker': 'APD', 'analyst_ratio_to_current': 0.9714599676444552}]\n",
      "[{'ticker': 'APG', 'analyst_ratio_to_current': 0.7545913682277318}]\n",
      "[{'ticker': 'APH', 'analyst_ratio_to_current': 0.9152452025586354}]\n",
      "[{'ticker': 'APLE', 'analyst_ratio_to_current': 0.9190505173463177}]\n",
      "[{'ticker': 'APO', 'analyst_ratio_to_current': 0.9811014021540337}]\n"
     ]
    },
    {
     "name": "stderr",
     "output_type": "stream",
     "text": [
      "404 Client Error: Not Found for url: https://query2.finance.yahoo.com/v10/finance/quoteSummary/APO%5EA?modules=financialData&corsDomain=finance.yahoo.com&formatted=false&symbol=APO%5EA&crumb=zgTXR7VBJ.z\n"
     ]
    },
    {
     "name": "stdout",
     "output_type": "stream",
     "text": [
      "[{'ticker': 'APO', 'analyst_ratio_to_current': 0.9811014021540337}]\n"
     ]
    },
    {
     "name": "stderr",
     "output_type": "stream",
     "text": [
      "404 Client Error: Not Found for url: https://query2.finance.yahoo.com/v10/finance/quoteSummary/APOS?modules=financialData&corsDomain=finance.yahoo.com&formatted=false&symbol=APOS&crumb=zgTXR7VBJ.z\n"
     ]
    },
    {
     "name": "stdout",
     "output_type": "stream",
     "text": [
      "[{'ticker': 'APO', 'analyst_ratio_to_current': 0.9811014021540337}]\n",
      "[{'ticker': 'APTV', 'analyst_ratio_to_current': 0.7738814993954052}]\n",
      "[{'ticker': 'AQN', 'analyst_ratio_to_current': 0.8758741258741258}]\n"
     ]
    },
    {
     "name": "stderr",
     "output_type": "stream",
     "text": [
      "404 Client Error: Not Found for url: https://query2.finance.yahoo.com/v10/finance/quoteSummary/AQNB?modules=financialData&corsDomain=finance.yahoo.com&formatted=false&symbol=AQNB&crumb=zgTXR7VBJ.z\n"
     ]
    },
    {
     "name": "stdout",
     "output_type": "stream",
     "text": [
      "[{'ticker': 'AQN', 'analyst_ratio_to_current': 0.8758741258741258}]\n",
      "[{'ticker': 'AR', 'analyst_ratio_to_current': 0.8133531157270029}]\n",
      "[{'ticker': 'ARC', 'analyst_ratio_to_current': 0.7862068965517242}]\n",
      "[{'ticker': 'ARCH', 'analyst_ratio_to_current': 0.8632238805970149}]\n",
      "[{'ticker': 'ARCO', 'analyst_ratio_to_current': 0.7046317388003037}]\n",
      "[{'ticker': 'ARCO', 'analyst_ratio_to_current': 0.7046317388003037}]\n",
      "[{'ticker': 'ARDT', 'analyst_ratio_to_current': 0.7843478260869565}]\n",
      "[{'ticker': 'ARE', 'analyst_ratio_to_current': 0.8411940298507462}]\n",
      "[{'ticker': 'ARES', 'analyst_ratio_to_current': 1.0257363969044333}]\n"
     ]
    },
    {
     "name": "stderr",
     "output_type": "stream",
     "text": [
      "404 Client Error: Not Found for url: https://query2.finance.yahoo.com/v10/finance/quoteSummary/ARES%5EB?modules=financialData&corsDomain=finance.yahoo.com&formatted=false&symbol=ARES%5EB&crumb=zgTXR7VBJ.z\n"
     ]
    },
    {
     "name": "stdout",
     "output_type": "stream",
     "text": [
      "[{'ticker': 'ARES', 'analyst_ratio_to_current': 1.0257363969044333}]\n"
     ]
    },
    {
     "name": "stderr",
     "output_type": "stream",
     "text": [
      "404 Client Error: Not Found for url: https://query2.finance.yahoo.com/v10/finance/quoteSummary/ARGD?modules=financialData&corsDomain=finance.yahoo.com&formatted=false&symbol=ARGD&crumb=zgTXR7VBJ.z\n"
     ]
    },
    {
     "name": "stdout",
     "output_type": "stream",
     "text": [
      "[{'ticker': 'ARES', 'analyst_ratio_to_current': 1.0257363969044333}]\n"
     ]
    },
    {
     "name": "stderr",
     "output_type": "stream",
     "text": [
      "404 Client Error: Not Found for url: https://query2.finance.yahoo.com/v10/finance/quoteSummary/ARGO%5EA?modules=financialData&corsDomain=finance.yahoo.com&formatted=false&symbol=ARGO%5EA&crumb=zgTXR7VBJ.z\n"
     ]
    },
    {
     "name": "stdout",
     "output_type": "stream",
     "text": [
      "[{'ticker': 'ARES', 'analyst_ratio_to_current': 1.0257363969044333}]\n",
      "[{'ticker': 'ARI', 'analyst_ratio_to_current': 0.9693318729463306}]\n",
      "[{'ticker': 'ARIS', 'analyst_ratio_to_current': 0.7906005221932115}]\n",
      "[{'ticker': 'ARIS', 'analyst_ratio_to_current': 0.7906005221932115}]\n",
      "[{'ticker': 'ARLO', 'analyst_ratio_to_current': 0.6038461538461539}]\n",
      "[{'ticker': 'ARMK', 'analyst_ratio_to_current': 0.9376687116564417}]\n",
      "[{'ticker': 'AROC', 'analyst_ratio_to_current': 0.8274747474747475}]\n",
      "[{'ticker': 'ARR', 'analyst_ratio_to_current': 0.9317073170731708}]\n"
     ]
    },
    {
     "name": "stderr",
     "output_type": "stream",
     "text": [
      "404 Client Error: Not Found for url: https://query2.finance.yahoo.com/v10/finance/quoteSummary/ARR%5EC?modules=financialData&corsDomain=finance.yahoo.com&formatted=false&symbol=ARR%5EC&crumb=zgTXR7VBJ.z\n"
     ]
    },
    {
     "name": "stdout",
     "output_type": "stream",
     "text": [
      "[{'ticker': 'ARR', 'analyst_ratio_to_current': 0.9317073170731708}]\n",
      "[{'ticker': 'ARW', 'analyst_ratio_to_current': 1.016328700539227}]\n",
      "[{'ticker': 'AS', 'analyst_ratio_to_current': 0.905793450881612}]\n",
      "[{'ticker': 'AS', 'analyst_ratio_to_current': 0.905793450881612}]\n",
      "[{'ticker': 'ASAI', 'analyst_ratio_to_current': 0.6616314199395771}]\n",
      "[{'ticker': 'ASAN', 'analyst_ratio_to_current': 0.8421052631578947}]\n",
      "[{'ticker': 'ASB', 'analyst_ratio_to_current': 0.968241042345277}]\n"
     ]
    },
    {
     "name": "stderr",
     "output_type": "stream",
     "text": [
      "404 Client Error: Not Found for url: https://query2.finance.yahoo.com/v10/finance/quoteSummary/ASB%5EE?modules=financialData&corsDomain=finance.yahoo.com&formatted=false&symbol=ASB%5EE&crumb=zgTXR7VBJ.z\n"
     ]
    },
    {
     "name": "stdout",
     "output_type": "stream",
     "text": [
      "[{'ticker': 'ASB', 'analyst_ratio_to_current': 0.968241042345277}]\n"
     ]
    },
    {
     "name": "stderr",
     "output_type": "stream",
     "text": [
      "404 Client Error: Not Found for url: https://query2.finance.yahoo.com/v10/finance/quoteSummary/ASB%5EF?modules=financialData&corsDomain=finance.yahoo.com&formatted=false&symbol=ASB%5EF&crumb=zgTXR7VBJ.z\n"
     ]
    },
    {
     "name": "stdout",
     "output_type": "stream",
     "text": [
      "[{'ticker': 'ASB', 'analyst_ratio_to_current': 0.968241042345277}]\n"
     ]
    },
    {
     "name": "stderr",
     "output_type": "stream",
     "text": [
      "404 Client Error: Not Found for url: https://query2.finance.yahoo.com/v10/finance/quoteSummary/ASBA?modules=financialData&corsDomain=finance.yahoo.com&formatted=false&symbol=ASBA&crumb=zgTXR7VBJ.z\n"
     ]
    },
    {
     "name": "stdout",
     "output_type": "stream",
     "text": [
      "[{'ticker': 'ASB', 'analyst_ratio_to_current': 0.968241042345277}]\n",
      "[{'ticker': 'ASC', 'analyst_ratio_to_current': 0.6495495495495496}]\n",
      "[{'ticker': 'ASC', 'analyst_ratio_to_current': 0.6495495495495496}]\n",
      "[{'ticker': 'ASC', 'analyst_ratio_to_current': 0.6495495495495496}]\n",
      "[{'ticker': 'ASGN', 'analyst_ratio_to_current': 0.9666563754245138}]\n",
      "[{'ticker': 'ASH', 'analyst_ratio_to_current': 0.8360207172872081}]\n",
      "[{'ticker': 'ASIX', 'analyst_ratio_to_current': 0.8171830985915494}]\n",
      "[{'ticker': 'ASPN', 'analyst_ratio_to_current': 0.5820627802690582}]\n",
      "[{'ticker': 'ASR', 'analyst_ratio_to_current': 0.8646425134270901}]\n",
      "[{'ticker': 'ASX', 'analyst_ratio_to_current': 0.9269406392694065}]\n"
     ]
    },
    {
     "name": "stderr",
     "output_type": "stream",
     "text": [
      "404 Client Error: Not Found for url: https://query2.finance.yahoo.com/v10/finance/quoteSummary/ATCO%5ED?modules=financialData&corsDomain=finance.yahoo.com&formatted=false&symbol=ATCO%5ED&crumb=zgTXR7VBJ.z\n"
     ]
    },
    {
     "name": "stdout",
     "output_type": "stream",
     "text": [
      "[{'ticker': 'ASX', 'analyst_ratio_to_current': 0.9269406392694065}]\n"
     ]
    },
    {
     "name": "stderr",
     "output_type": "stream",
     "text": [
      "404 Client Error: Not Found for url: https://query2.finance.yahoo.com/v10/finance/quoteSummary/ATCO%5EH?modules=financialData&corsDomain=finance.yahoo.com&formatted=false&symbol=ATCO%5EH&crumb=zgTXR7VBJ.z\n"
     ]
    },
    {
     "name": "stdout",
     "output_type": "stream",
     "text": [
      "[{'ticker': 'ASX', 'analyst_ratio_to_current': 0.9269406392694065}]\n",
      "[{'ticker': 'ATEN', 'analyst_ratio_to_current': 0.8564705882352941}]\n",
      "[{'ticker': 'ATGE', 'analyst_ratio_to_current': 0.8428735632183908}]\n"
     ]
    },
    {
     "name": "stderr",
     "output_type": "stream",
     "text": [
      "404 Client Error: Not Found for url: https://query2.finance.yahoo.com/v10/finance/quoteSummary/ATH%5EA?modules=financialData&corsDomain=finance.yahoo.com&formatted=false&symbol=ATH%5EA&crumb=zgTXR7VBJ.z\n"
     ]
    },
    {
     "name": "stdout",
     "output_type": "stream",
     "text": [
      "[{'ticker': 'ATGE', 'analyst_ratio_to_current': 0.8428735632183908}]\n"
     ]
    },
    {
     "name": "stderr",
     "output_type": "stream",
     "text": [
      "404 Client Error: Not Found for url: https://query2.finance.yahoo.com/v10/finance/quoteSummary/ATH%5EB?modules=financialData&corsDomain=finance.yahoo.com&formatted=false&symbol=ATH%5EB&crumb=zgTXR7VBJ.z\n"
     ]
    },
    {
     "name": "stdout",
     "output_type": "stream",
     "text": [
      "[{'ticker': 'ATGE', 'analyst_ratio_to_current': 0.8428735632183908}]\n"
     ]
    },
    {
     "name": "stderr",
     "output_type": "stream",
     "text": [
      "404 Client Error: Not Found for url: https://query2.finance.yahoo.com/v10/finance/quoteSummary/ATH%5EC?modules=financialData&corsDomain=finance.yahoo.com&formatted=false&symbol=ATH%5EC&crumb=zgTXR7VBJ.z\n"
     ]
    },
    {
     "name": "stdout",
     "output_type": "stream",
     "text": [
      "[{'ticker': 'ATGE', 'analyst_ratio_to_current': 0.8428735632183908}]\n"
     ]
    },
    {
     "name": "stderr",
     "output_type": "stream",
     "text": [
      "404 Client Error: Not Found for url: https://query2.finance.yahoo.com/v10/finance/quoteSummary/ATH%5ED?modules=financialData&corsDomain=finance.yahoo.com&formatted=false&symbol=ATH%5ED&crumb=zgTXR7VBJ.z\n"
     ]
    },
    {
     "name": "stdout",
     "output_type": "stream",
     "text": [
      "[{'ticker': 'ATGE', 'analyst_ratio_to_current': 0.8428735632183908}]\n"
     ]
    },
    {
     "name": "stderr",
     "output_type": "stream",
     "text": [
      "404 Client Error: Not Found for url: https://query2.finance.yahoo.com/v10/finance/quoteSummary/ATH%5EE?modules=financialData&corsDomain=finance.yahoo.com&formatted=false&symbol=ATH%5EE&crumb=zgTXR7VBJ.z\n"
     ]
    },
    {
     "name": "stdout",
     "output_type": "stream",
     "text": [
      "[{'ticker': 'ATGE', 'analyst_ratio_to_current': 0.8428735632183908}]\n",
      "[{'ticker': 'ATHM', 'analyst_ratio_to_current': 0.9850349185234453}]\n"
     ]
    },
    {
     "name": "stderr",
     "output_type": "stream",
     "text": [
      "404 Client Error: Not Found for url: https://query2.finance.yahoo.com/v10/finance/quoteSummary/ATHS?modules=financialData&corsDomain=finance.yahoo.com&formatted=false&symbol=ATHS&crumb=zgTXR7VBJ.z\n"
     ]
    },
    {
     "name": "stdout",
     "output_type": "stream",
     "text": [
      "[{'ticker': 'ATHM', 'analyst_ratio_to_current': 0.9850349185234453}]\n",
      "[{'ticker': 'ATI', 'analyst_ratio_to_current': 0.8647243879086308}]\n",
      "[{'ticker': 'ATIP', 'analyst_ratio_to_current': 1.0709090909090908}]\n",
      "[{'ticker': 'ATKR', 'analyst_ratio_to_current': 0.7402030712427624}]\n",
      "[{'ticker': 'ATMU', 'analyst_ratio_to_current': 0.9463692453725677}]\n",
      "[{'ticker': 'ATO', 'analyst_ratio_to_current': 0.9686451701239133}]\n",
      "[{'ticker': 'ATR', 'analyst_ratio_to_current': 0.9446927374301676}]\n",
      "[{'ticker': 'ATR', 'analyst_ratio_to_current': 0.9446927374301676}]\n",
      "[{'ticker': 'ATUS', 'analyst_ratio_to_current': 1.1222707423580784}]\n",
      "[{'ticker': 'AU', 'analyst_ratio_to_current': 0.8564179104477613}]\n",
      "[{'ticker': 'AUB', 'analyst_ratio_to_current': 0.8749425287356323}]\n"
     ]
    },
    {
     "name": "stderr",
     "output_type": "stream",
     "text": [
      "404 Client Error: Not Found for url: https://query2.finance.yahoo.com/v10/finance/quoteSummary/AUB%5EA?modules=financialData&corsDomain=finance.yahoo.com&formatted=false&symbol=AUB%5EA&crumb=zgTXR7VBJ.z\n"
     ]
    },
    {
     "name": "stdout",
     "output_type": "stream",
     "text": [
      "[{'ticker': 'AUB', 'analyst_ratio_to_current': 0.8749425287356323}]\n",
      "[{'ticker': 'AUNA', 'analyst_ratio_to_current': 0.4551994767822106}]\n",
      "[{'ticker': 'AVA', 'analyst_ratio_to_current': 0.95475}]\n",
      "[{'ticker': 'AVA', 'analyst_ratio_to_current': 0.95475}]\n",
      "[{'ticker': 'AVB', 'analyst_ratio_to_current': 0.973161498872868}]\n",
      "[{'ticker': 'AVD', 'analyst_ratio_to_current': 0.4336}]\n",
      "[{'ticker': 'AVD', 'analyst_ratio_to_current': 0.4336}]\n",
      "[{'ticker': 'AVNS', 'analyst_ratio_to_current': 0.8870588235294118}]\n",
      "[{'ticker': 'AVNT', 'analyst_ratio_to_current': 0.9108173524483336}]\n",
      "[{'ticker': 'AVTR', 'analyst_ratio_to_current': 0.8329654157468728}]\n",
      "[{'ticker': 'AVY', 'analyst_ratio_to_current': 0.877208592856235}]\n",
      "[{'ticker': 'AVY', 'analyst_ratio_to_current': 0.877208592856235}]\n",
      "[{'ticker': 'AWI', 'analyst_ratio_to_current': 0.9859964093357272}]\n",
      "[{'ticker': 'AWK', 'analyst_ratio_to_current': 0.966167768882701}]\n",
      "[{'ticker': 'AWK', 'analyst_ratio_to_current': 0.966167768882701}]\n",
      "[{'ticker': 'AWR', 'analyst_ratio_to_current': 0.9516571428571428}]\n",
      "[{'ticker': 'AX', 'analyst_ratio_to_current': 0.8516071655444036}]\n",
      "[{'ticker': 'AXL', 'analyst_ratio_to_current': 0.8898305084745762}]\n",
      "[{'ticker': 'AXP', 'analyst_ratio_to_current': 0.9868765450050896}]\n",
      "[{'ticker': 'AXP', 'analyst_ratio_to_current': 0.9868765450050896}]\n",
      "[{'ticker': 'AXS', 'analyst_ratio_to_current': 0.8527082673424138}]\n"
     ]
    },
    {
     "name": "stderr",
     "output_type": "stream",
     "text": [
      "404 Client Error: Not Found for url: https://query2.finance.yahoo.com/v10/finance/quoteSummary/AXS%5EE?modules=financialData&corsDomain=finance.yahoo.com&formatted=false&symbol=AXS%5EE&crumb=zgTXR7VBJ.z\n"
     ]
    },
    {
     "name": "stdout",
     "output_type": "stream",
     "text": [
      "[{'ticker': 'AXS', 'analyst_ratio_to_current': 0.8527082673424138}]\n",
      "[{'ticker': 'AXTA', 'analyst_ratio_to_current': 0.8534772182254197}]\n",
      "[{'ticker': 'AYI', 'analyst_ratio_to_current': 0.9804876485854345}]\n",
      "[{'ticker': 'AZEK', 'analyst_ratio_to_current': 0.8693147964250248}]\n",
      "[{'ticker': 'AZO', 'analyst_ratio_to_current': 0.926612210315282}]\n",
      "[{'ticker': 'AZUL', 'analyst_ratio_to_current': 0.642}]\n",
      "[{'ticker': 'AZZ', 'analyst_ratio_to_current': 0.8048453608247422}]\n",
      "[{'ticker': 'B', 'analyst_ratio_to_current': 0.9766179540709813}]\n",
      "[{'ticker': 'BA', 'analyst_ratio_to_current': 0.8016704793318082}]\n",
      "[{'ticker': 'BABA', 'analyst_ratio_to_current': 0.8424380374304502}]\n",
      "[{'ticker': 'BAC', 'analyst_ratio_to_current': 0.9265217391304347}]\n"
     ]
    },
    {
     "name": "stderr",
     "output_type": "stream",
     "text": [
      "404 Client Error: Not Found for url: https://query2.finance.yahoo.com/v10/finance/quoteSummary/BAC%5EB?modules=financialData&corsDomain=finance.yahoo.com&formatted=false&symbol=BAC%5EB&crumb=zgTXR7VBJ.z\n"
     ]
    },
    {
     "name": "stdout",
     "output_type": "stream",
     "text": [
      "[{'ticker': 'BAC', 'analyst_ratio_to_current': 0.9265217391304347}]\n"
     ]
    },
    {
     "name": "stderr",
     "output_type": "stream",
     "text": [
      "404 Client Error: Not Found for url: https://query2.finance.yahoo.com/v10/finance/quoteSummary/BAC%5EE?modules=financialData&corsDomain=finance.yahoo.com&formatted=false&symbol=BAC%5EE&crumb=zgTXR7VBJ.z\n"
     ]
    },
    {
     "name": "stdout",
     "output_type": "stream",
     "text": [
      "[{'ticker': 'BAC', 'analyst_ratio_to_current': 0.9265217391304347}]\n"
     ]
    },
    {
     "name": "stderr",
     "output_type": "stream",
     "text": [
      "404 Client Error: Not Found for url: https://query2.finance.yahoo.com/v10/finance/quoteSummary/BAC%5EK?modules=financialData&corsDomain=finance.yahoo.com&formatted=false&symbol=BAC%5EK&crumb=zgTXR7VBJ.z\n"
     ]
    },
    {
     "name": "stdout",
     "output_type": "stream",
     "text": [
      "[{'ticker': 'BAC', 'analyst_ratio_to_current': 0.9265217391304347}]\n"
     ]
    },
    {
     "name": "stderr",
     "output_type": "stream",
     "text": [
      "404 Client Error: Not Found for url: https://query2.finance.yahoo.com/v10/finance/quoteSummary/BAC%5EL?modules=financialData&corsDomain=finance.yahoo.com&formatted=false&symbol=BAC%5EL&crumb=zgTXR7VBJ.z\n"
     ]
    },
    {
     "name": "stdout",
     "output_type": "stream",
     "text": [
      "[{'ticker': 'BAC', 'analyst_ratio_to_current': 0.9265217391304347}]\n"
     ]
    },
    {
     "name": "stderr",
     "output_type": "stream",
     "text": [
      "404 Client Error: Not Found for url: https://query2.finance.yahoo.com/v10/finance/quoteSummary/BAC%5EM?modules=financialData&corsDomain=finance.yahoo.com&formatted=false&symbol=BAC%5EM&crumb=zgTXR7VBJ.z\n"
     ]
    },
    {
     "name": "stdout",
     "output_type": "stream",
     "text": [
      "[{'ticker': 'BAC', 'analyst_ratio_to_current': 0.9265217391304347}]\n"
     ]
    },
    {
     "name": "stderr",
     "output_type": "stream",
     "text": [
      "404 Client Error: Not Found for url: https://query2.finance.yahoo.com/v10/finance/quoteSummary/BAC%5EN?modules=financialData&corsDomain=finance.yahoo.com&formatted=false&symbol=BAC%5EN&crumb=zgTXR7VBJ.z\n"
     ]
    },
    {
     "name": "stdout",
     "output_type": "stream",
     "text": [
      "[{'ticker': 'BAC', 'analyst_ratio_to_current': 0.9265217391304347}]\n"
     ]
    },
    {
     "name": "stderr",
     "output_type": "stream",
     "text": [
      "404 Client Error: Not Found for url: https://query2.finance.yahoo.com/v10/finance/quoteSummary/BAC%5EO?modules=financialData&corsDomain=finance.yahoo.com&formatted=false&symbol=BAC%5EO&crumb=zgTXR7VBJ.z\n"
     ]
    },
    {
     "name": "stdout",
     "output_type": "stream",
     "text": [
      "[{'ticker': 'BAC', 'analyst_ratio_to_current': 0.9265217391304347}]\n"
     ]
    },
    {
     "name": "stderr",
     "output_type": "stream",
     "text": [
      "404 Client Error: Not Found for url: https://query2.finance.yahoo.com/v10/finance/quoteSummary/BAC%5EP?modules=financialData&corsDomain=finance.yahoo.com&formatted=false&symbol=BAC%5EP&crumb=zgTXR7VBJ.z\n"
     ]
    },
    {
     "name": "stdout",
     "output_type": "stream",
     "text": [
      "[{'ticker': 'BAC', 'analyst_ratio_to_current': 0.9265217391304347}]\n"
     ]
    },
    {
     "name": "stderr",
     "output_type": "stream",
     "text": [
      "404 Client Error: Not Found for url: https://query2.finance.yahoo.com/v10/finance/quoteSummary/BAC%5EQ?modules=financialData&corsDomain=finance.yahoo.com&formatted=false&symbol=BAC%5EQ&crumb=zgTXR7VBJ.z\n"
     ]
    },
    {
     "name": "stdout",
     "output_type": "stream",
     "text": [
      "[{'ticker': 'BAC', 'analyst_ratio_to_current': 0.9265217391304347}]\n"
     ]
    },
    {
     "name": "stderr",
     "output_type": "stream",
     "text": [
      "404 Client Error: Not Found for url: https://query2.finance.yahoo.com/v10/finance/quoteSummary/BAC%5ES?modules=financialData&corsDomain=finance.yahoo.com&formatted=false&symbol=BAC%5ES&crumb=zgTXR7VBJ.z\n"
     ]
    },
    {
     "name": "stdout",
     "output_type": "stream",
     "text": [
      "[{'ticker': 'BAC', 'analyst_ratio_to_current': 0.9265217391304347}]\n",
      "[{'ticker': 'BAH', 'analyst_ratio_to_current': 1.0585021625312998}]\n",
      "[{'ticker': 'BAK', 'analyst_ratio_to_current': 0.5928705440900564}]\n",
      "[{'ticker': 'BALL', 'analyst_ratio_to_current': 0.9017171576155243}]\n",
      "[{'ticker': 'BALY', 'analyst_ratio_to_current': 1.0098722415795587}]\n",
      "[{'ticker': 'BAM', 'analyst_ratio_to_current': 1.1435304198800342}]\n",
      "[{'ticker': 'BANC', 'analyst_ratio_to_current': 0.9051428571428571}]\n"
     ]
    },
    {
     "name": "stderr",
     "output_type": "stream",
     "text": [
      "404 Client Error: Not Found for url: https://query2.finance.yahoo.com/v10/finance/quoteSummary/BANC%5EF?modules=financialData&corsDomain=finance.yahoo.com&formatted=false&symbol=BANC%5EF&crumb=zgTXR7VBJ.z\n"
     ]
    },
    {
     "name": "stdout",
     "output_type": "stream",
     "text": [
      "[{'ticker': 'BANC', 'analyst_ratio_to_current': 0.9051428571428571}]\n",
      "[{'ticker': 'BAP', 'analyst_ratio_to_current': 0.9925002586117719}]\n",
      "[{'ticker': 'BARK', 'analyst_ratio_to_current': 0.6167400881057268}]\n",
      "[{'ticker': 'BAX', 'analyst_ratio_to_current': 0.8817335945151811}]\n",
      "[{'ticker': 'BB', 'analyst_ratio_to_current': 0.49896480331262943}]\n",
      "[{'ticker': 'BBAI', 'analyst_ratio_to_current': 0.6577946768060837}]\n",
      "[{'ticker': 'BBAR', 'analyst_ratio_to_current': 1.0132061628760087}]\n",
      "[{'ticker': 'BBD', 'analyst_ratio_to_current': 0.7719298245614036}]\n",
      "[{'ticker': 'BBDC', 'analyst_ratio_to_current': 0.9620991253644317}]\n",
      "[{'ticker': 'BBDC', 'analyst_ratio_to_current': 0.9620991253644317}]\n",
      "[{'ticker': 'BBDC', 'analyst_ratio_to_current': 0.9620991253644317}]\n",
      "[{'ticker': 'BBU', 'analyst_ratio_to_current': 0.6973428386260532}]\n",
      "[{'ticker': 'BBU', 'analyst_ratio_to_current': 0.6973428386260532}]\n",
      "[{'ticker': 'BBVA', 'analyst_ratio_to_current': 0.8120362737015663}]\n",
      "[{'ticker': 'BBW', 'analyst_ratio_to_current': 0.9778169901688933}]\n",
      "[{'ticker': 'BBWI', 'analyst_ratio_to_current': 0.6998574144486692}]\n",
      "[{'ticker': 'BBY', 'analyst_ratio_to_current': 0.878165771297007}]\n",
      "[{'ticker': 'BC', 'analyst_ratio_to_current': 0.9423452394625015}]\n"
     ]
    },
    {
     "name": "stderr",
     "output_type": "stream",
     "text": [
      "404 Client Error: Not Found for url: https://query2.finance.yahoo.com/v10/finance/quoteSummary/BC%5EA?modules=financialData&corsDomain=finance.yahoo.com&formatted=false&symbol=BC%5EA&crumb=zgTXR7VBJ.z\n"
     ]
    },
    {
     "name": "stdout",
     "output_type": "stream",
     "text": [
      "[{'ticker': 'BC', 'analyst_ratio_to_current': 0.9423452394625015}]\n"
     ]
    },
    {
     "name": "stderr",
     "output_type": "stream",
     "text": [
      "404 Client Error: Not Found for url: https://query2.finance.yahoo.com/v10/finance/quoteSummary/BC%5EB?modules=financialData&corsDomain=finance.yahoo.com&formatted=false&symbol=BC%5EB&crumb=zgTXR7VBJ.z\n"
     ]
    },
    {
     "name": "stdout",
     "output_type": "stream",
     "text": [
      "[{'ticker': 'BC', 'analyst_ratio_to_current': 0.9423452394625015}]\n",
      "[{'ticker': 'BC', 'analyst_ratio_to_current': 0.9423452394625015}]\n",
      "[{'ticker': 'BC', 'analyst_ratio_to_current': 0.9423452394625015}]\n",
      "[{'ticker': 'BCC', 'analyst_ratio_to_current': 0.9653203342618385}]\n",
      "[{'ticker': 'BCE', 'analyst_ratio_to_current': 0.9247524752475247}]\n",
      "[{'ticker': 'BCH', 'analyst_ratio_to_current': 0.9223744292237442}]\n",
      "[{'ticker': 'BCO', 'analyst_ratio_to_current': 0.815703125}]\n",
      "[{'ticker': 'BCS', 'analyst_ratio_to_current': 1.0334148329258355}]\n",
      "[{'ticker': 'BCSF', 'analyst_ratio_to_current': 1.0065986802639473}]\n",
      "[{'ticker': 'BCSF', 'analyst_ratio_to_current': 1.0065986802639473}]\n",
      "[{'ticker': 'BDC', 'analyst_ratio_to_current': 0.9825870646766169}]\n",
      "[{'ticker': 'BDC', 'analyst_ratio_to_current': 0.9825870646766169}]\n",
      "[{'ticker': 'BDN', 'analyst_ratio_to_current': 1.0037735849056604}]\n",
      "[{'ticker': 'BDX', 'analyst_ratio_to_current': 0.8575069092997379}]\n",
      "[{'ticker': 'BE', 'analyst_ratio_to_current': 0.6041666666666666}]\n",
      "[{'ticker': 'BE', 'analyst_ratio_to_current': 0.6041666666666666}]\n",
      "[{'ticker': 'BEKE', 'analyst_ratio_to_current': 0.9363867684478372}]\n",
      "[{'ticker': 'BEN', 'analyst_ratio_to_current': 1.0107003891050585}]\n",
      "[{'ticker': 'BEP', 'analyst_ratio_to_current': 0.9045877659574469}]\n"
     ]
    },
    {
     "name": "stderr",
     "output_type": "stream",
     "text": [
      "404 Client Error: Not Found for url: https://query2.finance.yahoo.com/v10/finance/quoteSummary/BEP%5EA?modules=financialData&corsDomain=finance.yahoo.com&formatted=false&symbol=BEP%5EA&crumb=zgTXR7VBJ.z\n"
     ]
    },
    {
     "name": "stdout",
     "output_type": "stream",
     "text": [
      "[{'ticker': 'BEP', 'analyst_ratio_to_current': 0.9045877659574469}]\n",
      "[{'ticker': 'BEPC', 'analyst_ratio_to_current': 0.9664389664389663}]\n"
     ]
    },
    {
     "name": "stderr",
     "output_type": "stream",
     "text": [
      "404 Client Error: Not Found for url: https://query2.finance.yahoo.com/v10/finance/quoteSummary/BEPH?modules=financialData&corsDomain=finance.yahoo.com&formatted=false&symbol=BEPH&crumb=zgTXR7VBJ.z\n"
     ]
    },
    {
     "name": "stdout",
     "output_type": "stream",
     "text": [
      "[{'ticker': 'BEPC', 'analyst_ratio_to_current': 0.9664389664389663}]\n"
     ]
    },
    {
     "name": "stderr",
     "output_type": "stream",
     "text": [
      "404 Client Error: Not Found for url: https://query2.finance.yahoo.com/v10/finance/quoteSummary/BEPI?modules=financialData&corsDomain=finance.yahoo.com&formatted=false&symbol=BEPI&crumb=zgTXR7VBJ.z\n"
     ]
    },
    {
     "name": "stdout",
     "output_type": "stream",
     "text": [
      "[{'ticker': 'BEPC', 'analyst_ratio_to_current': 0.9664389664389663}]\n"
     ]
    },
    {
     "name": "stderr",
     "output_type": "stream",
     "text": [
      "404 Client Error: Not Found for url: https://query2.finance.yahoo.com/v10/finance/quoteSummary/BEPJ?modules=financialData&corsDomain=finance.yahoo.com&formatted=false&symbol=BEPJ&crumb=zgTXR7VBJ.z\n"
     ]
    },
    {
     "name": "stdout",
     "output_type": "stream",
     "text": [
      "[{'ticker': 'BEPC', 'analyst_ratio_to_current': 0.9664389664389663}]\n",
      "[{'ticker': 'BERY', 'analyst_ratio_to_current': 0.9472112905414575}]\n",
      "[{'ticker': 'BERY', 'analyst_ratio_to_current': 0.9472112905414575}]\n"
     ]
    },
    {
     "name": "stderr",
     "output_type": "stream",
     "text": [
      "404 Client Error: Not Found for url: https://query2.finance.yahoo.com/v10/finance/quoteSummary/BF/A?modules=financialData&corsDomain=finance.yahoo.com&formatted=false&symbol=BF%2FA&crumb=zgTXR7VBJ.z\n"
     ]
    },
    {
     "name": "stdout",
     "output_type": "stream",
     "text": [
      "[{'ticker': 'BERY', 'analyst_ratio_to_current': 0.9472112905414575}]\n"
     ]
    },
    {
     "name": "stderr",
     "output_type": "stream",
     "text": [
      "404 Client Error: Not Found for url: https://query2.finance.yahoo.com/v10/finance/quoteSummary/BF/B?modules=financialData&corsDomain=finance.yahoo.com&formatted=false&symbol=BF%2FB&crumb=zgTXR7VBJ.z\n"
     ]
    },
    {
     "name": "stdout",
     "output_type": "stream",
     "text": [
      "[{'ticker': 'BERY', 'analyst_ratio_to_current': 0.9472112905414575}]\n",
      "[{'ticker': 'BERY', 'analyst_ratio_to_current': 0.9472112905414575}]\n",
      "[{'ticker': 'BFAM', 'analyst_ratio_to_current': 0.9609139666446255}]\n",
      "[{'ticker': 'BFH', 'analyst_ratio_to_current': 0.9552656104380243}]\n",
      "[{'ticker': 'BFH', 'analyst_ratio_to_current': 0.9552656104380243}]\n",
      "[{'ticker': 'BFLY', 'analyst_ratio_to_current': 0.63}]\n",
      "[{'ticker': 'BFS', 'analyst_ratio_to_current': 0.8716483516483515}]\n"
     ]
    },
    {
     "name": "stderr",
     "output_type": "stream",
     "text": [
      "404 Client Error: Not Found for url: https://query2.finance.yahoo.com/v10/finance/quoteSummary/BFS%5ED?modules=financialData&corsDomain=finance.yahoo.com&formatted=false&symbol=BFS%5ED&crumb=zgTXR7VBJ.z\n"
     ]
    },
    {
     "name": "stdout",
     "output_type": "stream",
     "text": [
      "[{'ticker': 'BFS', 'analyst_ratio_to_current': 0.8716483516483515}]\n"
     ]
    },
    {
     "name": "stderr",
     "output_type": "stream",
     "text": [
      "404 Client Error: Not Found for url: https://query2.finance.yahoo.com/v10/finance/quoteSummary/BFS%5EE?modules=financialData&corsDomain=finance.yahoo.com&formatted=false&symbol=BFS%5EE&crumb=zgTXR7VBJ.z\n"
     ]
    },
    {
     "name": "stdout",
     "output_type": "stream",
     "text": [
      "[{'ticker': 'BFS', 'analyst_ratio_to_current': 0.8716483516483515}]\n",
      "[{'ticker': 'BFS', 'analyst_ratio_to_current': 0.8716483516483515}]\n",
      "[{'ticker': 'BG', 'analyst_ratio_to_current': 0.8062982235779653}]\n",
      "[{'ticker': 'BG', 'analyst_ratio_to_current': 0.8062982235779653}]\n",
      "[{'ticker': 'BGH', 'analyst_ratio_to_current': 0.37365591397849457}]\n",
      "[{'ticker': 'BGH', 'analyst_ratio_to_current': 0.37365591397849457}]\n",
      "[{'ticker': 'BGS', 'analyst_ratio_to_current': 0.9683972911963883}]\n",
      "[{'ticker': 'BGSF', 'analyst_ratio_to_current': 0.5508771929824561}]\n",
      "[{'ticker': 'BGSF', 'analyst_ratio_to_current': 0.5508771929824561}]\n",
      "[{'ticker': 'BGSF', 'analyst_ratio_to_current': 0.5508771929824561}]\n",
      "[{'ticker': 'BGSF', 'analyst_ratio_to_current': 0.5508771929824561}]\n",
      "[{'ticker': 'BGSF', 'analyst_ratio_to_current': 0.5508771929824561}]\n",
      "[{'ticker': 'BHC', 'analyst_ratio_to_current': 1.02375}]\n",
      "[{'ticker': 'BHE', 'analyst_ratio_to_current': 1.0929107186063394}]\n",
      "[{'ticker': 'BHE', 'analyst_ratio_to_current': 1.0929107186063394}]\n",
      "[{'ticker': 'BHLB', 'analyst_ratio_to_current': 0.9635416666666666}]\n",
      "[{'ticker': 'BHP', 'analyst_ratio_to_current': 0.9460086121232195}]\n",
      "[{'ticker': 'BHR', 'analyst_ratio_to_current': 0.7074340527577938}]\n"
     ]
    },
    {
     "name": "stderr",
     "output_type": "stream",
     "text": [
      "404 Client Error: Not Found for url: https://query2.finance.yahoo.com/v10/finance/quoteSummary/BHR%5EB?modules=financialData&corsDomain=finance.yahoo.com&formatted=false&symbol=BHR%5EB&crumb=zgTXR7VBJ.z\n"
     ]
    },
    {
     "name": "stdout",
     "output_type": "stream",
     "text": [
      "[{'ticker': 'BHR', 'analyst_ratio_to_current': 0.7074340527577938}]\n"
     ]
    },
    {
     "name": "stderr",
     "output_type": "stream",
     "text": [
      "404 Client Error: Not Found for url: https://query2.finance.yahoo.com/v10/finance/quoteSummary/BHR%5ED?modules=financialData&corsDomain=finance.yahoo.com&formatted=false&symbol=BHR%5ED&crumb=zgTXR7VBJ.z\n"
     ]
    },
    {
     "name": "stdout",
     "output_type": "stream",
     "text": [
      "[{'ticker': 'BHR', 'analyst_ratio_to_current': 0.7074340527577938}]\n",
      "[{'ticker': 'BHR', 'analyst_ratio_to_current': 0.7074340527577938}]\n",
      "[{'ticker': 'BHVN', 'analyst_ratio_to_current': 0.7933466196535336}]\n",
      "[{'ticker': 'BHVN', 'analyst_ratio_to_current': 0.7933466196535336}]\n",
      "[{'ticker': 'BILL', 'analyst_ratio_to_current': 0.8290435799941503}]\n",
      "[{'ticker': 'BIO', 'analyst_ratio_to_current': 0.8605662205693633}]\n"
     ]
    },
    {
     "name": "stderr",
     "output_type": "stream",
     "text": [
      "404 Client Error: Not Found for url: https://query2.finance.yahoo.com/v10/finance/quoteSummary/BIO/B?modules=financialData&corsDomain=finance.yahoo.com&formatted=false&symbol=BIO%2FB&crumb=zgTXR7VBJ.z\n"
     ]
    },
    {
     "name": "stdout",
     "output_type": "stream",
     "text": [
      "[{'ticker': 'BIO', 'analyst_ratio_to_current': 0.8605662205693633}]\n",
      "[{'ticker': 'BIP', 'analyst_ratio_to_current': 0.8988593155893536}]\n"
     ]
    },
    {
     "name": "stderr",
     "output_type": "stream",
     "text": [
      "404 Client Error: Not Found for url: https://query2.finance.yahoo.com/v10/finance/quoteSummary/BIP%5EA?modules=financialData&corsDomain=finance.yahoo.com&formatted=false&symbol=BIP%5EA&crumb=zgTXR7VBJ.z\n"
     ]
    },
    {
     "name": "stdout",
     "output_type": "stream",
     "text": [
      "[{'ticker': 'BIP', 'analyst_ratio_to_current': 0.8988593155893536}]\n"
     ]
    },
    {
     "name": "stderr",
     "output_type": "stream",
     "text": [
      "404 Client Error: Not Found for url: https://query2.finance.yahoo.com/v10/finance/quoteSummary/BIP%5EB?modules=financialData&corsDomain=finance.yahoo.com&formatted=false&symbol=BIP%5EB&crumb=zgTXR7VBJ.z\n"
     ]
    },
    {
     "name": "stdout",
     "output_type": "stream",
     "text": [
      "[{'ticker': 'BIP', 'analyst_ratio_to_current': 0.8988593155893536}]\n",
      "[{'ticker': 'BIP', 'analyst_ratio_to_current': 0.8988593155893536}]\n",
      "[{'ticker': 'BIP', 'analyst_ratio_to_current': 0.8988593155893536}]\n"
     ]
    },
    {
     "name": "stderr",
     "output_type": "stream",
     "text": [
      "404 Client Error: Not Found for url: https://query2.finance.yahoo.com/v10/finance/quoteSummary/BIPI?modules=financialData&corsDomain=finance.yahoo.com&formatted=false&symbol=BIPI&crumb=zgTXR7VBJ.z\n"
     ]
    },
    {
     "name": "stdout",
     "output_type": "stream",
     "text": [
      "[{'ticker': 'BIP', 'analyst_ratio_to_current': 0.8988593155893536}]\n"
     ]
    },
    {
     "name": "stderr",
     "output_type": "stream",
     "text": [
      "404 Client Error: Not Found for url: https://query2.finance.yahoo.com/v10/finance/quoteSummary/BIPJ?modules=financialData&corsDomain=finance.yahoo.com&formatted=false&symbol=BIPJ&crumb=zgTXR7VBJ.z\n"
     ]
    },
    {
     "name": "stdout",
     "output_type": "stream",
     "text": [
      "[{'ticker': 'BIP', 'analyst_ratio_to_current': 0.8988593155893536}]\n",
      "[{'ticker': 'BIRK', 'analyst_ratio_to_current': 0.7372739705211974}]\n",
      "[{'ticker': 'BIRK', 'analyst_ratio_to_current': 0.7372739705211974}]\n",
      "[{'ticker': 'BJ', 'analyst_ratio_to_current': 0.9720893141945773}]\n",
      "[{'ticker': 'BK', 'analyst_ratio_to_current': 0.9428219346888478}]\n",
      "[{'ticker': 'BKD', 'analyst_ratio_to_current': 0.8527027027027027}]\n",
      "[{'ticker': 'BKD', 'analyst_ratio_to_current': 0.8527027027027027}]\n",
      "[{'ticker': 'BKE', 'analyst_ratio_to_current': 1.3906451612903226}]\n",
      "[{'ticker': 'BKH', 'analyst_ratio_to_current': 0.9356589147286822}]\n",
      "[{'ticker': 'BKKT', 'analyst_ratio_to_current': 0.8984615384615384}]\n",
      "[{'ticker': 'BKKT', 'analyst_ratio_to_current': 0.8984615384615384}]\n",
      "[{'ticker': 'BKSY', 'analyst_ratio_to_current': 0.39757645701096367}]\n",
      "[{'ticker': 'BKSY', 'analyst_ratio_to_current': 0.39757645701096367}]\n",
      "[{'ticker': 'BKU', 'analyst_ratio_to_current': 0.9394336654431042}]\n",
      "[{'ticker': 'BKU', 'analyst_ratio_to_current': 0.9394336654431042}]\n",
      "[{'ticker': 'BLCO', 'analyst_ratio_to_current': 0.7332613390928726}]\n",
      "[{'ticker': 'BLD', 'analyst_ratio_to_current': 0.8124314843236132}]\n",
      "[{'ticker': 'BLDR', 'analyst_ratio_to_current': 0.8933146420457292}]\n",
      "[{'ticker': 'BLDR', 'analyst_ratio_to_current': 0.8933146420457292}]\n",
      "[{'ticker': 'BLK', 'analyst_ratio_to_current': 0.9131582114980418}]\n",
      "[{'ticker': 'BLND', 'analyst_ratio_to_current': 0.9100529100529101}]\n",
      "[{'ticker': 'BLND', 'analyst_ratio_to_current': 0.9100529100529101}]\n",
      "[{'ticker': 'BLND', 'analyst_ratio_to_current': 0.9100529100529101}]\n",
      "[{'ticker': 'BMA', 'analyst_ratio_to_current': 0.9293937969924811}]\n",
      "[{'ticker': 'BMA', 'analyst_ratio_to_current': 0.9293937969924811}]\n",
      "[{'ticker': 'BMA', 'analyst_ratio_to_current': 0.9293937969924811}]\n",
      "[{'ticker': 'BMI', 'analyst_ratio_to_current': 0.9229900632339656}]\n"
     ]
    },
    {
     "name": "stderr",
     "output_type": "stream",
     "text": [
      "404 Client Error: Not Found for url: https://query2.finance.yahoo.com/v10/finance/quoteSummary/BML%5EG?modules=financialData&corsDomain=finance.yahoo.com&formatted=false&symbol=BML%5EG&crumb=zgTXR7VBJ.z\n"
     ]
    },
    {
     "name": "stdout",
     "output_type": "stream",
     "text": [
      "[{'ticker': 'BMI', 'analyst_ratio_to_current': 0.9229900632339656}]\n"
     ]
    },
    {
     "name": "stderr",
     "output_type": "stream",
     "text": [
      "404 Client Error: Not Found for url: https://query2.finance.yahoo.com/v10/finance/quoteSummary/BML%5EH?modules=financialData&corsDomain=finance.yahoo.com&formatted=false&symbol=BML%5EH&crumb=zgTXR7VBJ.z\n"
     ]
    },
    {
     "name": "stdout",
     "output_type": "stream",
     "text": [
      "[{'ticker': 'BMI', 'analyst_ratio_to_current': 0.9229900632339656}]\n"
     ]
    },
    {
     "name": "stderr",
     "output_type": "stream",
     "text": [
      "404 Client Error: Not Found for url: https://query2.finance.yahoo.com/v10/finance/quoteSummary/BML%5EJ?modules=financialData&corsDomain=finance.yahoo.com&formatted=false&symbol=BML%5EJ&crumb=zgTXR7VBJ.z\n"
     ]
    },
    {
     "name": "stdout",
     "output_type": "stream",
     "text": [
      "[{'ticker': 'BMI', 'analyst_ratio_to_current': 0.9229900632339656}]\n"
     ]
    },
    {
     "name": "stderr",
     "output_type": "stream",
     "text": [
      "404 Client Error: Not Found for url: https://query2.finance.yahoo.com/v10/finance/quoteSummary/BML%5EL?modules=financialData&corsDomain=finance.yahoo.com&formatted=false&symbol=BML%5EL&crumb=zgTXR7VBJ.z\n"
     ]
    },
    {
     "name": "stdout",
     "output_type": "stream",
     "text": [
      "[{'ticker': 'BMI', 'analyst_ratio_to_current': 0.9229900632339656}]\n",
      "[{'ticker': 'BMI', 'analyst_ratio_to_current': 0.9229900632339656}]\n",
      "[{'ticker': 'BMO', 'analyst_ratio_to_current': 1.064314171883893}]\n",
      "[{'ticker': 'BMY', 'analyst_ratio_to_current': 0.9896597104718933}]\n",
      "[{'ticker': 'BN', 'analyst_ratio_to_current': 0.7541028823610536}]\n",
      "[{'ticker': 'BNED', 'analyst_ratio_to_current': 13.56}]\n"
     ]
    },
    {
     "name": "stderr",
     "output_type": "stream",
     "text": [
      "404 Client Error: Not Found for url: https://query2.finance.yahoo.com/v10/finance/quoteSummary/BNH?modules=financialData&corsDomain=finance.yahoo.com&formatted=false&symbol=BNH&crumb=zgTXR7VBJ.z\n"
     ]
    },
    {
     "name": "stdout",
     "output_type": "stream",
     "text": [
      "[{'ticker': 'BNED', 'analyst_ratio_to_current': 13.56}]\n"
     ]
    },
    {
     "name": "stderr",
     "output_type": "stream",
     "text": [
      "404 Client Error: Not Found for url: https://query2.finance.yahoo.com/v10/finance/quoteSummary/BNJ?modules=financialData&corsDomain=finance.yahoo.com&formatted=false&symbol=BNJ&crumb=zgTXR7VBJ.z\n"
     ]
    },
    {
     "name": "stdout",
     "output_type": "stream",
     "text": [
      "[{'ticker': 'BNED', 'analyst_ratio_to_current': 13.56}]\n",
      "[{'ticker': 'BNL', 'analyst_ratio_to_current': 0.9500000000000001}]\n",
      "[{'ticker': 'BNS', 'analyst_ratio_to_current': 1.052652895909275}]\n",
      "[{'ticker': 'BNS', 'analyst_ratio_to_current': 1.052652895909275}]\n",
      "[{'ticker': 'BNS', 'analyst_ratio_to_current': 1.052652895909275}]\n",
      "[{'ticker': 'BOC', 'analyst_ratio_to_current': 0.7204651162790697}]\n",
      "[{'ticker': 'BODI', 'analyst_ratio_to_current': 0.5095201827875095}]\n",
      "[{'ticker': 'BODI', 'analyst_ratio_to_current': 0.5095201827875095}]\n",
      "[{'ticker': 'BOH', 'analyst_ratio_to_current': 1.252076124567474}]\n"
     ]
    },
    {
     "name": "stderr",
     "output_type": "stream",
     "text": [
      "404 Client Error: Not Found for url: https://query2.finance.yahoo.com/v10/finance/quoteSummary/BOH%5EA?modules=financialData&corsDomain=finance.yahoo.com&formatted=false&symbol=BOH%5EA&crumb=zgTXR7VBJ.z\n"
     ]
    },
    {
     "name": "stdout",
     "output_type": "stream",
     "text": [
      "[{'ticker': 'BOH', 'analyst_ratio_to_current': 1.252076124567474}]\n"
     ]
    },
    {
     "name": "stderr",
     "output_type": "stream",
     "text": [
      "404 Client Error: Not Found for url: https://query2.finance.yahoo.com/v10/finance/quoteSummary/BOH%5EB?modules=financialData&corsDomain=finance.yahoo.com&formatted=false&symbol=BOH%5EB&crumb=zgTXR7VBJ.z\n"
     ]
    },
    {
     "name": "stdout",
     "output_type": "stream",
     "text": [
      "[{'ticker': 'BOH', 'analyst_ratio_to_current': 1.252076124567474}]\n",
      "[{'ticker': 'BOOT', 'analyst_ratio_to_current': 0.9146196176320417}]\n",
      "[{'ticker': 'BORR', 'analyst_ratio_to_current': 0.46842105263157896}]\n",
      "[{'ticker': 'BOW', 'analyst_ratio_to_current': 0.999}]\n",
      "[{'ticker': 'BOWL', 'analyst_ratio_to_current': 0.6302566903331512}]\n",
      "[{'ticker': 'BOX', 'analyst_ratio_to_current': 0.9803981623277183}]\n",
      "[{'ticker': 'BP', 'analyst_ratio_to_current': 0.777027027027027}]\n",
      "[{'ticker': 'BP', 'analyst_ratio_to_current': 0.777027027027027}]\n",
      "[{'ticker': 'BR', 'analyst_ratio_to_current': 0.9813556208670096}]\n",
      "[{'ticker': 'BRBR', 'analyst_ratio_to_current': 0.9738219895287958}]\n",
      "[{'ticker': 'BRC', 'analyst_ratio_to_current': 0.8474418604651163}]\n",
      "[{'ticker': 'BRCC', 'analyst_ratio_to_current': 0.6374269005847953}]\n",
      "[{'ticker': 'BRDG', 'analyst_ratio_to_current': 0.9080851063829787}]\n",
      "[{'ticker': 'BRFS', 'analyst_ratio_to_current': 1.0022321428571428}]\n"
     ]
    },
    {
     "name": "stderr",
     "output_type": "stream",
     "text": [
      "404 Client Error: Not Found for url: https://query2.finance.yahoo.com/v10/finance/quoteSummary/BRK/A?modules=financialData&corsDomain=finance.yahoo.com&formatted=false&symbol=BRK%2FA&crumb=zgTXR7VBJ.z\n"
     ]
    },
    {
     "name": "stdout",
     "output_type": "stream",
     "text": [
      "[{'ticker': 'BRFS', 'analyst_ratio_to_current': 1.0022321428571428}]\n"
     ]
    },
    {
     "name": "stderr",
     "output_type": "stream",
     "text": [
      "404 Client Error: Not Found for url: https://query2.finance.yahoo.com/v10/finance/quoteSummary/BRK/B?modules=financialData&corsDomain=finance.yahoo.com&formatted=false&symbol=BRK%2FB&crumb=zgTXR7VBJ.z\n"
     ]
    },
    {
     "name": "stdout",
     "output_type": "stream",
     "text": [
      "[{'ticker': 'BRFS', 'analyst_ratio_to_current': 1.0022321428571428}]\n",
      "[{'ticker': 'BRO', 'analyst_ratio_to_current': 0.9519204200055263}]\n",
      "[{'ticker': 'BROS', 'analyst_ratio_to_current': 0.8954851583936143}]\n",
      "[{'ticker': 'BRSP', 'analyst_ratio_to_current': 0.7066666666666667}]\n",
      "[{'ticker': 'BRT', 'analyst_ratio_to_current': 0.7697277341947392}]\n",
      "[{'ticker': 'BRT', 'analyst_ratio_to_current': 0.7697277341947392}]\n",
      "[{'ticker': 'BRX', 'analyst_ratio_to_current': 0.9591836734693877}]\n",
      "[{'ticker': 'BSAC', 'analyst_ratio_to_current': 0.9462563160312357}]\n",
      "[{'ticker': 'BSBR', 'analyst_ratio_to_current': 0.7689969604863222}]\n",
      "[{'ticker': 'BSIG', 'analyst_ratio_to_current': 1.0438215554678247}]\n",
      "[{'ticker': 'BSIG', 'analyst_ratio_to_current': 1.0438215554678247}]\n",
      "[{'ticker': 'BSM', 'analyst_ratio_to_current': 0.978}]\n",
      "[{'ticker': 'BSM', 'analyst_ratio_to_current': 0.978}]\n",
      "[{'ticker': 'BSM', 'analyst_ratio_to_current': 0.978}]\n",
      "[{'ticker': 'BSX', 'analyst_ratio_to_current': 0.8823651884239018}]\n",
      "[{'ticker': 'BSX', 'analyst_ratio_to_current': 0.8823651884239018}]\n",
      "[{'ticker': 'BSX', 'analyst_ratio_to_current': 0.8823651884239018}]\n",
      "[{'ticker': 'BTE', 'analyst_ratio_to_current': 0.6597222222222222}]\n",
      "[{'ticker': 'BTI', 'analyst_ratio_to_current': 0.9548687089715534}]\n",
      "[{'ticker': 'BTI', 'analyst_ratio_to_current': 0.9548687089715534}]\n",
      "[{'ticker': 'BTI', 'analyst_ratio_to_current': 0.9548687089715534}]\n",
      "[{'ticker': 'BTU', 'analyst_ratio_to_current': 0.8620689655172413}]\n",
      "[{'ticker': 'BTU', 'analyst_ratio_to_current': 0.8620689655172413}]\n",
      "[{'ticker': 'BUD', 'analyst_ratio_to_current': 0.8891190278928472}]\n",
      "[{'ticker': 'BUD', 'analyst_ratio_to_current': 0.8891190278928472}]\n",
      "[{'ticker': 'BUR', 'analyst_ratio_to_current': 0.6923857868020306}]\n",
      "[{'ticker': 'BURL', 'analyst_ratio_to_current': 0.8189078211387371}]\n",
      "[{'ticker': 'BV', 'analyst_ratio_to_current': 0.9642018779342724}]\n",
      "[{'ticker': 'BVN', 'analyst_ratio_to_current': 0.8397190293742018}]\n",
      "[{'ticker': 'BW', 'analyst_ratio_to_current': 0.5464362850971922}]\n"
     ]
    },
    {
     "name": "stderr",
     "output_type": "stream",
     "text": [
      "404 Client Error: Not Found for url: https://query2.finance.yahoo.com/v10/finance/quoteSummary/BW%5EA?modules=financialData&corsDomain=finance.yahoo.com&formatted=false&symbol=BW%5EA&crumb=zgTXR7VBJ.z\n"
     ]
    },
    {
     "name": "stdout",
     "output_type": "stream",
     "text": [
      "[{'ticker': 'BW', 'analyst_ratio_to_current': 0.5464362850971922}]\n",
      "[{'ticker': 'BWA', 'analyst_ratio_to_current': 0.8411146418968467}]\n",
      "[{'ticker': 'BWA', 'analyst_ratio_to_current': 0.8411146418968467}]\n",
      "[{'ticker': 'BWA', 'analyst_ratio_to_current': 0.8411146418968467}]\n",
      "[{'ticker': 'BWMX', 'analyst_ratio_to_current': 0.6314741035856574}]\n"
     ]
    },
    {
     "name": "stderr",
     "output_type": "stream",
     "text": [
      "404 Client Error: Not Found for url: https://query2.finance.yahoo.com/v10/finance/quoteSummary/BWNB?modules=financialData&corsDomain=finance.yahoo.com&formatted=false&symbol=BWNB&crumb=zgTXR7VBJ.z\n"
     ]
    },
    {
     "name": "stdout",
     "output_type": "stream",
     "text": [
      "[{'ticker': 'BWMX', 'analyst_ratio_to_current': 0.6314741035856574}]\n"
     ]
    },
    {
     "name": "stderr",
     "output_type": "stream",
     "text": [
      "404 Client Error: Not Found for url: https://query2.finance.yahoo.com/v10/finance/quoteSummary/BWSN?modules=financialData&corsDomain=finance.yahoo.com&formatted=false&symbol=BWSN&crumb=zgTXR7VBJ.z\n"
     ]
    },
    {
     "name": "stdout",
     "output_type": "stream",
     "text": [
      "[{'ticker': 'BWMX', 'analyst_ratio_to_current': 0.6314741035856574}]\n",
      "[{'ticker': 'BWXT', 'analyst_ratio_to_current': 1.0796475617203176}]\n",
      "[{'ticker': 'BX', 'analyst_ratio_to_current': 1.037731241223518}]\n",
      "[{'ticker': 'BXC', 'analyst_ratio_to_current': 0.7895202952029521}]\n",
      "[{'ticker': 'BXMT', 'analyst_ratio_to_current': 0.9359556227937469}]\n",
      "[{'ticker': 'BXMT', 'analyst_ratio_to_current': 0.9359556227937469}]\n",
      "[{'ticker': 'BXP', 'analyst_ratio_to_current': 1.1212471131639723}]\n",
      "[{'ticker': 'BXSL', 'analyst_ratio_to_current': 0.9752245277175596}]\n",
      "[{'ticker': 'BY', 'analyst_ratio_to_current': 0.9218543046357616}]\n",
      "[{'ticker': 'BYD', 'analyst_ratio_to_current': 0.970078526942865}]\n",
      "[{'ticker': 'BYD', 'analyst_ratio_to_current': 0.970078526942865}]\n",
      "[{'ticker': 'BYON', 'analyst_ratio_to_current': 0.4339739615623063}]\n",
      "[{'ticker': 'BZH', 'analyst_ratio_to_current': 0.7888198757763976}]\n",
      "[{'ticker': 'C', 'analyst_ratio_to_current': 0.8762633160338705}]\n"
     ]
    },
    {
     "name": "stderr",
     "output_type": "stream",
     "text": [
      "404 Client Error: Not Found for url: https://query2.finance.yahoo.com/v10/finance/quoteSummary/C%5EN?modules=financialData&corsDomain=finance.yahoo.com&formatted=false&symbol=C%5EN&crumb=zgTXR7VBJ.z\n"
     ]
    },
    {
     "name": "stdout",
     "output_type": "stream",
     "text": [
      "[{'ticker': 'C', 'analyst_ratio_to_current': 0.8762633160338705}]\n",
      "[{'ticker': 'CAAP', 'analyst_ratio_to_current': 0.8927563499529633}]\n",
      "[{'ticker': 'CABO', 'analyst_ratio_to_current': 0.6965185200169928}]\n",
      "[{'ticker': 'CACI', 'analyst_ratio_to_current': 0.973433085138521}]\n",
      "[{'ticker': 'CADE', 'analyst_ratio_to_current': 0.9072137302225798}]\n"
     ]
    },
    {
     "name": "stderr",
     "output_type": "stream",
     "text": [
      "404 Client Error: Not Found for url: https://query2.finance.yahoo.com/v10/finance/quoteSummary/CADE%5EA?modules=financialData&corsDomain=finance.yahoo.com&formatted=false&symbol=CADE%5EA&crumb=zgTXR7VBJ.z\n"
     ]
    },
    {
     "name": "stdout",
     "output_type": "stream",
     "text": [
      "[{'ticker': 'CADE', 'analyst_ratio_to_current': 0.9072137302225798}]\n",
      "[{'ticker': 'CAE', 'analyst_ratio_to_current': 0.8952654232424676}]\n",
      "[{'ticker': 'CAE', 'analyst_ratio_to_current': 0.8952654232424676}]\n",
      "[{'ticker': 'CAG', 'analyst_ratio_to_current': 0.9489795918367347}]\n",
      "[{'ticker': 'CAH', 'analyst_ratio_to_current': 0.9357697501688048}]\n",
      "[{'ticker': 'CAL', 'analyst_ratio_to_current': 0.8369239160076357}]\n",
      "[{'ticker': 'CALX', 'analyst_ratio_to_current': 0.9073563218390804}]\n",
      "[{'ticker': 'CALX', 'analyst_ratio_to_current': 0.9073563218390804}]\n",
      "[{'ticker': 'CALX', 'analyst_ratio_to_current': 0.9073563218390804}]\n",
      "[{'ticker': 'CARR', 'analyst_ratio_to_current': 0.9337282487967419}]\n",
      "[{'ticker': 'CARS', 'analyst_ratio_to_current': 0.7614332861857613}]\n",
      "[{'ticker': 'CAT', 'analyst_ratio_to_current': 1.0917602996254683}]\n",
      "[{'ticker': 'CAT', 'analyst_ratio_to_current': 1.0917602996254683}]\n",
      "[{'ticker': 'CAVA', 'analyst_ratio_to_current': 1.155650141879486}]\n",
      "[{'ticker': 'CB', 'analyst_ratio_to_current': 0.9824858565669569}]\n",
      "[{'ticker': 'CB', 'analyst_ratio_to_current': 0.9824858565669569}]\n",
      "[{'ticker': 'CB', 'analyst_ratio_to_current': 0.9824858565669569}]\n",
      "[{'ticker': 'CBRE', 'analyst_ratio_to_current': 0.9893984962406015}]\n",
      "[{'ticker': 'CBT', 'analyst_ratio_to_current': 0.9608714596949891}]\n",
      "[{'ticker': 'CBU', 'analyst_ratio_to_current': 0.9420849420849421}]\n",
      "[{'ticker': 'CBZ', 'analyst_ratio_to_current': 0.8055421686746987}]\n",
      "[{'ticker': 'CC', 'analyst_ratio_to_current': 0.7018609950626662}]\n",
      "[{'ticker': 'CCI', 'analyst_ratio_to_current': 0.9330082135523614}]\n"
     ]
    },
    {
     "name": "stderr",
     "output_type": "stream",
     "text": [
      "404 Client Error: Not Found for url: https://query2.finance.yahoo.com/v10/finance/quoteSummary/CCIA?modules=financialData&corsDomain=finance.yahoo.com&formatted=false&symbol=CCIA&crumb=zgTXR7VBJ.z\n"
     ]
    },
    {
     "name": "stdout",
     "output_type": "stream",
     "text": [
      "[{'ticker': 'CCI', 'analyst_ratio_to_current': 0.9330082135523614}]\n",
      "[{'ticker': 'CCIF', 'analyst_ratio_to_current': 0.9405714285714286}]\n",
      "[{'ticker': 'CCJ', 'analyst_ratio_to_current': 0.996028163928507}]\n",
      "[{'ticker': 'CCK', 'analyst_ratio_to_current': 0.8521240365656928}]\n",
      "[{'ticker': 'CCL', 'analyst_ratio_to_current': 0.9099211290992114}]\n",
      "[{'ticker': 'CCL', 'analyst_ratio_to_current': 0.9099211290992114}]\n",
      "[{'ticker': 'CCO', 'analyst_ratio_to_current': 0.7584541062801933}]\n",
      "[{'ticker': 'CCRD', 'analyst_ratio_to_current': 0.9239999999999999}]\n",
      "[{'ticker': 'CCS', 'analyst_ratio_to_current': 0.8494883720930232}]\n",
      "[{'ticker': 'CCU', 'analyst_ratio_to_current': 0.90234375}]\n",
      "[{'ticker': 'CCU', 'analyst_ratio_to_current': 0.90234375}]\n",
      "[{'ticker': 'CDE', 'analyst_ratio_to_current': 0.7846332945285216}]\n",
      "[{'ticker': 'CDE', 'analyst_ratio_to_current': 0.7846332945285216}]\n",
      "[{'ticker': 'CDP', 'analyst_ratio_to_current': 1.004008633980882}]\n"
     ]
    },
    {
     "name": "stderr",
     "output_type": "stream",
     "text": [
      "404 Client Error: Not Found for url: https://query2.finance.yahoo.com/v10/finance/quoteSummary/CDR%5EB?modules=financialData&corsDomain=finance.yahoo.com&formatted=false&symbol=CDR%5EB&crumb=zgTXR7VBJ.z\n"
     ]
    },
    {
     "name": "stdout",
     "output_type": "stream",
     "text": [
      "[{'ticker': 'CDP', 'analyst_ratio_to_current': 1.004008633980882}]\n"
     ]
    },
    {
     "name": "stderr",
     "output_type": "stream",
     "text": [
      "404 Client Error: Not Found for url: https://query2.finance.yahoo.com/v10/finance/quoteSummary/CDR%5EC?modules=financialData&corsDomain=finance.yahoo.com&formatted=false&symbol=CDR%5EC&crumb=zgTXR7VBJ.z\n"
     ]
    },
    {
     "name": "stdout",
     "output_type": "stream",
     "text": [
      "[{'ticker': 'CDP', 'analyst_ratio_to_current': 1.004008633980882}]\n",
      "[{'ticker': 'CDRE', 'analyst_ratio_to_current': 0.8774117647058823}]\n",
      "[{'ticker': 'CE', 'analyst_ratio_to_current': 0.8794235063265444}]\n",
      "[{'ticker': 'CE', 'analyst_ratio_to_current': 0.8794235063265444}]\n",
      "[{'ticker': 'CEIX', 'analyst_ratio_to_current': 0.9037190082644627}]\n",
      "[{'ticker': 'CEPU', 'analyst_ratio_to_current': 0.8311111111111111}]\n",
      "[{'ticker': 'CF', 'analyst_ratio_to_current': 0.951335656213705}]\n",
      "[{'ticker': 'CFG', 'analyst_ratio_to_current': 0.9157917291622028}]\n"
     ]
    },
    {
     "name": "stderr",
     "output_type": "stream",
     "text": [
      "404 Client Error: Not Found for url: https://query2.finance.yahoo.com/v10/finance/quoteSummary/CFG%5EE?modules=financialData&corsDomain=finance.yahoo.com&formatted=false&symbol=CFG%5EE&crumb=zgTXR7VBJ.z\n"
     ]
    },
    {
     "name": "stdout",
     "output_type": "stream",
     "text": [
      "[{'ticker': 'CFG', 'analyst_ratio_to_current': 0.9157917291622028}]\n"
     ]
    },
    {
     "name": "stderr",
     "output_type": "stream",
     "text": [
      "404 Client Error: Not Found for url: https://query2.finance.yahoo.com/v10/finance/quoteSummary/CFG%5EH?modules=financialData&corsDomain=finance.yahoo.com&formatted=false&symbol=CFG%5EH&crumb=zgTXR7VBJ.z\n"
     ]
    },
    {
     "name": "stdout",
     "output_type": "stream",
     "text": [
      "[{'ticker': 'CFG', 'analyst_ratio_to_current': 0.9157917291622028}]\n",
      "[{'ticker': 'CFR', 'analyst_ratio_to_current': 1.0870636550308008}]\n"
     ]
    },
    {
     "name": "stderr",
     "output_type": "stream",
     "text": [
      "404 Client Error: Not Found for url: https://query2.finance.yahoo.com/v10/finance/quoteSummary/CFR%5EB?modules=financialData&corsDomain=finance.yahoo.com&formatted=false&symbol=CFR%5EB&crumb=zgTXR7VBJ.z\n"
     ]
    },
    {
     "name": "stdout",
     "output_type": "stream",
     "text": [
      "[{'ticker': 'CFR', 'analyst_ratio_to_current': 1.0870636550308008}]\n",
      "[{'ticker': 'CFR', 'analyst_ratio_to_current': 1.0870636550308008}]\n",
      "[{'ticker': 'CGAU', 'analyst_ratio_to_current': 0.9203084832904884}]\n",
      "[{'ticker': 'CHCT', 'analyst_ratio_to_current': 0.8511761881901105}]\n",
      "[{'ticker': 'CHD', 'analyst_ratio_to_current': 0.9450107546993359}]\n",
      "[{'ticker': 'CHE', 'analyst_ratio_to_current': 0.8888321167883212}]\n",
      "[{'ticker': 'CHGG', 'analyst_ratio_to_current': 0.5777027027027027}]\n",
      "[{'ticker': 'CHH', 'analyst_ratio_to_current': 1.1251897419509467}]\n",
      "[{'ticker': 'CHMI', 'analyst_ratio_to_current': 0.67}]\n"
     ]
    },
    {
     "name": "stderr",
     "output_type": "stream",
     "text": [
      "404 Client Error: Not Found for url: https://query2.finance.yahoo.com/v10/finance/quoteSummary/CHMI%5EA?modules=financialData&corsDomain=finance.yahoo.com&formatted=false&symbol=CHMI%5EA&crumb=zgTXR7VBJ.z\n"
     ]
    },
    {
     "name": "stdout",
     "output_type": "stream",
     "text": [
      "[{'ticker': 'CHMI', 'analyst_ratio_to_current': 0.67}]\n"
     ]
    },
    {
     "name": "stderr",
     "output_type": "stream",
     "text": [
      "404 Client Error: Not Found for url: https://query2.finance.yahoo.com/v10/finance/quoteSummary/CHMI%5EB?modules=financialData&corsDomain=finance.yahoo.com&formatted=false&symbol=CHMI%5EB&crumb=zgTXR7VBJ.z\n"
     ]
    },
    {
     "name": "stdout",
     "output_type": "stream",
     "text": [
      "[{'ticker': 'CHMI', 'analyst_ratio_to_current': 0.67}]\n",
      "[{'ticker': 'CHMI', 'analyst_ratio_to_current': 0.67}]\n",
      "[{'ticker': 'CHPT', 'analyst_ratio_to_current': 0.5161290322580645}]\n",
      "[{'ticker': 'CHT', 'analyst_ratio_to_current': 0.9095272378209742}]\n",
      "[{'ticker': 'CHWY', 'analyst_ratio_to_current': 0.8647950951919975}]\n",
      "[{'ticker': 'CI', 'analyst_ratio_to_current': 0.7930695812032538}]\n",
      "[{'ticker': 'CIA', 'analyst_ratio_to_current': 0.927342256214149}]\n",
      "[{'ticker': 'CIB', 'analyst_ratio_to_current': 0.937963787474028}]\n",
      "[{'ticker': 'CIB', 'analyst_ratio_to_current': 0.937963787474028}]\n",
      "[{'ticker': 'CIEN', 'analyst_ratio_to_current': 0.9860000000000001}]\n",
      "[{'ticker': 'CIEN', 'analyst_ratio_to_current': 0.9860000000000001}]\n",
      "[{'ticker': 'CIG', 'analyst_ratio_to_current': 0.9238095238095237}]\n",
      "[{'ticker': 'CIG', 'analyst_ratio_to_current': 0.9238095238095237}]\n",
      "[{'ticker': 'CIM', 'analyst_ratio_to_current': 0.9464615384615385}]\n"
     ]
    },
    {
     "name": "stderr",
     "output_type": "stream",
     "text": [
      "404 Client Error: Not Found for url: https://query2.finance.yahoo.com/v10/finance/quoteSummary/CIM%5EA?modules=financialData&corsDomain=finance.yahoo.com&formatted=false&symbol=CIM%5EA&crumb=zgTXR7VBJ.z\n"
     ]
    },
    {
     "name": "stdout",
     "output_type": "stream",
     "text": [
      "[{'ticker': 'CIM', 'analyst_ratio_to_current': 0.9464615384615385}]\n"
     ]
    },
    {
     "name": "stderr",
     "output_type": "stream",
     "text": [
      "404 Client Error: Not Found for url: https://query2.finance.yahoo.com/v10/finance/quoteSummary/CIM%5EB?modules=financialData&corsDomain=finance.yahoo.com&formatted=false&symbol=CIM%5EB&crumb=zgTXR7VBJ.z\n"
     ]
    },
    {
     "name": "stdout",
     "output_type": "stream",
     "text": [
      "[{'ticker': 'CIM', 'analyst_ratio_to_current': 0.9464615384615385}]\n"
     ]
    },
    {
     "name": "stderr",
     "output_type": "stream",
     "text": [
      "404 Client Error: Not Found for url: https://query2.finance.yahoo.com/v10/finance/quoteSummary/CIM%5EC?modules=financialData&corsDomain=finance.yahoo.com&formatted=false&symbol=CIM%5EC&crumb=zgTXR7VBJ.z\n"
     ]
    },
    {
     "name": "stdout",
     "output_type": "stream",
     "text": [
      "[{'ticker': 'CIM', 'analyst_ratio_to_current': 0.9464615384615385}]\n"
     ]
    },
    {
     "name": "stderr",
     "output_type": "stream",
     "text": [
      "404 Client Error: Not Found for url: https://query2.finance.yahoo.com/v10/finance/quoteSummary/CIM%5ED?modules=financialData&corsDomain=finance.yahoo.com&formatted=false&symbol=CIM%5ED&crumb=zgTXR7VBJ.z\n"
     ]
    },
    {
     "name": "stdout",
     "output_type": "stream",
     "text": [
      "[{'ticker': 'CIM', 'analyst_ratio_to_current': 0.9464615384615385}]\n"
     ]
    },
    {
     "name": "stderr",
     "output_type": "stream",
     "text": [
      "404 Client Error: Not Found for url: https://query2.finance.yahoo.com/v10/finance/quoteSummary/CIMN?modules=financialData&corsDomain=finance.yahoo.com&formatted=false&symbol=CIMN&crumb=zgTXR7VBJ.z\n"
     ]
    },
    {
     "name": "stdout",
     "output_type": "stream",
     "text": [
      "[{'ticker': 'CIM', 'analyst_ratio_to_current': 0.9464615384615385}]\n",
      "[{'ticker': 'CIM', 'analyst_ratio_to_current': 0.9464615384615385}]\n",
      "[{'ticker': 'CINT', 'analyst_ratio_to_current': 0.8903225806451613}]\n",
      "[{'ticker': 'CIO', 'analyst_ratio_to_current': 0.7956521739130434}]\n"
     ]
    },
    {
     "name": "stderr",
     "output_type": "stream",
     "text": [
      "404 Client Error: Not Found for url: https://query2.finance.yahoo.com/v10/finance/quoteSummary/CIO%5EA?modules=financialData&corsDomain=finance.yahoo.com&formatted=false&symbol=CIO%5EA&crumb=zgTXR7VBJ.z\n"
     ]
    },
    {
     "name": "stdout",
     "output_type": "stream",
     "text": [
      "[{'ticker': 'CIO', 'analyst_ratio_to_current': 0.7956521739130434}]\n",
      "[{'ticker': 'CION', 'analyst_ratio_to_current': 0.9576}]\n",
      "[{'ticker': 'CIVI', 'analyst_ratio_to_current': 0.6515873015873016}]\n",
      "[{'ticker': 'CL', 'analyst_ratio_to_current': 0.8908532613752674}]\n",
      "[{'ticker': 'CLB', 'analyst_ratio_to_current': 0.9657603222557906}]\n"
     ]
    },
    {
     "name": "stderr",
     "output_type": "stream",
     "text": [
      "404 Client Error: Not Found for url: https://query2.finance.yahoo.com/v10/finance/quoteSummary/CLBR?modules=financialData&corsDomain=finance.yahoo.com&formatted=false&symbol=CLBR&crumb=zgTXR7VBJ.z\n"
     ]
    },
    {
     "name": "stdout",
     "output_type": "stream",
     "text": [
      "[{'ticker': 'CLB', 'analyst_ratio_to_current': 0.9657603222557906}]\n",
      "[{'ticker': 'CLB', 'analyst_ratio_to_current': 0.9657603222557906}]\n",
      "[{'ticker': 'CLDT', 'analyst_ratio_to_current': 0.7674418604651163}]\n"
     ]
    },
    {
     "name": "stderr",
     "output_type": "stream",
     "text": [
      "404 Client Error: Not Found for url: https://query2.finance.yahoo.com/v10/finance/quoteSummary/CLDT%5EA?modules=financialData&corsDomain=finance.yahoo.com&formatted=false&symbol=CLDT%5EA&crumb=zgTXR7VBJ.z\n"
     ]
    },
    {
     "name": "stdout",
     "output_type": "stream",
     "text": [
      "[{'ticker': 'CLDT', 'analyst_ratio_to_current': 0.7674418604651163}]\n",
      "[{'ticker': 'CLF', 'analyst_ratio_to_current': 0.9356605065023956}]\n",
      "[{'ticker': 'CLH', 'analyst_ratio_to_current': 0.9410469936534722}]\n",
      "[{'ticker': 'CLH', 'analyst_ratio_to_current': 0.9410469936534722}]\n",
      "[{'ticker': 'CLS', 'analyst_ratio_to_current': 0.9855600729006028}]\n",
      "[{'ticker': 'CLVT', 'analyst_ratio_to_current': 0.859395532194481}]\n",
      "[{'ticker': 'CLW', 'analyst_ratio_to_current': 0.7256756756756757}]\n",
      "[{'ticker': 'CLX', 'analyst_ratio_to_current': 1.011609261753576}]\n",
      "[{'ticker': 'CM', 'analyst_ratio_to_current': 1.155109489051095}]\n",
      "[{'ticker': 'CMA', 'analyst_ratio_to_current': 0.9541717417783191}]\n",
      "[{'ticker': 'CMBT', 'analyst_ratio_to_current': 0.8765505020673361}]\n",
      "[{'ticker': 'CMC', 'analyst_ratio_to_current': 0.8563544623147272}]\n",
      "[{'ticker': 'CMC', 'analyst_ratio_to_current': 0.8563544623147272}]\n",
      "[{'ticker': 'CMG', 'analyst_ratio_to_current': 0.9418713086726764}]\n",
      "[{'ticker': 'CMI', 'analyst_ratio_to_current': 1.0098370549185276}]\n",
      "[{'ticker': 'CMP', 'analyst_ratio_to_current': 0.8147058823529412}]\n",
      "[{'ticker': 'CMRE', 'analyst_ratio_to_current': 0.9564285714285715}]\n"
     ]
    },
    {
     "name": "stderr",
     "output_type": "stream",
     "text": [
      "404 Client Error: Not Found for url: https://query2.finance.yahoo.com/v10/finance/quoteSummary/CMRE%5EB?modules=financialData&corsDomain=finance.yahoo.com&formatted=false&symbol=CMRE%5EB&crumb=zgTXR7VBJ.z\n"
     ]
    },
    {
     "name": "stdout",
     "output_type": "stream",
     "text": [
      "[{'ticker': 'CMRE', 'analyst_ratio_to_current': 0.9564285714285715}]\n"
     ]
    },
    {
     "name": "stderr",
     "output_type": "stream",
     "text": [
      "404 Client Error: Not Found for url: https://query2.finance.yahoo.com/v10/finance/quoteSummary/CMRE%5EC?modules=financialData&corsDomain=finance.yahoo.com&formatted=false&symbol=CMRE%5EC&crumb=zgTXR7VBJ.z\n"
     ]
    },
    {
     "name": "stdout",
     "output_type": "stream",
     "text": [
      "[{'ticker': 'CMRE', 'analyst_ratio_to_current': 0.9564285714285715}]\n"
     ]
    },
    {
     "name": "stderr",
     "output_type": "stream",
     "text": [
      "404 Client Error: Not Found for url: https://query2.finance.yahoo.com/v10/finance/quoteSummary/CMRE%5ED?modules=financialData&corsDomain=finance.yahoo.com&formatted=false&symbol=CMRE%5ED&crumb=zgTXR7VBJ.z\n"
     ]
    },
    {
     "name": "stdout",
     "output_type": "stream",
     "text": [
      "[{'ticker': 'CMRE', 'analyst_ratio_to_current': 0.9564285714285715}]\n",
      "[{'ticker': 'CMS', 'analyst_ratio_to_current': 0.9746610053417339}]\n"
     ]
    },
    {
     "name": "stderr",
     "output_type": "stream",
     "text": [
      "404 Client Error: Not Found for url: https://query2.finance.yahoo.com/v10/finance/quoteSummary/CMS%5EB?modules=financialData&corsDomain=finance.yahoo.com&formatted=false&symbol=CMS%5EB&crumb=zgTXR7VBJ.z\n"
     ]
    },
    {
     "name": "stdout",
     "output_type": "stream",
     "text": [
      "[{'ticker': 'CMS', 'analyst_ratio_to_current': 0.9746610053417339}]\n"
     ]
    },
    {
     "name": "stderr",
     "output_type": "stream",
     "text": [
      "404 Client Error: Not Found for url: https://query2.finance.yahoo.com/v10/finance/quoteSummary/CMS%5EC?modules=financialData&corsDomain=finance.yahoo.com&formatted=false&symbol=CMS%5EC&crumb=zgTXR7VBJ.z\n"
     ]
    },
    {
     "name": "stdout",
     "output_type": "stream",
     "text": [
      "[{'ticker': 'CMS', 'analyst_ratio_to_current': 0.9746610053417339}]\n"
     ]
    },
    {
     "name": "stderr",
     "output_type": "stream",
     "text": [
      "404 Client Error: Not Found for url: https://query2.finance.yahoo.com/v10/finance/quoteSummary/CMSA?modules=financialData&corsDomain=finance.yahoo.com&formatted=false&symbol=CMSA&crumb=zgTXR7VBJ.z\n"
     ]
    },
    {
     "name": "stdout",
     "output_type": "stream",
     "text": [
      "[{'ticker': 'CMS', 'analyst_ratio_to_current': 0.9746610053417339}]\n"
     ]
    },
    {
     "name": "stderr",
     "output_type": "stream",
     "text": [
      "404 Client Error: Not Found for url: https://query2.finance.yahoo.com/v10/finance/quoteSummary/CMSC?modules=financialData&corsDomain=finance.yahoo.com&formatted=false&symbol=CMSC&crumb=zgTXR7VBJ.z\n"
     ]
    },
    {
     "name": "stdout",
     "output_type": "stream",
     "text": [
      "[{'ticker': 'CMS', 'analyst_ratio_to_current': 0.9746610053417339}]\n"
     ]
    },
    {
     "name": "stderr",
     "output_type": "stream",
     "text": [
      "404 Client Error: Not Found for url: https://query2.finance.yahoo.com/v10/finance/quoteSummary/CMSD?modules=financialData&corsDomain=finance.yahoo.com&formatted=false&symbol=CMSD&crumb=zgTXR7VBJ.z\n"
     ]
    },
    {
     "name": "stdout",
     "output_type": "stream",
     "text": [
      "[{'ticker': 'CMS', 'analyst_ratio_to_current': 0.9746610053417339}]\n",
      "[{'ticker': 'CMTG', 'analyst_ratio_to_current': 0.8521505376344085}]\n",
      "[{'ticker': 'CMTG', 'analyst_ratio_to_current': 0.8521505376344085}]\n",
      "[{'ticker': 'CNA', 'analyst_ratio_to_current': 0.9627450980392157}]\n",
      "[{'ticker': 'CNC', 'analyst_ratio_to_current': 0.7305367934589406}]\n",
      "[{'ticker': 'CNF', 'analyst_ratio_to_current': 0.27}]\n",
      "[{'ticker': 'CNH', 'analyst_ratio_to_current': 0.8502235469448585}]\n",
      "[{'ticker': 'CNI', 'analyst_ratio_to_current': 0.8657169546940681}]\n",
      "[{'ticker': 'CNK', 'analyst_ratio_to_current': 0.9955932203389831}]\n",
      "[{'ticker': 'CNM', 'analyst_ratio_to_current': 0.8816994737867861}]\n",
      "[{'ticker': 'CNMD', 'analyst_ratio_to_current': 0.7616772189702545}]\n",
      "[{'ticker': 'CNNE', 'analyst_ratio_to_current': 0.721111111111111}]\n",
      "[{'ticker': 'CNO', 'analyst_ratio_to_current': 1.0101744186046513}]\n"
     ]
    },
    {
     "name": "stderr",
     "output_type": "stream",
     "text": [
      "404 Client Error: Not Found for url: https://query2.finance.yahoo.com/v10/finance/quoteSummary/CNO%5EA?modules=financialData&corsDomain=finance.yahoo.com&formatted=false&symbol=CNO%5EA&crumb=zgTXR7VBJ.z\n"
     ]
    },
    {
     "name": "stdout",
     "output_type": "stream",
     "text": [
      "[{'ticker': 'CNO', 'analyst_ratio_to_current': 1.0101744186046513}]\n",
      "[{'ticker': 'CNP', 'analyst_ratio_to_current': 0.9630948527031401}]\n",
      "[{'ticker': 'CNQ', 'analyst_ratio_to_current': 0.8821138211382114}]\n",
      "[{'ticker': 'CNS', 'analyst_ratio_to_current': 0.9490566037735848}]\n",
      "[{'ticker': 'CNX', 'analyst_ratio_to_current': 1.1815436241610737}]\n",
      "[{'ticker': 'CODI', 'analyst_ratio_to_current': 0.7286362050924311}]\n"
     ]
    },
    {
     "name": "stderr",
     "output_type": "stream",
     "text": [
      "404 Client Error: Not Found for url: https://query2.finance.yahoo.com/v10/finance/quoteSummary/CODI%5EA?modules=financialData&corsDomain=finance.yahoo.com&formatted=false&symbol=CODI%5EA&crumb=zgTXR7VBJ.z\n"
     ]
    },
    {
     "name": "stdout",
     "output_type": "stream",
     "text": [
      "[{'ticker': 'CODI', 'analyst_ratio_to_current': 0.7286362050924311}]\n"
     ]
    },
    {
     "name": "stderr",
     "output_type": "stream",
     "text": [
      "404 Client Error: Not Found for url: https://query2.finance.yahoo.com/v10/finance/quoteSummary/CODI%5EB?modules=financialData&corsDomain=finance.yahoo.com&formatted=false&symbol=CODI%5EB&crumb=zgTXR7VBJ.z\n"
     ]
    },
    {
     "name": "stdout",
     "output_type": "stream",
     "text": [
      "[{'ticker': 'CODI', 'analyst_ratio_to_current': 0.7286362050924311}]\n"
     ]
    },
    {
     "name": "stderr",
     "output_type": "stream",
     "text": [
      "404 Client Error: Not Found for url: https://query2.finance.yahoo.com/v10/finance/quoteSummary/CODI%5EC?modules=financialData&corsDomain=finance.yahoo.com&formatted=false&symbol=CODI%5EC&crumb=zgTXR7VBJ.z\n"
     ]
    },
    {
     "name": "stdout",
     "output_type": "stream",
     "text": [
      "[{'ticker': 'CODI', 'analyst_ratio_to_current': 0.7286362050924311}]\n",
      "[{'ticker': 'COF', 'analyst_ratio_to_current': 1.0128621302137564}]\n"
     ]
    },
    {
     "name": "stderr",
     "output_type": "stream",
     "text": [
      "404 Client Error: Not Found for url: https://query2.finance.yahoo.com/v10/finance/quoteSummary/COF%5EI?modules=financialData&corsDomain=finance.yahoo.com&formatted=false&symbol=COF%5EI&crumb=zgTXR7VBJ.z\n"
     ]
    },
    {
     "name": "stdout",
     "output_type": "stream",
     "text": [
      "[{'ticker': 'COF', 'analyst_ratio_to_current': 1.0128621302137564}]\n"
     ]
    },
    {
     "name": "stderr",
     "output_type": "stream",
     "text": [
      "404 Client Error: Not Found for url: https://query2.finance.yahoo.com/v10/finance/quoteSummary/COF%5EJ?modules=financialData&corsDomain=finance.yahoo.com&formatted=false&symbol=COF%5EJ&crumb=zgTXR7VBJ.z\n"
     ]
    },
    {
     "name": "stdout",
     "output_type": "stream",
     "text": [
      "[{'ticker': 'COF', 'analyst_ratio_to_current': 1.0128621302137564}]\n"
     ]
    },
    {
     "name": "stderr",
     "output_type": "stream",
     "text": [
      "404 Client Error: Not Found for url: https://query2.finance.yahoo.com/v10/finance/quoteSummary/COF%5EK?modules=financialData&corsDomain=finance.yahoo.com&formatted=false&symbol=COF%5EK&crumb=zgTXR7VBJ.z\n"
     ]
    },
    {
     "name": "stdout",
     "output_type": "stream",
     "text": [
      "[{'ticker': 'COF', 'analyst_ratio_to_current': 1.0128621302137564}]\n"
     ]
    },
    {
     "name": "stderr",
     "output_type": "stream",
     "text": [
      "404 Client Error: Not Found for url: https://query2.finance.yahoo.com/v10/finance/quoteSummary/COF%5EL?modules=financialData&corsDomain=finance.yahoo.com&formatted=false&symbol=COF%5EL&crumb=zgTXR7VBJ.z\n"
     ]
    },
    {
     "name": "stdout",
     "output_type": "stream",
     "text": [
      "[{'ticker': 'COF', 'analyst_ratio_to_current': 1.0128621302137564}]\n"
     ]
    },
    {
     "name": "stderr",
     "output_type": "stream",
     "text": [
      "404 Client Error: Not Found for url: https://query2.finance.yahoo.com/v10/finance/quoteSummary/COF%5EN?modules=financialData&corsDomain=finance.yahoo.com&formatted=false&symbol=COF%5EN&crumb=zgTXR7VBJ.z\n"
     ]
    },
    {
     "name": "stdout",
     "output_type": "stream",
     "text": [
      "[{'ticker': 'COF', 'analyst_ratio_to_current': 1.0128621302137564}]\n",
      "[{'ticker': 'COHR', 'analyst_ratio_to_current': 1.0297008547008548}]\n",
      "[{'ticker': 'COLD', 'analyst_ratio_to_current': 0.8302606484424666}]\n",
      "[{'ticker': 'COMP', 'analyst_ratio_to_current': 1.0107334525939178}]\n",
      "[{'ticker': 'CON', 'analyst_ratio_to_current': 0.721067221067221}]\n",
      "[{'ticker': 'COOK', 'analyst_ratio_to_current': 0.8792134831460674}]\n",
      "[{'ticker': 'COP', 'analyst_ratio_to_current': 0.7815622161671208}]\n",
      "[{'ticker': 'COR', 'analyst_ratio_to_current': 0.9041186033908803}]\n",
      "[{'ticker': 'COTY', 'analyst_ratio_to_current': 0.6527659574468085}]\n",
      "[{'ticker': 'COUR', 'analyst_ratio_to_current': 0.5939294503691551}]\n",
      "[{'ticker': 'CP', 'analyst_ratio_to_current': 0.8241641980533222}]\n",
      "[{'ticker': 'CPA', 'analyst_ratio_to_current': 0.6812306449441228}]\n",
      "[{'ticker': 'CPAC', 'analyst_ratio_to_current': 0.9000000000000001}]\n",
      "[{'ticker': 'CPAY', 'analyst_ratio_to_current': 0.963634812771886}]\n",
      "[{'ticker': 'CPF', 'analyst_ratio_to_current': 0.911875}]\n",
      "[{'ticker': 'CPK', 'analyst_ratio_to_current': 0.9350769230769231}]\n",
      "[{'ticker': 'CPNG', 'analyst_ratio_to_current': 0.9102069449316029}]\n",
      "[{'ticker': 'CPRI', 'analyst_ratio_to_current': 0.6442771084337349}]\n",
      "[{'ticker': 'CPS', 'analyst_ratio_to_current': 0.6845}]\n",
      "[{'ticker': 'CPT', 'analyst_ratio_to_current': 0.9331761006289309}]\n",
      "[{'ticker': 'CQP', 'analyst_ratio_to_current': 1.0051631557207765}]\n",
      "[{'ticker': 'CR', 'analyst_ratio_to_current': 0.8815804697443016}]\n",
      "[{'ticker': 'CRBG', 'analyst_ratio_to_current': 0.9462333825701624}]\n",
      "[{'ticker': 'CRC', 'analyst_ratio_to_current': 0.8116480793060719}]\n"
     ]
    },
    {
     "name": "stderr",
     "output_type": "stream",
     "text": [
      "404 Client Error: Not Found for url: https://query2.finance.yahoo.com/v10/finance/quoteSummary/CRD/A?modules=financialData&corsDomain=finance.yahoo.com&formatted=false&symbol=CRD%2FA&crumb=zgTXR7VBJ.z\n"
     ]
    },
    {
     "name": "stdout",
     "output_type": "stream",
     "text": [
      "[{'ticker': 'CRC', 'analyst_ratio_to_current': 0.8116480793060719}]\n"
     ]
    },
    {
     "name": "stderr",
     "output_type": "stream",
     "text": [
      "404 Client Error: Not Found for url: https://query2.finance.yahoo.com/v10/finance/quoteSummary/CRD/B?modules=financialData&corsDomain=finance.yahoo.com&formatted=false&symbol=CRD%2FB&crumb=zgTXR7VBJ.z\n"
     ]
    },
    {
     "name": "stdout",
     "output_type": "stream",
     "text": [
      "[{'ticker': 'CRC', 'analyst_ratio_to_current': 0.8116480793060719}]\n",
      "[{'ticker': 'CRGY', 'analyst_ratio_to_current': 0.7679245283018868}]\n",
      "[{'ticker': 'CRH', 'analyst_ratio_to_current': 0.9081289081289081}]\n",
      "[{'ticker': 'CRI', 'analyst_ratio_to_current': 0.9858391608391608}]\n",
      "[{'ticker': 'CRK', 'analyst_ratio_to_current': 1.2221084953940635}]\n",
      "[{'ticker': 'CRL', 'analyst_ratio_to_current': 0.899238260534182}]\n",
      "[{'ticker': 'CRM', 'analyst_ratio_to_current': 0.93372957853919}]\n",
      "[{'ticker': 'CRS', 'analyst_ratio_to_current': 0.9631090487238978}]\n",
      "[{'ticker': 'CRS', 'analyst_ratio_to_current': 0.9631090487238978}]\n",
      "[{'ticker': 'CSAN', 'analyst_ratio_to_current': 0.6090712742980562}]\n",
      "[{'ticker': 'CSL', 'analyst_ratio_to_current': 0.8982974910394265}]\n",
      "[{'ticker': 'CSR', 'analyst_ratio_to_current': 0.9274509803921569}]\n",
      "[{'ticker': 'CSTM', 'analyst_ratio_to_current': 0.6447939262472885}]\n",
      "[{'ticker': 'CSV', 'analyst_ratio_to_current': 0.8315923566878981}]\n"
     ]
    },
    {
     "name": "stderr",
     "output_type": "stream",
     "text": [
      "404 Client Error: Not Found for url: https://query2.finance.yahoo.com/v10/finance/quoteSummary/CTA%5EA?modules=financialData&corsDomain=finance.yahoo.com&formatted=false&symbol=CTA%5EA&crumb=zgTXR7VBJ.z\n"
     ]
    },
    {
     "name": "stdout",
     "output_type": "stream",
     "text": [
      "[{'ticker': 'CSV', 'analyst_ratio_to_current': 0.8315923566878981}]\n"
     ]
    },
    {
     "name": "stderr",
     "output_type": "stream",
     "text": [
      "404 Client Error: Not Found for url: https://query2.finance.yahoo.com/v10/finance/quoteSummary/CTA%5EB?modules=financialData&corsDomain=finance.yahoo.com&formatted=false&symbol=CTA%5EB&crumb=zgTXR7VBJ.z\n"
     ]
    },
    {
     "name": "stdout",
     "output_type": "stream",
     "text": [
      "[{'ticker': 'CSV', 'analyst_ratio_to_current': 0.8315923566878981}]\n"
     ]
    },
    {
     "name": "stderr",
     "output_type": "stream",
     "text": [
      "404 Client Error: Not Found for url: https://query2.finance.yahoo.com/v10/finance/quoteSummary/CTBB?modules=financialData&corsDomain=finance.yahoo.com&formatted=false&symbol=CTBB&crumb=zgTXR7VBJ.z\n"
     ]
    },
    {
     "name": "stdout",
     "output_type": "stream",
     "text": [
      "[{'ticker': 'CSV', 'analyst_ratio_to_current': 0.8315923566878981}]\n"
     ]
    },
    {
     "name": "stderr",
     "output_type": "stream",
     "text": [
      "404 Client Error: Not Found for url: https://query2.finance.yahoo.com/v10/finance/quoteSummary/CTDD?modules=financialData&corsDomain=finance.yahoo.com&formatted=false&symbol=CTDD&crumb=zgTXR7VBJ.z\n"
     ]
    },
    {
     "name": "stdout",
     "output_type": "stream",
     "text": [
      "[{'ticker': 'CSV', 'analyst_ratio_to_current': 0.8315923566878981}]\n",
      "[{'ticker': 'CTLT', 'analyst_ratio_to_current': 0.9680658436213992}]\n",
      "[{'ticker': 'CTO', 'analyst_ratio_to_current': 0.8800729594163247}]\n"
     ]
    },
    {
     "name": "stderr",
     "output_type": "stream",
     "text": [
      "404 Client Error: Not Found for url: https://query2.finance.yahoo.com/v10/finance/quoteSummary/CTO%5EA?modules=financialData&corsDomain=finance.yahoo.com&formatted=false&symbol=CTO%5EA&crumb=zgTXR7VBJ.z\n"
     ]
    },
    {
     "name": "stdout",
     "output_type": "stream",
     "text": [
      "[{'ticker': 'CTO', 'analyst_ratio_to_current': 0.8800729594163247}]\n",
      "[{'ticker': 'CTOS', 'analyst_ratio_to_current': 0.5393939393939394}]\n",
      "[{'ticker': 'CTRA', 'analyst_ratio_to_current': 0.7757100881488738}]\n",
      "[{'ticker': 'CTRE', 'analyst_ratio_to_current': 0.988632775497316}]\n",
      "[{'ticker': 'CTRI', 'analyst_ratio_to_current': 0.9344178952719877}]\n",
      "[{'ticker': 'CTS', 'analyst_ratio_to_current': 1.1288372093023256}]\n",
      "[{'ticker': 'CTV', 'analyst_ratio_to_current': 0.6925795053003533}]\n",
      "[{'ticker': 'CTVA', 'analyst_ratio_to_current': 0.9574001566170712}]\n"
     ]
    },
    {
     "name": "stderr",
     "output_type": "stream",
     "text": [
      "404 Client Error: Not Found for url: https://query2.finance.yahoo.com/v10/finance/quoteSummary/CUBB?modules=financialData&corsDomain=finance.yahoo.com&formatted=false&symbol=CUBB&crumb=zgTXR7VBJ.z\n"
     ]
    },
    {
     "name": "stdout",
     "output_type": "stream",
     "text": [
      "[{'ticker': 'CTVA', 'analyst_ratio_to_current': 0.9574001566170712}]\n",
      "[{'ticker': 'CUBE', 'analyst_ratio_to_current': 0.9058490566037736}]\n",
      "[{'ticker': 'CUBI', 'analyst_ratio_to_current': 0.7315478044222983}]\n"
     ]
    },
    {
     "name": "stderr",
     "output_type": "stream",
     "text": [
      "404 Client Error: Not Found for url: https://query2.finance.yahoo.com/v10/finance/quoteSummary/CUBI%5EE?modules=financialData&corsDomain=finance.yahoo.com&formatted=false&symbol=CUBI%5EE&crumb=zgTXR7VBJ.z\n"
     ]
    },
    {
     "name": "stdout",
     "output_type": "stream",
     "text": [
      "[{'ticker': 'CUBI', 'analyst_ratio_to_current': 0.7315478044222983}]\n"
     ]
    },
    {
     "name": "stderr",
     "output_type": "stream",
     "text": [
      "404 Client Error: Not Found for url: https://query2.finance.yahoo.com/v10/finance/quoteSummary/CUBI%5EF?modules=financialData&corsDomain=finance.yahoo.com&formatted=false&symbol=CUBI%5EF&crumb=zgTXR7VBJ.z\n"
     ]
    },
    {
     "name": "stdout",
     "output_type": "stream",
     "text": [
      "[{'ticker': 'CUBI', 'analyst_ratio_to_current': 0.7315478044222983}]\n",
      "[{'ticker': 'CUBI', 'analyst_ratio_to_current': 0.7315478044222983}]\n",
      "[{'ticker': 'CUBI', 'analyst_ratio_to_current': 0.7315478044222983}]\n",
      "[{'ticker': 'CURB', 'analyst_ratio_to_current': 0.9298597194388778}]\n",
      "[{'ticker': 'CURV', 'analyst_ratio_to_current': 0.5709624796084829}]\n",
      "[{'ticker': 'CUZ', 'analyst_ratio_to_current': 1.073793103448276}]\n",
      "[{'ticker': 'CVE', 'analyst_ratio_to_current': 0.7448614834673817}]\n",
      "[{'ticker': 'CVEO', 'analyst_ratio_to_current': 0.8529230769230769}]\n",
      "[{'ticker': 'CVI', 'analyst_ratio_to_current': 1.0539823008849556}]\n",
      "[{'ticker': 'CVLG', 'analyst_ratio_to_current': 0.741}]\n",
      "[{'ticker': 'CVNA', 'analyst_ratio_to_current': 1.1947552447552447}]\n",
      "[{'ticker': 'CVS', 'analyst_ratio_to_current': 0.8511648612553792}]\n",
      "[{'ticker': 'CVX', 'analyst_ratio_to_current': 0.8934124629080118}]\n",
      "[{'ticker': 'CW', 'analyst_ratio_to_current': 1.036652630330348}]\n",
      "[{'ticker': 'CWAN', 'analyst_ratio_to_current': 0.9678009513355288}]\n",
      "[{'ticker': 'CWAN', 'analyst_ratio_to_current': 0.9678009513355288}]\n",
      "[{'ticker': 'CWH', 'analyst_ratio_to_current': 0.795910780669145}]\n",
      "[{'ticker': 'CWK', 'analyst_ratio_to_current': 0.9638297872340426}]\n",
      "[{'ticker': 'CWT', 'analyst_ratio_to_current': 0.8749152542372881}]\n",
      "[{'ticker': 'CX', 'analyst_ratio_to_current': 0.5802337938363443}]\n",
      "[{'ticker': 'CX', 'analyst_ratio_to_current': 0.5802337938363443}]\n",
      "[{'ticker': 'CX', 'analyst_ratio_to_current': 0.5802337938363443}]\n",
      "[{'ticker': 'CXM', 'analyst_ratio_to_current': 0.7407035175879397}]\n",
      "[{'ticker': 'CXT', 'analyst_ratio_to_current': 0.6215250641956013}]\n",
      "[{'ticker': 'CXW', 'analyst_ratio_to_current': 0.8980733374766936}]\n",
      "[{'ticker': 'CYD', 'analyst_ratio_to_current': 0.8362863217576187}]\n",
      "[{'ticker': 'CYH', 'analyst_ratio_to_current': 0.7854406130268199}]\n",
      "[{'ticker': 'D', 'analyst_ratio_to_current': 1.0403183941858454}]\n",
      "[{'ticker': 'DAC', 'analyst_ratio_to_current': 0.8031372549019608}]\n",
      "[{'ticker': 'DAL', 'analyst_ratio_to_current': 0.8894956633472535}]\n",
      "[{'ticker': 'DAN', 'analyst_ratio_to_current': 0.9005998286203941}]\n",
      "[{'ticker': 'DAO', 'analyst_ratio_to_current': 0.8931860036832412}]\n",
      "[{'ticker': 'DAR', 'analyst_ratio_to_current': 0.729844674556213}]\n",
      "[{'ticker': 'DAVA', 'analyst_ratio_to_current': 0.6609349811929071}]\n",
      "[{'ticker': 'DAY', 'analyst_ratio_to_current': 0.8976975044809045}]\n",
      "[{'ticker': 'DB', 'analyst_ratio_to_current': 1.1016077170418006}]\n",
      "[{'ticker': 'DBD', 'analyst_ratio_to_current': 0.8173913043478261}]\n",
      "[{'ticker': 'DBI', 'analyst_ratio_to_current': 0.9617391304347827}]\n",
      "[{'ticker': 'DBI', 'analyst_ratio_to_current': 0.9617391304347827}]\n",
      "[{'ticker': 'DBRG', 'analyst_ratio_to_current': 0.8629494528400207}]\n"
     ]
    },
    {
     "name": "stderr",
     "output_type": "stream",
     "text": [
      "404 Client Error: Not Found for url: https://query2.finance.yahoo.com/v10/finance/quoteSummary/DBRG%5EH?modules=financialData&corsDomain=finance.yahoo.com&formatted=false&symbol=DBRG%5EH&crumb=zgTXR7VBJ.z\n"
     ]
    },
    {
     "name": "stdout",
     "output_type": "stream",
     "text": [
      "[{'ticker': 'DBRG', 'analyst_ratio_to_current': 0.8629494528400207}]\n"
     ]
    },
    {
     "name": "stderr",
     "output_type": "stream",
     "text": [
      "404 Client Error: Not Found for url: https://query2.finance.yahoo.com/v10/finance/quoteSummary/DBRG%5EI?modules=financialData&corsDomain=finance.yahoo.com&formatted=false&symbol=DBRG%5EI&crumb=zgTXR7VBJ.z\n"
     ]
    },
    {
     "name": "stdout",
     "output_type": "stream",
     "text": [
      "[{'ticker': 'DBRG', 'analyst_ratio_to_current': 0.8629494528400207}]\n"
     ]
    },
    {
     "name": "stderr",
     "output_type": "stream",
     "text": [
      "404 Client Error: Not Found for url: https://query2.finance.yahoo.com/v10/finance/quoteSummary/DBRG%5EJ?modules=financialData&corsDomain=finance.yahoo.com&formatted=false&symbol=DBRG%5EJ&crumb=zgTXR7VBJ.z\n"
     ]
    },
    {
     "name": "stdout",
     "output_type": "stream",
     "text": [
      "[{'ticker': 'DBRG', 'analyst_ratio_to_current': 0.8629494528400207}]\n",
      "[{'ticker': 'DBRG', 'analyst_ratio_to_current': 0.8629494528400207}]\n",
      "[{'ticker': 'DCI', 'analyst_ratio_to_current': 0.9798429319371726}]\n",
      "[{'ticker': 'DCO', 'analyst_ratio_to_current': 0.856473829201102}]\n",
      "[{'ticker': 'DD', 'analyst_ratio_to_current': 0.8713395638629283}]\n",
      "[{'ticker': 'DDD', 'analyst_ratio_to_current': 1.0751633986928104}]\n",
      "[{'ticker': 'DDL', 'analyst_ratio_to_current': 1.187116564417178}]\n",
      "[{'ticker': 'DDS', 'analyst_ratio_to_current': 1.3328571428571427}]\n"
     ]
    },
    {
     "name": "stderr",
     "output_type": "stream",
     "text": [
      "404 Client Error: Not Found for url: https://query2.finance.yahoo.com/v10/finance/quoteSummary/DDT?modules=financialData&corsDomain=finance.yahoo.com&formatted=false&symbol=DDT&crumb=zgTXR7VBJ.z\n"
     ]
    },
    {
     "name": "stdout",
     "output_type": "stream",
     "text": [
      "[{'ticker': 'DDS', 'analyst_ratio_to_current': 1.3328571428571427}]\n",
      "[{'ticker': 'DE', 'analyst_ratio_to_current': 0.9839879730826135}]\n",
      "[{'ticker': 'DEA', 'analyst_ratio_to_current': 1.0131675201170447}]\n",
      "[{'ticker': 'DEC', 'analyst_ratio_to_current': 0.6313513513513513}]\n",
      "[{'ticker': 'DECK', 'analyst_ratio_to_current': 0.9115334912771914}]\n",
      "[{'ticker': 'DEI', 'analyst_ratio_to_current': 1.2039867109634552}]\n",
      "[{'ticker': 'DELL', 'analyst_ratio_to_current': 0.8204814361485108}]\n",
      "[{'ticker': 'DEO', 'analyst_ratio_to_current': 0.975927416404478}]\n",
      "[{'ticker': 'DESP', 'analyst_ratio_to_current': 0.8468571428571429}]\n",
      "[{'ticker': 'DFH', 'analyst_ratio_to_current': 1.0390322580645162}]\n",
      "[{'ticker': 'DFIN', 'analyst_ratio_to_current': 0.8147770700636943}]\n",
      "[{'ticker': 'DFIN', 'analyst_ratio_to_current': 0.8147770700636943}]\n",
      "[{'ticker': 'DFS', 'analyst_ratio_to_current': 1.0057894736842106}]\n",
      "[{'ticker': 'DG', 'analyst_ratio_to_current': 0.8093004690150684}]\n",
      "[{'ticker': 'DGX', 'analyst_ratio_to_current': 0.9289246350908549}]\n",
      "[{'ticker': 'DGX', 'analyst_ratio_to_current': 0.9289246350908549}]\n",
      "[{'ticker': 'DHI', 'analyst_ratio_to_current': 0.9431140855380111}]\n",
      "[{'ticker': 'DHR', 'analyst_ratio_to_current': 0.8460818632377917}]\n",
      "[{'ticker': 'DHT', 'analyst_ratio_to_current': 0.741777466759972}]\n",
      "[{'ticker': 'DHX', 'analyst_ratio_to_current': 0.37214137214137216}]\n",
      "[{'ticker': 'DHX', 'analyst_ratio_to_current': 0.37214137214137216}]\n",
      "[{'ticker': 'DIN', 'analyst_ratio_to_current': 0.7423809523809524}]\n",
      "[{'ticker': 'DINO', 'analyst_ratio_to_current': 0.8363565437877901}]\n",
      "[{'ticker': 'DIS', 'analyst_ratio_to_current': 0.8666666666666667}]\n",
      "[{'ticker': 'DK', 'analyst_ratio_to_current': 0.8467622343054868}]\n",
      "[{'ticker': 'DKL', 'analyst_ratio_to_current': 0.8946511627906977}]\n",
      "[{'ticker': 'DKS', 'analyst_ratio_to_current': 0.8575785427807486}]\n",
      "[{'ticker': 'DLB', 'analyst_ratio_to_current': 0.7373737373737373}]\n",
      "[{'ticker': 'DLNG', 'analyst_ratio_to_current': 0.8555555555555556}]\n"
     ]
    },
    {
     "name": "stderr",
     "output_type": "stream",
     "text": [
      "404 Client Error: Not Found for url: https://query2.finance.yahoo.com/v10/finance/quoteSummary/DLNG%5EA?modules=financialData&corsDomain=finance.yahoo.com&formatted=false&symbol=DLNG%5EA&crumb=zgTXR7VBJ.z\n"
     ]
    },
    {
     "name": "stdout",
     "output_type": "stream",
     "text": [
      "[{'ticker': 'DLNG', 'analyst_ratio_to_current': 0.8555555555555556}]\n"
     ]
    },
    {
     "name": "stderr",
     "output_type": "stream",
     "text": [
      "404 Client Error: Not Found for url: https://query2.finance.yahoo.com/v10/finance/quoteSummary/DLNG%5EB?modules=financialData&corsDomain=finance.yahoo.com&formatted=false&symbol=DLNG%5EB&crumb=zgTXR7VBJ.z\n"
     ]
    },
    {
     "name": "stdout",
     "output_type": "stream",
     "text": [
      "[{'ticker': 'DLNG', 'analyst_ratio_to_current': 0.8555555555555556}]\n",
      "[{'ticker': 'DLR', 'analyst_ratio_to_current': 1.0976646706586826}]\n"
     ]
    },
    {
     "name": "stderr",
     "output_type": "stream",
     "text": [
      "404 Client Error: Not Found for url: https://query2.finance.yahoo.com/v10/finance/quoteSummary/DLR%5EJ?modules=financialData&corsDomain=finance.yahoo.com&formatted=false&symbol=DLR%5EJ&crumb=zgTXR7VBJ.z\n"
     ]
    },
    {
     "name": "stdout",
     "output_type": "stream",
     "text": [
      "[{'ticker': 'DLR', 'analyst_ratio_to_current': 1.0976646706586826}]\n"
     ]
    },
    {
     "name": "stderr",
     "output_type": "stream",
     "text": [
      "404 Client Error: Not Found for url: https://query2.finance.yahoo.com/v10/finance/quoteSummary/DLR%5EK?modules=financialData&corsDomain=finance.yahoo.com&formatted=false&symbol=DLR%5EK&crumb=zgTXR7VBJ.z\n"
     ]
    },
    {
     "name": "stdout",
     "output_type": "stream",
     "text": [
      "[{'ticker': 'DLR', 'analyst_ratio_to_current': 1.0976646706586826}]\n"
     ]
    },
    {
     "name": "stderr",
     "output_type": "stream",
     "text": [
      "404 Client Error: Not Found for url: https://query2.finance.yahoo.com/v10/finance/quoteSummary/DLR%5EL?modules=financialData&corsDomain=finance.yahoo.com&formatted=false&symbol=DLR%5EL&crumb=zgTXR7VBJ.z\n"
     ]
    },
    {
     "name": "stdout",
     "output_type": "stream",
     "text": [
      "[{'ticker': 'DLR', 'analyst_ratio_to_current': 1.0976646706586826}]\n",
      "[{'ticker': 'DLX', 'analyst_ratio_to_current': 0.639}]\n",
      "[{'ticker': 'DLX', 'analyst_ratio_to_current': 0.639}]\n",
      "[{'ticker': 'DM', 'analyst_ratio_to_current': 0.984}]\n",
      "[{'ticker': 'DM', 'analyst_ratio_to_current': 0.984}]\n",
      "[{'ticker': 'DM', 'analyst_ratio_to_current': 0.984}]\n",
      "[{'ticker': 'DM', 'analyst_ratio_to_current': 0.984}]\n",
      "[{'ticker': 'DNA', 'analyst_ratio_to_current': 0.5587837837837837}]\n",
      "[{'ticker': 'DNB', 'analyst_ratio_to_current': 0.7594405594405593}]\n",
      "[{'ticker': 'DNMR', 'analyst_ratio_to_current': 0.45764705882352946}]\n",
      "[{'ticker': 'DNOW', 'analyst_ratio_to_current': 0.7986666666666667}]\n",
      "[{'ticker': 'DNOW', 'analyst_ratio_to_current': 0.7986666666666667}]\n",
      "[{'ticker': 'DOC', 'analyst_ratio_to_current': 0.9220408163265306}]\n",
      "[{'ticker': 'DOCN', 'analyst_ratio_to_current': 0.9829326923076923}]\n",
      "[{'ticker': 'DOCS', 'analyst_ratio_to_current': 1.113141628594464}]\n",
      "[{'ticker': 'DOLE', 'analyst_ratio_to_current': 1.009894867037724}]\n",
      "[{'ticker': 'DOUG', 'analyst_ratio_to_current': 0.7653846153846153}]\n",
      "[{'ticker': 'DOV', 'analyst_ratio_to_current': 0.9214343850241777}]\n",
      "[{'ticker': 'DOW', 'analyst_ratio_to_current': 0.8831512160733168}]\n",
      "[{'ticker': 'DOW', 'analyst_ratio_to_current': 0.8831512160733168}]\n",
      "[{'ticker': 'DPZ', 'analyst_ratio_to_current': 0.8754143762326382}]\n",
      "[{'ticker': 'DQ', 'analyst_ratio_to_current': 1.2511807642765136}]\n",
      "[{'ticker': 'DRD', 'analyst_ratio_to_current': 0.9154716981132076}]\n",
      "[{'ticker': 'DRH', 'analyst_ratio_to_current': 0.905295315682281}]\n"
     ]
    },
    {
     "name": "stderr",
     "output_type": "stream",
     "text": [
      "404 Client Error: Not Found for url: https://query2.finance.yahoo.com/v10/finance/quoteSummary/DRH%5EA?modules=financialData&corsDomain=finance.yahoo.com&formatted=false&symbol=DRH%5EA&crumb=zgTXR7VBJ.z\n"
     ]
    },
    {
     "name": "stdout",
     "output_type": "stream",
     "text": [
      "[{'ticker': 'DRH', 'analyst_ratio_to_current': 0.905295315682281}]\n",
      "[{'ticker': 'DRI', 'analyst_ratio_to_current': 0.8852262184140152}]\n",
      "[{'ticker': 'DRI', 'analyst_ratio_to_current': 0.8852262184140152}]\n",
      "[{'ticker': 'DRI', 'analyst_ratio_to_current': 0.8852262184140152}]\n",
      "[{'ticker': 'DRI', 'analyst_ratio_to_current': 0.8852262184140152}]\n",
      "[{'ticker': 'DSX', 'analyst_ratio_to_current': 0.6170798898071627}]\n"
     ]
    },
    {
     "name": "stderr",
     "output_type": "stream",
     "text": [
      "404 Client Error: Not Found for url: https://query2.finance.yahoo.com/v10/finance/quoteSummary/DSX%5EB?modules=financialData&corsDomain=finance.yahoo.com&formatted=false&symbol=DSX%5EB&crumb=zgTXR7VBJ.z\n"
     ]
    },
    {
     "name": "stdout",
     "output_type": "stream",
     "text": [
      "[{'ticker': 'DSX', 'analyst_ratio_to_current': 0.6170798898071627}]\n",
      "[{'ticker': 'DT', 'analyst_ratio_to_current': 0.9129043126684636}]\n"
     ]
    },
    {
     "name": "stderr",
     "output_type": "stream",
     "text": [
      "404 Client Error: Not Found for url: https://query2.finance.yahoo.com/v10/finance/quoteSummary/DTB?modules=financialData&corsDomain=finance.yahoo.com&formatted=false&symbol=DTB&crumb=zgTXR7VBJ.z\n"
     ]
    },
    {
     "name": "stdout",
     "output_type": "stream",
     "text": [
      "[{'ticker': 'DT', 'analyst_ratio_to_current': 0.9129043126684636}]\n",
      "[{'ticker': 'DTC', 'analyst_ratio_to_current': 0.6616161616161617}]\n",
      "[{'ticker': 'DTE', 'analyst_ratio_to_current': 0.9331613854089905}]\n",
      "[{'ticker': 'DTE', 'analyst_ratio_to_current': 0.9331613854089905}]\n"
     ]
    },
    {
     "name": "stderr",
     "output_type": "stream",
     "text": [
      "404 Client Error: Not Found for url: https://query2.finance.yahoo.com/v10/finance/quoteSummary/DTG?modules=financialData&corsDomain=finance.yahoo.com&formatted=false&symbol=DTG&crumb=zgTXR7VBJ.z\n"
     ]
    },
    {
     "name": "stdout",
     "output_type": "stream",
     "text": [
      "[{'ticker': 'DTE', 'analyst_ratio_to_current': 0.9331613854089905}]\n",
      "[{'ticker': 'DTM', 'analyst_ratio_to_current': 1.0881254667662434}]\n"
     ]
    },
    {
     "name": "stderr",
     "output_type": "stream",
     "text": [
      "404 Client Error: Not Found for url: https://query2.finance.yahoo.com/v10/finance/quoteSummary/DTW?modules=financialData&corsDomain=finance.yahoo.com&formatted=false&symbol=DTW&crumb=zgTXR7VBJ.z\n"
     ]
    },
    {
     "name": "stdout",
     "output_type": "stream",
     "text": [
      "[{'ticker': 'DTM', 'analyst_ratio_to_current': 1.0881254667662434}]\n",
      "[{'ticker': 'DUK', 'analyst_ratio_to_current': 0.9444130697862041}]\n"
     ]
    },
    {
     "name": "stderr",
     "output_type": "stream",
     "text": [
      "404 Client Error: Not Found for url: https://query2.finance.yahoo.com/v10/finance/quoteSummary/DUK%5EA?modules=financialData&corsDomain=finance.yahoo.com&formatted=false&symbol=DUK%5EA&crumb=zgTXR7VBJ.z\n"
     ]
    },
    {
     "name": "stdout",
     "output_type": "stream",
     "text": [
      "[{'ticker': 'DUK', 'analyst_ratio_to_current': 0.9444130697862041}]\n"
     ]
    },
    {
     "name": "stderr",
     "output_type": "stream",
     "text": [
      "404 Client Error: Not Found for url: https://query2.finance.yahoo.com/v10/finance/quoteSummary/DUKB?modules=financialData&corsDomain=finance.yahoo.com&formatted=false&symbol=DUKB&crumb=zgTXR7VBJ.z\n"
     ]
    },
    {
     "name": "stdout",
     "output_type": "stream",
     "text": [
      "[{'ticker': 'DUK', 'analyst_ratio_to_current': 0.9444130697862041}]\n",
      "[{'ticker': 'DV', 'analyst_ratio_to_current': 0.6984}]\n",
      "[{'ticker': 'DVA', 'analyst_ratio_to_current': 1.014797105195141}]\n",
      "[{'ticker': 'DVN', 'analyst_ratio_to_current': 0.7412600845178641}]\n",
      "[{'ticker': 'DX', 'analyst_ratio_to_current': 0.8973246565437455}]\n"
     ]
    },
    {
     "name": "stderr",
     "output_type": "stream",
     "text": [
      "404 Client Error: Not Found for url: https://query2.finance.yahoo.com/v10/finance/quoteSummary/DX%5EC?modules=financialData&corsDomain=finance.yahoo.com&formatted=false&symbol=DX%5EC&crumb=zgTXR7VBJ.z\n"
     ]
    },
    {
     "name": "stdout",
     "output_type": "stream",
     "text": [
      "[{'ticker': 'DX', 'analyst_ratio_to_current': 0.8973246565437455}]\n",
      "[{'ticker': 'DXC', 'analyst_ratio_to_current': 1.0252908447142135}]\n"
     ]
    },
    {
     "name": "stderr",
     "output_type": "stream",
     "text": [
      "404 Client Error: Not Found for url: https://query2.finance.yahoo.com/v10/finance/quoteSummary/DXYZ?modules=financialData&corsDomain=finance.yahoo.com&formatted=false&symbol=DXYZ&crumb=zgTXR7VBJ.z\n"
     ]
    },
    {
     "name": "stdout",
     "output_type": "stream",
     "text": [
      "[{'ticker': 'DXC', 'analyst_ratio_to_current': 1.0252908447142135}]\n",
      "[{'ticker': 'DY', 'analyst_ratio_to_current': 0.876139534883721}]\n",
      "[{'ticker': 'E', 'analyst_ratio_to_current': 0.8385674931129478}]\n",
      "[{'ticker': 'EAF', 'analyst_ratio_to_current': 1.5144927536231885}]\n"
     ]
    },
    {
     "name": "stderr",
     "output_type": "stream",
     "text": [
      "404 Client Error: Not Found for url: https://query2.finance.yahoo.com/v10/finance/quoteSummary/EAI?modules=financialData&corsDomain=finance.yahoo.com&formatted=false&symbol=EAI&crumb=zgTXR7VBJ.z\n"
     ]
    },
    {
     "name": "stdout",
     "output_type": "stream",
     "text": [
      "[{'ticker': 'EAF', 'analyst_ratio_to_current': 1.5144927536231885}]\n",
      "[{'ticker': 'EARN', 'analyst_ratio_to_current': 0.9365517241379311}]\n",
      "[{'ticker': 'EAT', 'analyst_ratio_to_current': 1.1626219367118724}]\n",
      "[{'ticker': 'EB', 'analyst_ratio_to_current': 0.608187134502924}]\n",
      "[{'ticker': 'EBF', 'analyst_ratio_to_current': 0.7923076923076924}]\n",
      "[{'ticker': 'EBR', 'analyst_ratio_to_current': 0.6565853658536586}]\n",
      "[{'ticker': 'EBS', 'analyst_ratio_to_current': 1.20875}]\n",
      "[{'ticker': 'EC', 'analyst_ratio_to_current': 0.7080035180299034}]\n",
      "[{'ticker': 'EC', 'analyst_ratio_to_current': 0.7080035180299034}]\n",
      "[{'ticker': 'ECC           ', 'analyst_ratio_to_current': 0.8576544315129813}]\n"
     ]
    },
    {
     "name": "stderr",
     "output_type": "stream",
     "text": [
      "404 Client Error: Not Found for url: https://query2.finance.yahoo.com/v10/finance/quoteSummary/ECC%5ED?modules=financialData&corsDomain=finance.yahoo.com&formatted=false&symbol=ECC%5ED&crumb=zgTXR7VBJ.z\n"
     ]
    },
    {
     "name": "stdout",
     "output_type": "stream",
     "text": [
      "[{'ticker': 'ECC           ', 'analyst_ratio_to_current': 0.8576544315129813}]\n",
      "[{'ticker': 'ECC           ', 'analyst_ratio_to_current': 0.8576544315129813}]\n",
      "[{'ticker': 'ECC           ', 'analyst_ratio_to_current': 0.8576544315129813}]\n"
     ]
    },
    {
     "name": "stderr",
     "output_type": "stream",
     "text": [
      "404 Client Error: Not Found for url: https://query2.finance.yahoo.com/v10/finance/quoteSummary/ECCV?modules=financialData&corsDomain=finance.yahoo.com&formatted=false&symbol=ECCV&crumb=zgTXR7VBJ.z\n"
     ]
    },
    {
     "name": "stdout",
     "output_type": "stream",
     "text": [
      "[{'ticker': 'ECC           ', 'analyst_ratio_to_current': 0.8576544315129813}]\n"
     ]
    },
    {
     "name": "stderr",
     "output_type": "stream",
     "text": [
      "404 Client Error: Not Found for url: https://query2.finance.yahoo.com/v10/finance/quoteSummary/ECCW?modules=financialData&corsDomain=finance.yahoo.com&formatted=false&symbol=ECCW&crumb=zgTXR7VBJ.z\n"
     ]
    },
    {
     "name": "stdout",
     "output_type": "stream",
     "text": [
      "[{'ticker': 'ECC           ', 'analyst_ratio_to_current': 0.8576544315129813}]\n"
     ]
    },
    {
     "name": "stderr",
     "output_type": "stream",
     "text": [
      "404 Client Error: Not Found for url: https://query2.finance.yahoo.com/v10/finance/quoteSummary/ECCX?modules=financialData&corsDomain=finance.yahoo.com&formatted=false&symbol=ECCX&crumb=zgTXR7VBJ.z\n"
     ]
    },
    {
     "name": "stdout",
     "output_type": "stream",
     "text": [
      "[{'ticker': 'ECC           ', 'analyst_ratio_to_current': 0.8576544315129813}]\n",
      "[{'ticker': 'ECL', 'analyst_ratio_to_current': 0.9611708706570218}]\n",
      "[{'ticker': 'ECO', 'analyst_ratio_to_current': 0.6359090909090909}]\n",
      "[{'ticker': 'ECVT', 'analyst_ratio_to_current': 0.634}]\n",
      "[{'ticker': 'ED', 'analyst_ratio_to_current': 1.0255381604696674}]\n",
      "[{'ticker': 'ED', 'analyst_ratio_to_current': 1.0255381604696674}]\n",
      "[{'ticker': 'ED', 'analyst_ratio_to_current': 1.0255381604696674}]\n",
      "[{'ticker': 'EDN', 'analyst_ratio_to_current': 0.9457142857142857}]\n",
      "[{'ticker': 'EDR', 'analyst_ratio_to_current': 1.0403571428571428}]\n",
      "[{'ticker': 'EDU', 'analyst_ratio_to_current': 0.7141426504951597}]\n",
      "[{'ticker': 'EE', 'analyst_ratio_to_current': 0.9394673123486683}]\n",
      "[{'ticker': 'EE', 'analyst_ratio_to_current': 0.9394673123486683}]\n",
      "[{'ticker': 'EEX', 'analyst_ratio_to_current': 0.4905263157894737}]\n",
      "[{'ticker': 'EFC', 'analyst_ratio_to_current': 0.9098181818181817}]\n"
     ]
    },
    {
     "name": "stderr",
     "output_type": "stream",
     "text": [
      "404 Client Error: Not Found for url: https://query2.finance.yahoo.com/v10/finance/quoteSummary/EFC%5EA?modules=financialData&corsDomain=finance.yahoo.com&formatted=false&symbol=EFC%5EA&crumb=zgTXR7VBJ.z\n"
     ]
    },
    {
     "name": "stdout",
     "output_type": "stream",
     "text": [
      "[{'ticker': 'EFC', 'analyst_ratio_to_current': 0.9098181818181817}]\n"
     ]
    },
    {
     "name": "stderr",
     "output_type": "stream",
     "text": [
      "404 Client Error: Not Found for url: https://query2.finance.yahoo.com/v10/finance/quoteSummary/EFC%5EB?modules=financialData&corsDomain=finance.yahoo.com&formatted=false&symbol=EFC%5EB&crumb=zgTXR7VBJ.z\n"
     ]
    },
    {
     "name": "stdout",
     "output_type": "stream",
     "text": [
      "[{'ticker': 'EFC', 'analyst_ratio_to_current': 0.9098181818181817}]\n"
     ]
    },
    {
     "name": "stderr",
     "output_type": "stream",
     "text": [
      "404 Client Error: Not Found for url: https://query2.finance.yahoo.com/v10/finance/quoteSummary/EFC%5EC?modules=financialData&corsDomain=finance.yahoo.com&formatted=false&symbol=EFC%5EC&crumb=zgTXR7VBJ.z\n"
     ]
    },
    {
     "name": "stdout",
     "output_type": "stream",
     "text": [
      "[{'ticker': 'EFC', 'analyst_ratio_to_current': 0.9098181818181817}]\n"
     ]
    },
    {
     "name": "stderr",
     "output_type": "stream",
     "text": [
      "404 Client Error: Not Found for url: https://query2.finance.yahoo.com/v10/finance/quoteSummary/EFC%5EE?modules=financialData&corsDomain=finance.yahoo.com&formatted=false&symbol=EFC%5EE&crumb=zgTXR7VBJ.z\n"
     ]
    },
    {
     "name": "stdout",
     "output_type": "stream",
     "text": [
      "[{'ticker': 'EFC', 'analyst_ratio_to_current': 0.9098181818181817}]\n",
      "[{'ticker': 'EFR', 'analyst_ratio_to_current': 0.9777094542659494}]\n",
      "[{'ticker': 'EFR', 'analyst_ratio_to_current': 0.9777094542659494}]\n",
      "[{'ticker': 'EFX', 'analyst_ratio_to_current': 0.8408956432375198}]\n",
      "[{'ticker': 'EFXT', 'analyst_ratio_to_current': 0.7842424242424242}]\n",
      "[{'ticker': 'EG', 'analyst_ratio_to_current': 0.8608829105353435}]\n",
      "[{'ticker': 'EG', 'analyst_ratio_to_current': 0.8608829105353435}]\n",
      "[{'ticker': 'EGY', 'analyst_ratio_to_current': 0.5914567360350492}]\n",
      "[{'ticker': 'EHAB', 'analyst_ratio_to_current': 0.7878453038674033}]\n",
      "[{'ticker': 'EHC', 'analyst_ratio_to_current': 0.8802836879432624}]\n",
      "[{'ticker': 'EHC', 'analyst_ratio_to_current': 0.8802836879432624}]\n",
      "[{'ticker': 'EIC', 'analyst_ratio_to_current': 0.9057142857142857}]\n",
      "[{'ticker': 'EIC', 'analyst_ratio_to_current': 0.9057142857142857}]\n",
      "[{'ticker': 'EIC', 'analyst_ratio_to_current': 0.9057142857142857}]\n",
      "[{'ticker': 'EIC', 'analyst_ratio_to_current': 0.9057142857142857}]\n",
      "[{'ticker': 'EIC', 'analyst_ratio_to_current': 0.9057142857142857}]\n",
      "[{'ticker': 'EIC', 'analyst_ratio_to_current': 0.9057142857142857}]\n",
      "[{'ticker': 'EIX', 'analyst_ratio_to_current': 0.9388753056234719}]\n",
      "[{'ticker': 'EL', 'analyst_ratio_to_current': 0.8526669870254685}]\n",
      "[{'ticker': 'ELAN', 'analyst_ratio_to_current': 0.6539466806063774}]\n"
     ]
    },
    {
     "name": "stderr",
     "output_type": "stream",
     "text": [
      "404 Client Error: Not Found for url: https://query2.finance.yahoo.com/v10/finance/quoteSummary/ELC?modules=financialData&corsDomain=finance.yahoo.com&formatted=false&symbol=ELC&crumb=zgTXR7VBJ.z\n"
     ]
    },
    {
     "name": "stdout",
     "output_type": "stream",
     "text": [
      "[{'ticker': 'ELAN', 'analyst_ratio_to_current': 0.6539466806063774}]\n",
      "[{'ticker': 'ELF', 'analyst_ratio_to_current': 0.6388066631841662}]\n",
      "[{'ticker': 'ELME', 'analyst_ratio_to_current': 0.9782857142857143}]\n",
      "[{'ticker': 'ELP', 'analyst_ratio_to_current': 0.6582768635043562}]\n",
      "[{'ticker': 'ELP', 'analyst_ratio_to_current': 0.6582768635043562}]\n",
      "[{'ticker': 'ELS', 'analyst_ratio_to_current': 0.9402618657937808}]\n",
      "[{'ticker': 'ELV', 'analyst_ratio_to_current': 0.7865113473573098}]\n",
      "[{'ticker': 'ELV', 'analyst_ratio_to_current': 0.7865113473573098}]\n",
      "[{'ticker': 'EME', 'analyst_ratio_to_current': 1.0399036144578313}]\n",
      "[{'ticker': 'EME', 'analyst_ratio_to_current': 1.0399036144578313}]\n",
      "[{'ticker': 'EMN', 'analyst_ratio_to_current': 0.9251712477239227}]\n",
      "[{'ticker': 'EMN', 'analyst_ratio_to_current': 0.9251712477239227}]\n"
     ]
    },
    {
     "name": "stderr",
     "output_type": "stream",
     "text": [
      "404 Client Error: Not Found for url: https://query2.finance.yahoo.com/v10/finance/quoteSummary/EMP?modules=financialData&corsDomain=finance.yahoo.com&formatted=false&symbol=EMP&crumb=zgTXR7VBJ.z\n"
     ]
    },
    {
     "name": "stdout",
     "output_type": "stream",
     "text": [
      "[{'ticker': 'EMN', 'analyst_ratio_to_current': 0.9251712477239227}]\n",
      "[{'ticker': 'EMR', 'analyst_ratio_to_current': 0.8652651696129957}]\n",
      "[{'ticker': 'ENB', 'analyst_ratio_to_current': 0.9982901807523205}]\n",
      "[{'ticker': 'ENFN', 'analyst_ratio_to_current': 0.9838882921589688}]\n",
      "[{'ticker': 'ENIC', 'analyst_ratio_to_current': 0.0007596430216552136}]\n"
     ]
    },
    {
     "name": "stderr",
     "output_type": "stream",
     "text": [
      "404 Client Error: Not Found for url: https://query2.finance.yahoo.com/v10/finance/quoteSummary/ENJ?modules=financialData&corsDomain=finance.yahoo.com&formatted=false&symbol=ENJ&crumb=zgTXR7VBJ.z\n"
     ]
    },
    {
     "name": "stdout",
     "output_type": "stream",
     "text": [
      "[{'ticker': 'ENIC', 'analyst_ratio_to_current': 0.0007596430216552136}]\n",
      "[{'ticker': 'ENLC', 'analyst_ratio_to_current': 0.9527202072538861}]\n"
     ]
    },
    {
     "name": "stderr",
     "output_type": "stream",
     "text": [
      "404 Client Error: Not Found for url: https://query2.finance.yahoo.com/v10/finance/quoteSummary/ENO?modules=financialData&corsDomain=finance.yahoo.com&formatted=false&symbol=ENO&crumb=zgTXR7VBJ.z\n"
     ]
    },
    {
     "name": "stdout",
     "output_type": "stream",
     "text": [
      "[{'ticker': 'ENLC', 'analyst_ratio_to_current': 0.9527202072538861}]\n",
      "[{'ticker': 'ENOV', 'analyst_ratio_to_current': 0.6124665278191015}]\n",
      "[{'ticker': 'ENR', 'analyst_ratio_to_current': 0.9715386895938336}]\n",
      "[{'ticker': 'ENS', 'analyst_ratio_to_current': 0.8530556966311156}]\n",
      "[{'ticker': 'ENV', 'analyst_ratio_to_current': 0.9702924338542473}]\n",
      "[{'ticker': 'ENVA', 'analyst_ratio_to_current': 0.8470828869192558}]\n",
      "[{'ticker': 'ENVA', 'analyst_ratio_to_current': 0.8470828869192558}]\n",
      "[{'ticker': 'ENVA', 'analyst_ratio_to_current': 0.8470828869192558}]\n",
      "[{'ticker': 'EOG', 'analyst_ratio_to_current': 0.8667897465028757}]\n",
      "[{'ticker': 'EOG', 'analyst_ratio_to_current': 0.8667897465028757}]\n",
      "[{'ticker': 'EOG', 'analyst_ratio_to_current': 0.8667897465028757}]\n",
      "[{'ticker': 'EOG', 'analyst_ratio_to_current': 0.8667897465028757}]\n"
     ]
    },
    {
     "name": "stderr",
     "output_type": "stream",
     "text": [
      "404 Client Error: Not Found for url: https://query2.finance.yahoo.com/v10/finance/quoteSummary/EP%5EC?modules=financialData&corsDomain=finance.yahoo.com&formatted=false&symbol=EP%5EC&crumb=zgTXR7VBJ.z\n"
     ]
    },
    {
     "name": "stdout",
     "output_type": "stream",
     "text": [
      "[{'ticker': 'EOG', 'analyst_ratio_to_current': 0.8667897465028757}]\n",
      "[{'ticker': 'EPAC', 'analyst_ratio_to_current': 0.953404255319149}]\n",
      "[{'ticker': 'EPAM', 'analyst_ratio_to_current': 0.8625992063492064}]\n",
      "[{'ticker': 'EPC', 'analyst_ratio_to_current': 0.8388095238095238}]\n",
      "[{'ticker': 'EPD', 'analyst_ratio_to_current': 0.8616203429923123}]\n",
      "[{'ticker': 'EPR', 'analyst_ratio_to_current': 0.9679078378934375}]\n"
     ]
    },
    {
     "name": "stderr",
     "output_type": "stream",
     "text": [
      "404 Client Error: Not Found for url: https://query2.finance.yahoo.com/v10/finance/quoteSummary/EPR%5EC?modules=financialData&corsDomain=finance.yahoo.com&formatted=false&symbol=EPR%5EC&crumb=zgTXR7VBJ.z\n"
     ]
    },
    {
     "name": "stdout",
     "output_type": "stream",
     "text": [
      "[{'ticker': 'EPR', 'analyst_ratio_to_current': 0.9679078378934375}]\n"
     ]
    },
    {
     "name": "stderr",
     "output_type": "stream",
     "text": [
      "404 Client Error: Not Found for url: https://query2.finance.yahoo.com/v10/finance/quoteSummary/EPR%5EE?modules=financialData&corsDomain=finance.yahoo.com&formatted=false&symbol=EPR%5EE&crumb=zgTXR7VBJ.z\n"
     ]
    },
    {
     "name": "stdout",
     "output_type": "stream",
     "text": [
      "[{'ticker': 'EPR', 'analyst_ratio_to_current': 0.9679078378934375}]\n"
     ]
    },
    {
     "name": "stderr",
     "output_type": "stream",
     "text": [
      "404 Client Error: Not Found for url: https://query2.finance.yahoo.com/v10/finance/quoteSummary/EPR%5EG?modules=financialData&corsDomain=finance.yahoo.com&formatted=false&symbol=EPR%5EG&crumb=zgTXR7VBJ.z\n"
     ]
    },
    {
     "name": "stdout",
     "output_type": "stream",
     "text": [
      "[{'ticker': 'EPR', 'analyst_ratio_to_current': 0.9679078378934375}]\n",
      "[{'ticker': 'EPRT', 'analyst_ratio_to_current': 0.9331036462819409}]\n",
      "[{'ticker': 'EQBK', 'analyst_ratio_to_current': 0.9206751054852321}]\n",
      "[{'ticker': 'EQC', 'analyst_ratio_to_current': 0.9663414634146341}]\n"
     ]
    },
    {
     "name": "stderr",
     "output_type": "stream",
     "text": [
      "404 Client Error: Not Found for url: https://query2.finance.yahoo.com/v10/finance/quoteSummary/EQC%5ED?modules=financialData&corsDomain=finance.yahoo.com&formatted=false&symbol=EQC%5ED&crumb=zgTXR7VBJ.z\n"
     ]
    },
    {
     "name": "stdout",
     "output_type": "stream",
     "text": [
      "[{'ticker': 'EQC', 'analyst_ratio_to_current': 0.9663414634146341}]\n",
      "[{'ticker': 'EQH', 'analyst_ratio_to_current': 0.9225352112676056}]\n"
     ]
    },
    {
     "name": "stderr",
     "output_type": "stream",
     "text": [
      "404 Client Error: Not Found for url: https://query2.finance.yahoo.com/v10/finance/quoteSummary/EQH%5EA?modules=financialData&corsDomain=finance.yahoo.com&formatted=false&symbol=EQH%5EA&crumb=zgTXR7VBJ.z\n"
     ]
    },
    {
     "name": "stdout",
     "output_type": "stream",
     "text": [
      "[{'ticker': 'EQH', 'analyst_ratio_to_current': 0.9225352112676056}]\n"
     ]
    },
    {
     "name": "stderr",
     "output_type": "stream",
     "text": [
      "404 Client Error: Not Found for url: https://query2.finance.yahoo.com/v10/finance/quoteSummary/EQH%5EC?modules=financialData&corsDomain=finance.yahoo.com&formatted=false&symbol=EQH%5EC&crumb=zgTXR7VBJ.z\n"
     ]
    },
    {
     "name": "stdout",
     "output_type": "stream",
     "text": [
      "[{'ticker': 'EQH', 'analyst_ratio_to_current': 0.9225352112676056}]\n",
      "[{'ticker': 'EQNR', 'analyst_ratio_to_current': 0.8440492476060192}]\n",
      "[{'ticker': 'EQR', 'analyst_ratio_to_current': 0.9545685925171801}]\n",
      "[{'ticker': 'EQR', 'analyst_ratio_to_current': 0.9545685925171801}]\n",
      "[{'ticker': 'EQT', 'analyst_ratio_to_current': 0.9073443579766538}]\n"
     ]
    },
    {
     "name": "stderr",
     "output_type": "stream",
     "text": [
      "404 Client Error: Not Found for url: https://query2.finance.yahoo.com/v10/finance/quoteSummary/EQV?modules=financialData&corsDomain=finance.yahoo.com&formatted=false&symbol=EQV&crumb=zgTXR7VBJ.z\n"
     ]
    },
    {
     "name": "stdout",
     "output_type": "stream",
     "text": [
      "[{'ticker': 'EQT', 'analyst_ratio_to_current': 0.9073443579766538}]\n",
      "[{'ticker': 'ERJ', 'analyst_ratio_to_current': 0.8743961352657005}]\n",
      "[{'ticker': 'ERJ', 'analyst_ratio_to_current': 0.8743961352657005}]\n",
      "[{'ticker': 'ES', 'analyst_ratio_to_current': 0.8864151446473802}]\n",
      "[{'ticker': 'ESAB', 'analyst_ratio_to_current': 0.9431183341797867}]\n",
      "[{'ticker': 'ESE', 'analyst_ratio_to_current': 0.958158379373849}]\n",
      "[{'ticker': 'ESI', 'analyst_ratio_to_current': 0.8553559974342528}]\n",
      "[{'ticker': 'ESNT', 'analyst_ratio_to_current': 0.8853623188405798}]\n",
      "[{'ticker': 'ESRT', 'analyst_ratio_to_current': 0.9408695652173913}]\n",
      "[{'ticker': 'ESS', 'analyst_ratio_to_current': 0.9881293896527847}]\n",
      "[{'ticker': 'ESTC', 'analyst_ratio_to_current': 0.7876386687797148}]\n",
      "[{'ticker': 'ET', 'analyst_ratio_to_current': 0.8431876606683805}]\n"
     ]
    },
    {
     "name": "stderr",
     "output_type": "stream",
     "text": [
      "404 Client Error: Not Found for url: https://query2.finance.yahoo.com/v10/finance/quoteSummary/ET%5EI?modules=financialData&corsDomain=finance.yahoo.com&formatted=false&symbol=ET%5EI&crumb=zgTXR7VBJ.z\n"
     ]
    },
    {
     "name": "stdout",
     "output_type": "stream",
     "text": [
      "[{'ticker': 'ET', 'analyst_ratio_to_current': 0.8431876606683805}]\n",
      "[{'ticker': 'ET', 'analyst_ratio_to_current': 0.8431876606683805}]\n",
      "[{'ticker': 'ETD', 'analyst_ratio_to_current': 0.930625}]\n",
      "[{'ticker': 'ETD', 'analyst_ratio_to_current': 0.930625}]\n"
     ]
    },
    {
     "name": "stderr",
     "output_type": "stream",
     "text": [
      "404 Client Error: Not Found for url: https://query2.finance.yahoo.com/v10/finance/quoteSummary/ETI%5E?modules=financialData&corsDomain=finance.yahoo.com&formatted=false&symbol=ETI%5E&crumb=zgTXR7VBJ.z\n"
     ]
    },
    {
     "name": "stdout",
     "output_type": "stream",
     "text": [
      "[{'ticker': 'ETD', 'analyst_ratio_to_current': 0.930625}]\n",
      "[{'ticker': 'ETD', 'analyst_ratio_to_current': 0.930625}]\n",
      "[{'ticker': 'ETN', 'analyst_ratio_to_current': 0.9746953283683141}]\n",
      "[{'ticker': 'ETN', 'analyst_ratio_to_current': 0.9746953283683141}]\n",
      "[{'ticker': 'ETR', 'analyst_ratio_to_current': 1.029607250755287}]\n",
      "[{'ticker': 'ETR', 'analyst_ratio_to_current': 1.029607250755287}]\n",
      "[{'ticker': 'ETR', 'analyst_ratio_to_current': 1.029607250755287}]\n",
      "[{'ticker': 'ETWO', 'analyst_ratio_to_current': 0.824}]\n",
      "[{'ticker': 'ETWO', 'analyst_ratio_to_current': 0.824}]\n",
      "[{'ticker': 'ETWO', 'analyst_ratio_to_current': 0.824}]\n",
      "[{'ticker': 'EVC', 'analyst_ratio_to_current': 0.6514285714285714}]\n",
      "[{'ticker': 'EVEX', 'analyst_ratio_to_current': 0.5467741935483871}]\n",
      "[{'ticker': 'EVEX', 'analyst_ratio_to_current': 0.5467741935483871}]\n",
      "[{'ticker': 'EVEX', 'analyst_ratio_to_current': 0.5467741935483871}]\n",
      "[{'ticker': 'EVH', 'analyst_ratio_to_current': 0.5667306769083054}]\n",
      "[{'ticker': 'EVH', 'analyst_ratio_to_current': 0.5667306769083054}]\n",
      "[{'ticker': 'EVR', 'analyst_ratio_to_current': 0.9249035637187246}]\n",
      "[{'ticker': 'EVRI', 'analyst_ratio_to_current': 1.009848484848485}]\n",
      "[{'ticker': 'EVRI', 'analyst_ratio_to_current': 1.009848484848485}]\n",
      "[{'ticker': 'EVTC', 'analyst_ratio_to_current': 0.8775401069518717}]\n",
      "[{'ticker': 'EVTL', 'analyst_ratio_to_current': 0.4577352472089315}]\n",
      "[{'ticker': 'EW', 'analyst_ratio_to_current': 0.9112913951323314}]\n",
      "[{'ticker': 'EW', 'analyst_ratio_to_current': 0.9112913951323314}]\n",
      "[{'ticker': 'EXK', 'analyst_ratio_to_current': 0.9354275741710296}]\n",
      "[{'ticker': 'EXP', 'analyst_ratio_to_current': 0.9660427807486632}]\n",
      "[{'ticker': 'EXPD', 'analyst_ratio_to_current': 1.0325909364519734}]\n",
      "[{'ticker': 'EXR', 'analyst_ratio_to_current': 0.9534817514092127}]\n",
      "[{'ticker': 'EXR', 'analyst_ratio_to_current': 0.9534817514092127}]\n",
      "[{'ticker': 'F', 'analyst_ratio_to_current': 0.9358024691358023}]\n"
     ]
    },
    {
     "name": "stderr",
     "output_type": "stream",
     "text": [
      "404 Client Error: Not Found for url: https://query2.finance.yahoo.com/v10/finance/quoteSummary/F%5EB?modules=financialData&corsDomain=finance.yahoo.com&formatted=false&symbol=F%5EB&crumb=zgTXR7VBJ.z\n"
     ]
    },
    {
     "name": "stdout",
     "output_type": "stream",
     "text": [
      "[{'ticker': 'F', 'analyst_ratio_to_current': 0.9358024691358023}]\n"
     ]
    },
    {
     "name": "stderr",
     "output_type": "stream",
     "text": [
      "404 Client Error: Not Found for url: https://query2.finance.yahoo.com/v10/finance/quoteSummary/F%5EC?modules=financialData&corsDomain=finance.yahoo.com&formatted=false&symbol=F%5EC&crumb=zgTXR7VBJ.z\n"
     ]
    },
    {
     "name": "stdout",
     "output_type": "stream",
     "text": [
      "[{'ticker': 'F', 'analyst_ratio_to_current': 0.9358024691358023}]\n"
     ]
    },
    {
     "name": "stderr",
     "output_type": "stream",
     "text": [
      "404 Client Error: Not Found for url: https://query2.finance.yahoo.com/v10/finance/quoteSummary/F%5ED?modules=financialData&corsDomain=finance.yahoo.com&formatted=false&symbol=F%5ED&crumb=zgTXR7VBJ.z\n"
     ]
    },
    {
     "name": "stdout",
     "output_type": "stream",
     "text": [
      "[{'ticker': 'F', 'analyst_ratio_to_current': 0.9358024691358023}]\n",
      "[{'ticker': 'FAF', 'analyst_ratio_to_current': 0.83782722513089}]\n",
      "[{'ticker': 'FBIN', 'analyst_ratio_to_current': 0.9611049723756907}]\n",
      "[{'ticker': 'FBK', 'analyst_ratio_to_current': 0.9409005628517824}]\n",
      "[{'ticker': 'FBMS', 'analyst_ratio_to_current': 0.9564610661456882}]\n",
      "[{'ticker': 'FBP', 'analyst_ratio_to_current': 0.8580814717477004}]\n",
      "[{'ticker': 'FBRT', 'analyst_ratio_to_current': 0.8638157894736843}]\n"
     ]
    },
    {
     "name": "stderr",
     "output_type": "stream",
     "text": [
      "404 Client Error: Not Found for url: https://query2.finance.yahoo.com/v10/finance/quoteSummary/FBRT%5EE?modules=financialData&corsDomain=finance.yahoo.com&formatted=false&symbol=FBRT%5EE&crumb=zgTXR7VBJ.z\n"
     ]
    },
    {
     "name": "stdout",
     "output_type": "stream",
     "text": [
      "[{'ticker': 'FBRT', 'analyst_ratio_to_current': 0.8638157894736843}]\n",
      "[{'ticker': 'FC', 'analyst_ratio_to_current': 0.6311384809726828}]\n",
      "[{'ticker': 'FCF', 'analyst_ratio_to_current': 0.907594264471588}]\n",
      "[{'ticker': 'FCN', 'analyst_ratio_to_current': 0.8044219066937119}]\n",
      "[{'ticker': 'FCPT', 'analyst_ratio_to_current': 0.9840277777777777}]\n",
      "[{'ticker': 'FCPT', 'analyst_ratio_to_current': 0.9840277777777777}]\n",
      "[{'ticker': 'FCPT', 'analyst_ratio_to_current': 0.9840277777777777}]\n",
      "[{'ticker': 'FCX', 'analyst_ratio_to_current': 0.8403164898399568}]\n",
      "[{'ticker': 'FDP', 'analyst_ratio_to_current': 0.9003076923076924}]\n",
      "[{'ticker': 'FDX', 'analyst_ratio_to_current': 0.8981967587308832}]\n",
      "[{'ticker': 'FE', 'analyst_ratio_to_current': 0.9273885350318471}]\n",
      "[{'ticker': 'FE', 'analyst_ratio_to_current': 0.9273885350318471}]\n",
      "[{'ticker': 'FE', 'analyst_ratio_to_current': 0.9273885350318471}]\n",
      "[{'ticker': 'FERG', 'analyst_ratio_to_current': 0.8660432033719705}]\n",
      "[{'ticker': 'FERG', 'analyst_ratio_to_current': 0.8660432033719705}]\n",
      "[{'ticker': 'FERG', 'analyst_ratio_to_current': 0.8660432033719705}]\n",
      "[{'ticker': 'FERG', 'analyst_ratio_to_current': 0.8660432033719705}]\n",
      "[{'ticker': 'FERG', 'analyst_ratio_to_current': 0.8660432033719705}]\n",
      "[{'ticker': 'FFWM', 'analyst_ratio_to_current': 1.0025806451612902}]\n",
      "[{'ticker': 'FG', 'analyst_ratio_to_current': 0.939769907511843}]\n",
      "[{'ticker': 'FG', 'analyst_ratio_to_current': 0.939769907511843}]\n"
     ]
    },
    {
     "name": "stderr",
     "output_type": "stream",
     "text": [
      "404 Client Error: Not Found for url: https://query2.finance.yahoo.com/v10/finance/quoteSummary/FGN?modules=financialData&corsDomain=finance.yahoo.com&formatted=false&symbol=FGN&crumb=zgTXR7VBJ.z\n"
     ]
    },
    {
     "name": "stdout",
     "output_type": "stream",
     "text": [
      "[{'ticker': 'FG', 'analyst_ratio_to_current': 0.939769907511843}]\n",
      "[{'ticker': 'FHI', 'analyst_ratio_to_current': 1.030514610809413}]\n",
      "[{'ticker': 'FHN', 'analyst_ratio_to_current': 0.9099476439790575}]\n"
     ]
    },
    {
     "name": "stderr",
     "output_type": "stream",
     "text": [
      "404 Client Error: Not Found for url: https://query2.finance.yahoo.com/v10/finance/quoteSummary/FHN%5EB?modules=financialData&corsDomain=finance.yahoo.com&formatted=false&symbol=FHN%5EB&crumb=zgTXR7VBJ.z\n"
     ]
    },
    {
     "name": "stdout",
     "output_type": "stream",
     "text": [
      "[{'ticker': 'FHN', 'analyst_ratio_to_current': 0.9099476439790575}]\n"
     ]
    },
    {
     "name": "stderr",
     "output_type": "stream",
     "text": [
      "404 Client Error: Not Found for url: https://query2.finance.yahoo.com/v10/finance/quoteSummary/FHN%5EC?modules=financialData&corsDomain=finance.yahoo.com&formatted=false&symbol=FHN%5EC&crumb=zgTXR7VBJ.z\n"
     ]
    },
    {
     "name": "stdout",
     "output_type": "stream",
     "text": [
      "[{'ticker': 'FHN', 'analyst_ratio_to_current': 0.9099476439790575}]\n"
     ]
    },
    {
     "name": "stderr",
     "output_type": "stream",
     "text": [
      "404 Client Error: Not Found for url: https://query2.finance.yahoo.com/v10/finance/quoteSummary/FHN%5EE?modules=financialData&corsDomain=finance.yahoo.com&formatted=false&symbol=FHN%5EE&crumb=zgTXR7VBJ.z\n"
     ]
    },
    {
     "name": "stdout",
     "output_type": "stream",
     "text": [
      "[{'ticker': 'FHN', 'analyst_ratio_to_current': 0.9099476439790575}]\n"
     ]
    },
    {
     "name": "stderr",
     "output_type": "stream",
     "text": [
      "404 Client Error: Not Found for url: https://query2.finance.yahoo.com/v10/finance/quoteSummary/FHN%5EF?modules=financialData&corsDomain=finance.yahoo.com&formatted=false&symbol=FHN%5EF&crumb=zgTXR7VBJ.z\n"
     ]
    },
    {
     "name": "stdout",
     "output_type": "stream",
     "text": [
      "[{'ticker': 'FHN', 'analyst_ratio_to_current': 0.9099476439790575}]\n",
      "[{'ticker': 'FI', 'analyst_ratio_to_current': 0.9451900516189582}]\n",
      "[{'ticker': 'FICO', 'analyst_ratio_to_current': 1.0317074052833621}]\n",
      "[{'ticker': 'FIGS', 'analyst_ratio_to_current': 1.0583333333333333}]\n",
      "[{'ticker': 'FIHL', 'analyst_ratio_to_current': 0.8242481203007518}]\n",
      "[{'ticker': 'FIHL', 'analyst_ratio_to_current': 0.8242481203007518}]\n",
      "[{'ticker': 'FINV', 'analyst_ratio_to_current': 0.8969521044992743}]\n",
      "[{'ticker': 'FIS', 'analyst_ratio_to_current': 1.0401785714285714}]\n",
      "[{'ticker': 'FIX', 'analyst_ratio_to_current': 0.9714285714285714}]\n",
      "[{'ticker': 'FL', 'analyst_ratio_to_current': 0.846427301813011}]\n",
      "[{'ticker': 'FL', 'analyst_ratio_to_current': 0.846427301813011}]\n",
      "[{'ticker': 'FL', 'analyst_ratio_to_current': 0.846427301813011}]\n",
      "[{'ticker': 'FLO', 'analyst_ratio_to_current': 0.9199999999999999}]\n",
      "[{'ticker': 'FLR', 'analyst_ratio_to_current': 0.9336699164345404}]\n",
      "[{'ticker': 'FLS', 'analyst_ratio_to_current': 0.8867671691792294}]\n",
      "[{'ticker': 'FLUT', 'analyst_ratio_to_current': 0.8382789317507418}]\n",
      "[{'ticker': 'FMC', 'analyst_ratio_to_current': 0.8509402654867257}]\n",
      "[{'ticker': 'FMC', 'analyst_ratio_to_current': 0.8509402654867257}]\n",
      "[{'ticker': 'FMS', 'analyst_ratio_to_current': 1.067553735926305}]\n",
      "[{'ticker': 'FMX', 'analyst_ratio_to_current': 0.7407574730818463}]\n",
      "[{'ticker': 'FMX', 'analyst_ratio_to_current': 0.7407574730818463}]\n",
      "[{'ticker': 'FN', 'analyst_ratio_to_current': 0.9293307607914351}]\n",
      "[{'ticker': 'FNA', 'analyst_ratio_to_current': 0.3361111111111111}]\n",
      "[{'ticker': 'FNB', 'analyst_ratio_to_current': 0.8576470588235294}]\n",
      "[{'ticker': 'FND', 'analyst_ratio_to_current': 0.9686132775347156}]\n",
      "[{'ticker': 'FNF', 'analyst_ratio_to_current': 0.9296012269938649}]\n",
      "[{'ticker': 'FNV', 'analyst_ratio_to_current': 0.9703153988868275}]\n",
      "[{'ticker': 'FOA', 'analyst_ratio_to_current': 0.9666666666666667}]\n",
      "[{'ticker': 'FOA', 'analyst_ratio_to_current': 0.9666666666666667}]\n",
      "[{'ticker': 'FOR', 'analyst_ratio_to_current': 0.802117469120242}]\n",
      "[{'ticker': 'FOUR', 'analyst_ratio_to_current': 0.9516913209889314}]\n",
      "[{'ticker': 'FOUR', 'analyst_ratio_to_current': 0.9516913209889314}]\n",
      "[{'ticker': 'FOUR', 'analyst_ratio_to_current': 0.9516913209889314}]\n",
      "[{'ticker': 'FPI', 'analyst_ratio_to_current': 0.8705882352941177}]\n",
      "[{'ticker': 'FR', 'analyst_ratio_to_current': 0.9247367512515104}]\n",
      "[{'ticker': 'FR', 'analyst_ratio_to_current': 0.9247367512515104}]\n",
      "[{'ticker': 'FREY', 'analyst_ratio_to_current': 0.525}]\n",
      "[{'ticker': 'FRGE', 'analyst_ratio_to_current': 0.315}]\n",
      "[{'ticker': 'FRO', 'analyst_ratio_to_current': 0.5727536231884058}]\n",
      "[{'ticker': 'FRT', 'analyst_ratio_to_current': 0.9199025182778229}]\n"
     ]
    },
    {
     "name": "stderr",
     "output_type": "stream",
     "text": [
      "404 Client Error: Not Found for url: https://query2.finance.yahoo.com/v10/finance/quoteSummary/FRT%5EC?modules=financialData&corsDomain=finance.yahoo.com&formatted=false&symbol=FRT%5EC&crumb=zgTXR7VBJ.z\n"
     ]
    },
    {
     "name": "stdout",
     "output_type": "stream",
     "text": [
      "[{'ticker': 'FRT', 'analyst_ratio_to_current': 0.9199025182778229}]\n",
      "[{'ticker': 'FRT', 'analyst_ratio_to_current': 0.9199025182778229}]\n",
      "[{'ticker': 'FSK', 'analyst_ratio_to_current': 1.0277640059494297}]\n",
      "[{'ticker': 'FSLY', 'analyst_ratio_to_current': 1.184168012924071}]\n",
      "[{'ticker': 'FSLY', 'analyst_ratio_to_current': 1.184168012924071}]\n",
      "[{'ticker': 'FSS', 'analyst_ratio_to_current': 0.875}]\n",
      "[{'ticker': 'FSS', 'analyst_ratio_to_current': 0.875}]\n",
      "[{'ticker': 'FSS', 'analyst_ratio_to_current': 0.875}]\n",
      "[{'ticker': 'FTI', 'analyst_ratio_to_current': 0.8459292896529355}]\n",
      "[{'ticker': 'FTK', 'analyst_ratio_to_current': 0.8032786885245903}]\n",
      "[{'ticker': 'FTS', 'analyst_ratio_to_current': 0.9799062290689886}]\n",
      "[{'ticker': 'FTV', 'analyst_ratio_to_current': 0.8657988710977997}]\n",
      "[{'ticker': 'FUBO', 'analyst_ratio_to_current': 0.6347517730496455}]\n",
      "[{'ticker': 'FUL', 'analyst_ratio_to_current': 0.8389755011135858}]\n",
      "[{'ticker': 'FUN', 'analyst_ratio_to_current': 0.7400702987697715}]\n",
      "[{'ticker': 'FUN', 'analyst_ratio_to_current': 0.7400702987697715}]\n",
      "[{'ticker': 'FVRR', 'analyst_ratio_to_current': 0.7711598746081505}]\n",
      "[{'ticker': 'G', 'analyst_ratio_to_current': 0.9503722084367245}]\n",
      "[{'ticker': 'G', 'analyst_ratio_to_current': 0.9503722084367245}]\n"
     ]
    },
    {
     "name": "stderr",
     "output_type": "stream",
     "text": [
      "404 Client Error: Not Found for url: https://query2.finance.yahoo.com/v10/finance/quoteSummary/GAB%5EG?modules=financialData&corsDomain=finance.yahoo.com&formatted=false&symbol=GAB%5EG&crumb=zgTXR7VBJ.z\n"
     ]
    },
    {
     "name": "stdout",
     "output_type": "stream",
     "text": [
      "[{'ticker': 'G', 'analyst_ratio_to_current': 0.9503722084367245}]\n"
     ]
    },
    {
     "name": "stderr",
     "output_type": "stream",
     "text": [
      "404 Client Error: Not Found for url: https://query2.finance.yahoo.com/v10/finance/quoteSummary/GAB%5EH?modules=financialData&corsDomain=finance.yahoo.com&formatted=false&symbol=GAB%5EH&crumb=zgTXR7VBJ.z\n"
     ]
    },
    {
     "name": "stdout",
     "output_type": "stream",
     "text": [
      "[{'ticker': 'G', 'analyst_ratio_to_current': 0.9503722084367245}]\n"
     ]
    },
    {
     "name": "stderr",
     "output_type": "stream",
     "text": [
      "404 Client Error: Not Found for url: https://query2.finance.yahoo.com/v10/finance/quoteSummary/GAB%5EK?modules=financialData&corsDomain=finance.yahoo.com&formatted=false&symbol=GAB%5EK&crumb=zgTXR7VBJ.z\n"
     ]
    },
    {
     "name": "stdout",
     "output_type": "stream",
     "text": [
      "[{'ticker': 'G', 'analyst_ratio_to_current': 0.9503722084367245}]\n",
      "[{'ticker': 'G', 'analyst_ratio_to_current': 0.9503722084367245}]\n"
     ]
    },
    {
     "name": "stderr",
     "output_type": "stream",
     "text": [
      "404 Client Error: Not Found for url: https://query2.finance.yahoo.com/v10/finance/quoteSummary/GAM%5EB?modules=financialData&corsDomain=finance.yahoo.com&formatted=false&symbol=GAM%5EB&crumb=zgTXR7VBJ.z\n"
     ]
    },
    {
     "name": "stdout",
     "output_type": "stream",
     "text": [
      "[{'ticker': 'G', 'analyst_ratio_to_current': 0.9503722084367245}]\n",
      "[{'ticker': 'GAP', 'analyst_ratio_to_current': 0.800441826215022}]\n",
      "[{'ticker': 'GATO', 'analyst_ratio_to_current': 1.2229259024699177}]\n",
      "[{'ticker': 'GATX', 'analyst_ratio_to_current': 0.9033766233766234}]\n",
      "[{'ticker': 'GB', 'analyst_ratio_to_current': 0.9352159468438539}]\n",
      "[{'ticker': 'GB', 'analyst_ratio_to_current': 0.9352159468438539}]\n",
      "[{'ticker': 'GBCI', 'analyst_ratio_to_current': 1.1039456936784047}]\n",
      "[{'ticker': 'GBCI', 'analyst_ratio_to_current': 1.1039456936784047}]\n",
      "[{'ticker': 'GBTG', 'analyst_ratio_to_current': 0.8909512761020882}]\n",
      "[{'ticker': 'GBX', 'analyst_ratio_to_current': 1.1169391054427877}]\n",
      "[{'ticker': 'GCI', 'analyst_ratio_to_current': 0.9813559322033898}]\n",
      "[{'ticker': 'GCO', 'analyst_ratio_to_current': 1.0166666666666666}]\n",
      "[{'ticker': 'GCTS', 'analyst_ratio_to_current': 0.325}]\n",
      "[{'ticker': 'GCTS', 'analyst_ratio_to_current': 0.325}]\n",
      "[{'ticker': 'GD', 'analyst_ratio_to_current': 0.9243871281708135}]\n",
      "[{'ticker': 'GDDY', 'analyst_ratio_to_current': 0.9210298945913253}]\n",
      "[{'ticker': 'GDDY', 'analyst_ratio_to_current': 0.9210298945913253}]\n",
      "[{'ticker': 'GDDY', 'analyst_ratio_to_current': 0.9210298945913253}]\n",
      "[{'ticker': 'GDOT', 'analyst_ratio_to_current': 1.0}]\n",
      "[{'ticker': 'GDOT', 'analyst_ratio_to_current': 1.0}]\n"
     ]
    },
    {
     "name": "stderr",
     "output_type": "stream",
     "text": [
      "404 Client Error: Not Found for url: https://query2.finance.yahoo.com/v10/finance/quoteSummary/GDV%5EH?modules=financialData&corsDomain=finance.yahoo.com&formatted=false&symbol=GDV%5EH&crumb=zgTXR7VBJ.z\n"
     ]
    },
    {
     "name": "stdout",
     "output_type": "stream",
     "text": [
      "[{'ticker': 'GDOT', 'analyst_ratio_to_current': 1.0}]\n"
     ]
    },
    {
     "name": "stderr",
     "output_type": "stream",
     "text": [
      "404 Client Error: Not Found for url: https://query2.finance.yahoo.com/v10/finance/quoteSummary/GDV%5EK?modules=financialData&corsDomain=finance.yahoo.com&formatted=false&symbol=GDV%5EK&crumb=zgTXR7VBJ.z\n"
     ]
    },
    {
     "name": "stdout",
     "output_type": "stream",
     "text": [
      "[{'ticker': 'GDOT', 'analyst_ratio_to_current': 1.0}]\n",
      "[{'ticker': 'GE', 'analyst_ratio_to_current': 0.8399271960915797}]\n",
      "[{'ticker': 'GEF', 'analyst_ratio_to_current': 0.807948717948718}]\n",
      "[{'ticker': 'GEL', 'analyst_ratio_to_current': 0.8232291001914487}]\n",
      "[{'ticker': 'GENI', 'analyst_ratio_to_current': 0.7593582887700535}]\n",
      "[{'ticker': 'GEO', 'analyst_ratio_to_current': 0.9047353760445682}]\n",
      "[{'ticker': 'GES', 'analyst_ratio_to_current': 0.7665104388581168}]\n",
      "[{'ticker': 'GETY', 'analyst_ratio_to_current': 0.7225225225225225}]\n",
      "[{'ticker': 'GEV', 'analyst_ratio_to_current': 0.9999308556611928}]\n",
      "[{'ticker': 'GEV', 'analyst_ratio_to_current': 0.9999308556611928}]\n",
      "[{'ticker': 'GFF', 'analyst_ratio_to_current': 0.7231460674157303}]\n",
      "[{'ticker': 'GFI', 'analyst_ratio_to_current': 0.9663677130044842}]\n",
      "[{'ticker': 'GFL', 'analyst_ratio_to_current': 0.8734204793028324}]\n",
      "[{'ticker': 'GFR', 'analyst_ratio_to_current': 0.5446153846153846}]\n",
      "[{'ticker': 'GGB', 'analyst_ratio_to_current': 0.6652719665271967}]\n",
      "[{'ticker': 'GGG', 'analyst_ratio_to_current': 0.9319221967963387}]\n",
      "[{'ticker': 'GGG', 'analyst_ratio_to_current': 0.9319221967963387}]\n"
     ]
    },
    {
     "name": "stderr",
     "output_type": "stream",
     "text": [
      "404 Client Error: Not Found for url: https://query2.finance.yahoo.com/v10/finance/quoteSummary/GGT%5EE?modules=financialData&corsDomain=finance.yahoo.com&formatted=false&symbol=GGT%5EE&crumb=zgTXR7VBJ.z\n"
     ]
    },
    {
     "name": "stdout",
     "output_type": "stream",
     "text": [
      "[{'ticker': 'GGG', 'analyst_ratio_to_current': 0.9319221967963387}]\n",
      "[{'ticker': 'GGG', 'analyst_ratio_to_current': 0.9319221967963387}]\n",
      "[{'ticker': 'GHC', 'analyst_ratio_to_current': 1.1366131386861313}]\n",
      "[{'ticker': 'GHG', 'analyst_ratio_to_current': 0.8222222222222222}]\n",
      "[{'ticker': 'GHI', 'analyst_ratio_to_current': 0.691830985915493}]\n",
      "[{'ticker': 'GHLD', 'analyst_ratio_to_current': 0.7941009642654566}]\n",
      "[{'ticker': 'GHM', 'analyst_ratio_to_current': 0.8271328671328672}]\n",
      "[{'ticker': 'GHM', 'analyst_ratio_to_current': 0.8271328671328672}]\n",
      "[{'ticker': 'GIB', 'analyst_ratio_to_current': 0.9477363515312917}]\n",
      "[{'ticker': 'GIC', 'analyst_ratio_to_current': 0.7395555555555556}]\n",
      "[{'ticker': 'GIL', 'analyst_ratio_to_current': 0.6988578863669221}]\n",
      "[{'ticker': 'GIS', 'analyst_ratio_to_current': 0.9127005347593583}]\n"
     ]
    },
    {
     "name": "stderr",
     "output_type": "stream",
     "text": [
      "404 Client Error: Not Found for url: https://query2.finance.yahoo.com/v10/finance/quoteSummary/GJH?modules=financialData&corsDomain=finance.yahoo.com&formatted=false&symbol=GJH&crumb=zgTXR7VBJ.z\n"
     ]
    },
    {
     "name": "stdout",
     "output_type": "stream",
     "text": [
      "[{'ticker': 'GIS', 'analyst_ratio_to_current': 0.9127005347593583}]\n"
     ]
    },
    {
     "name": "stderr",
     "output_type": "stream",
     "text": [
      "404 Client Error: Not Found for url: https://query2.finance.yahoo.com/v10/finance/quoteSummary/GJO?modules=financialData&corsDomain=finance.yahoo.com&formatted=false&symbol=GJO&crumb=zgTXR7VBJ.z\n"
     ]
    },
    {
     "name": "stdout",
     "output_type": "stream",
     "text": [
      "[{'ticker': 'GIS', 'analyst_ratio_to_current': 0.9127005347593583}]\n"
     ]
    },
    {
     "name": "stderr",
     "output_type": "stream",
     "text": [
      "404 Client Error: Not Found for url: https://query2.finance.yahoo.com/v10/finance/quoteSummary/GJR?modules=financialData&corsDomain=finance.yahoo.com&formatted=false&symbol=GJR&crumb=zgTXR7VBJ.z\n"
     ]
    },
    {
     "name": "stdout",
     "output_type": "stream",
     "text": [
      "[{'ticker': 'GIS', 'analyst_ratio_to_current': 0.9127005347593583}]\n"
     ]
    },
    {
     "name": "stderr",
     "output_type": "stream",
     "text": [
      "404 Client Error: Not Found for url: https://query2.finance.yahoo.com/v10/finance/quoteSummary/GJT?modules=financialData&corsDomain=finance.yahoo.com&formatted=false&symbol=GJT&crumb=zgTXR7VBJ.z\n"
     ]
    },
    {
     "name": "stdout",
     "output_type": "stream",
     "text": [
      "[{'ticker': 'GIS', 'analyst_ratio_to_current': 0.9127005347593583}]\n",
      "[{'ticker': 'GKOS', 'analyst_ratio_to_current': 0.9772594752186591}]\n",
      "[{'ticker': 'GL', 'analyst_ratio_to_current': 0.8197715085101424}]\n"
     ]
    },
    {
     "name": "stderr",
     "output_type": "stream",
     "text": [
      "404 Client Error: Not Found for url: https://query2.finance.yahoo.com/v10/finance/quoteSummary/GL%5ED?modules=financialData&corsDomain=finance.yahoo.com&formatted=false&symbol=GL%5ED&crumb=zgTXR7VBJ.z\n"
     ]
    },
    {
     "name": "stdout",
     "output_type": "stream",
     "text": [
      "[{'ticker': 'GL', 'analyst_ratio_to_current': 0.8197715085101424}]\n",
      "[{'ticker': 'GLOB', 'analyst_ratio_to_current': 0.969687569244405}]\n"
     ]
    },
    {
     "name": "stderr",
     "output_type": "stream",
     "text": [
      "404 Client Error: Not Found for url: https://query2.finance.yahoo.com/v10/finance/quoteSummary/GLOP%5EA?modules=financialData&corsDomain=finance.yahoo.com&formatted=false&symbol=GLOP%5EA&crumb=zgTXR7VBJ.z\n"
     ]
    },
    {
     "name": "stdout",
     "output_type": "stream",
     "text": [
      "[{'ticker': 'GLOB', 'analyst_ratio_to_current': 0.969687569244405}]\n"
     ]
    },
    {
     "name": "stderr",
     "output_type": "stream",
     "text": [
      "404 Client Error: Not Found for url: https://query2.finance.yahoo.com/v10/finance/quoteSummary/GLOP%5EB?modules=financialData&corsDomain=finance.yahoo.com&formatted=false&symbol=GLOP%5EB&crumb=zgTXR7VBJ.z\n"
     ]
    },
    {
     "name": "stdout",
     "output_type": "stream",
     "text": [
      "[{'ticker': 'GLOB', 'analyst_ratio_to_current': 0.969687569244405}]\n"
     ]
    },
    {
     "name": "stderr",
     "output_type": "stream",
     "text": [
      "404 Client Error: Not Found for url: https://query2.finance.yahoo.com/v10/finance/quoteSummary/GLOP%5EC?modules=financialData&corsDomain=finance.yahoo.com&formatted=false&symbol=GLOP%5EC&crumb=zgTXR7VBJ.z\n"
     ]
    },
    {
     "name": "stdout",
     "output_type": "stream",
     "text": [
      "[{'ticker': 'GLOB', 'analyst_ratio_to_current': 0.969687569244405}]\n",
      "[{'ticker': 'GLP', 'analyst_ratio_to_current': 0.913921568627451}]\n"
     ]
    },
    {
     "name": "stderr",
     "output_type": "stream",
     "text": [
      "404 Client Error: Not Found for url: https://query2.finance.yahoo.com/v10/finance/quoteSummary/GLP%5EB?modules=financialData&corsDomain=finance.yahoo.com&formatted=false&symbol=GLP%5EB&crumb=zgTXR7VBJ.z\n"
     ]
    },
    {
     "name": "stdout",
     "output_type": "stream",
     "text": [
      "[{'ticker': 'GLP', 'analyst_ratio_to_current': 0.913921568627451}]\n",
      "[{'ticker': 'GLP', 'analyst_ratio_to_current': 0.913921568627451}]\n",
      "[{'ticker': 'GLW', 'analyst_ratio_to_current': 1.0110079861860566}]\n",
      "[{'ticker': 'GM', 'analyst_ratio_to_current': 0.9113377117179398}]\n",
      "[{'ticker': 'GME', 'analyst_ratio_to_current': 2.884517766497462}]\n",
      "[{'ticker': 'GMED', 'analyst_ratio_to_current': 0.9328639678149359}]\n",
      "[{'ticker': 'GMRE', 'analyst_ratio_to_current': 0.8333333333333334}]\n"
     ]
    },
    {
     "name": "stderr",
     "output_type": "stream",
     "text": [
      "404 Client Error: Not Found for url: https://query2.finance.yahoo.com/v10/finance/quoteSummary/GMRE%5EA?modules=financialData&corsDomain=finance.yahoo.com&formatted=false&symbol=GMRE%5EA&crumb=zgTXR7VBJ.z\n"
     ]
    },
    {
     "name": "stdout",
     "output_type": "stream",
     "text": [
      "[{'ticker': 'GMRE', 'analyst_ratio_to_current': 0.8333333333333334}]\n",
      "[{'ticker': 'GMS', 'analyst_ratio_to_current': 0.9895698924731183}]\n",
      "[{'ticker': 'GMS', 'analyst_ratio_to_current': 0.9895698924731183}]\n",
      "[{'ticker': 'GNK', 'analyst_ratio_to_current': 0.6702355460385439}]\n",
      "[{'ticker': 'GNL', 'analyst_ratio_to_current': 0.806060606060606}]\n"
     ]
    },
    {
     "name": "stderr",
     "output_type": "stream",
     "text": [
      "404 Client Error: Not Found for url: https://query2.finance.yahoo.com/v10/finance/quoteSummary/GNL%5EA?modules=financialData&corsDomain=finance.yahoo.com&formatted=false&symbol=GNL%5EA&crumb=zgTXR7VBJ.z\n"
     ]
    },
    {
     "name": "stdout",
     "output_type": "stream",
     "text": [
      "[{'ticker': 'GNL', 'analyst_ratio_to_current': 0.806060606060606}]\n"
     ]
    },
    {
     "name": "stderr",
     "output_type": "stream",
     "text": [
      "404 Client Error: Not Found for url: https://query2.finance.yahoo.com/v10/finance/quoteSummary/GNL%5EB?modules=financialData&corsDomain=finance.yahoo.com&formatted=false&symbol=GNL%5EB&crumb=zgTXR7VBJ.z\n"
     ]
    },
    {
     "name": "stdout",
     "output_type": "stream",
     "text": [
      "[{'ticker': 'GNL', 'analyst_ratio_to_current': 0.806060606060606}]\n"
     ]
    },
    {
     "name": "stderr",
     "output_type": "stream",
     "text": [
      "404 Client Error: Not Found for url: https://query2.finance.yahoo.com/v10/finance/quoteSummary/GNL%5ED?modules=financialData&corsDomain=finance.yahoo.com&formatted=false&symbol=GNL%5ED&crumb=zgTXR7VBJ.z\n"
     ]
    },
    {
     "name": "stdout",
     "output_type": "stream",
     "text": [
      "[{'ticker': 'GNL', 'analyst_ratio_to_current': 0.806060606060606}]\n"
     ]
    },
    {
     "name": "stderr",
     "output_type": "stream",
     "text": [
      "404 Client Error: Not Found for url: https://query2.finance.yahoo.com/v10/finance/quoteSummary/GNL%5EE?modules=financialData&corsDomain=finance.yahoo.com&formatted=false&symbol=GNL%5EE&crumb=zgTXR7VBJ.z\n"
     ]
    },
    {
     "name": "stdout",
     "output_type": "stream",
     "text": [
      "[{'ticker': 'GNL', 'analyst_ratio_to_current': 0.806060606060606}]\n",
      "[{'ticker': 'GNRC', 'analyst_ratio_to_current': 0.9813388625592416}]\n",
      "[{'ticker': 'GNRC', 'analyst_ratio_to_current': 0.9813388625592416}]\n"
     ]
    },
    {
     "name": "stderr",
     "output_type": "stream",
     "text": [
      "404 Client Error: Not Found for url: https://query2.finance.yahoo.com/v10/finance/quoteSummary/GNT%5EA?modules=financialData&corsDomain=finance.yahoo.com&formatted=false&symbol=GNT%5EA&crumb=zgTXR7VBJ.z\n"
     ]
    },
    {
     "name": "stdout",
     "output_type": "stream",
     "text": [
      "[{'ticker': 'GNRC', 'analyst_ratio_to_current': 0.9813388625592416}]\n"
     ]
    },
    {
     "ename": "KeyboardInterrupt",
     "evalue": "",
     "output_type": "error",
     "traceback": [
      "\u001b[0;31m---------------------------------------------------------------------------\u001b[0m",
      "\u001b[0;31mKeyboardInterrupt\u001b[0m                         Traceback (most recent call last)",
      "\u001b[0;32m/var/folders/7s/rqlglvnd5j59m1s85bx_4y3h0000gn/T/ipykernel_43053/3454938471.py\u001b[0m in \u001b[0;36m<module>\u001b[0;34m\u001b[0m\n\u001b[1;32m      7\u001b[0m             \u001b[0;32mcontinue\u001b[0m\u001b[0;34m\u001b[0m\u001b[0;34m\u001b[0m\u001b[0m\n\u001b[1;32m      8\u001b[0m         \u001b[0;32mtry\u001b[0m\u001b[0;34m:\u001b[0m\u001b[0;34m\u001b[0m\u001b[0;34m\u001b[0m\u001b[0m\n\u001b[0;32m----> 9\u001b[0;31m             \u001b[0mrec\u001b[0m \u001b[0;34m=\u001b[0m \u001b[0myf\u001b[0m\u001b[0;34m.\u001b[0m\u001b[0mTicker\u001b[0m\u001b[0;34m(\u001b[0m\u001b[0mticker\u001b[0m\u001b[0;34m)\u001b[0m\u001b[0;34m.\u001b[0m\u001b[0mget_analyst_price_targets\u001b[0m\u001b[0;34m(\u001b[0m\u001b[0;34m)\u001b[0m\u001b[0;34m\u001b[0m\u001b[0;34m\u001b[0m\u001b[0m\n\u001b[0m\u001b[1;32m     10\u001b[0m             \u001b[0mall_stocks\u001b[0m\u001b[0;34m.\u001b[0m\u001b[0mappend\u001b[0m\u001b[0;34m(\u001b[0m\u001b[0;34m[\u001b[0m\u001b[0;34m{\u001b[0m\u001b[0;34m'ticker'\u001b[0m\u001b[0;34m:\u001b[0m\u001b[0mticker\u001b[0m\u001b[0;34m,\u001b[0m \u001b[0;34m'analyst_ratio_to_current'\u001b[0m\u001b[0;34m:\u001b[0m \u001b[0mrec\u001b[0m\u001b[0;34m[\u001b[0m\u001b[0;34m'current'\u001b[0m\u001b[0;34m]\u001b[0m\u001b[0;34m/\u001b[0m\u001b[0mrec\u001b[0m\u001b[0;34m[\u001b[0m\u001b[0;34m'mean'\u001b[0m\u001b[0;34m]\u001b[0m\u001b[0;34m}\u001b[0m\u001b[0;34m]\u001b[0m\u001b[0;34m)\u001b[0m\u001b[0;34m\u001b[0m\u001b[0;34m\u001b[0m\u001b[0m\n\u001b[1;32m     11\u001b[0m         \u001b[0;32mexcept\u001b[0m \u001b[0mException\u001b[0m \u001b[0;32mas\u001b[0m \u001b[0me\u001b[0m\u001b[0;34m:\u001b[0m\u001b[0;34m\u001b[0m\u001b[0;34m\u001b[0m\u001b[0m\n",
      "\u001b[0;32m~/opt/anaconda3/lib/python3.9/site-packages/yfinance/base.py\u001b[0m in \u001b[0;36mget_analyst_price_targets\u001b[0;34m(self, proxy)\u001b[0m\n\u001b[1;32m    252\u001b[0m         \"\"\"\n\u001b[1;32m    253\u001b[0m         \u001b[0mself\u001b[0m\u001b[0;34m.\u001b[0m\u001b[0m_analysis\u001b[0m\u001b[0;34m.\u001b[0m\u001b[0mproxy\u001b[0m \u001b[0;34m=\u001b[0m \u001b[0mproxy\u001b[0m \u001b[0;32mor\u001b[0m \u001b[0mself\u001b[0m\u001b[0;34m.\u001b[0m\u001b[0mproxy\u001b[0m\u001b[0;34m\u001b[0m\u001b[0;34m\u001b[0m\u001b[0m\n\u001b[0;32m--> 254\u001b[0;31m         \u001b[0mdata\u001b[0m \u001b[0;34m=\u001b[0m \u001b[0mself\u001b[0m\u001b[0;34m.\u001b[0m\u001b[0m_analysis\u001b[0m\u001b[0;34m.\u001b[0m\u001b[0manalyst_price_targets\u001b[0m\u001b[0;34m\u001b[0m\u001b[0;34m\u001b[0m\u001b[0m\n\u001b[0m\u001b[1;32m    255\u001b[0m         \u001b[0;32mreturn\u001b[0m \u001b[0mdata\u001b[0m\u001b[0;34m\u001b[0m\u001b[0;34m\u001b[0m\u001b[0m\n\u001b[1;32m    256\u001b[0m \u001b[0;34m\u001b[0m\u001b[0m\n",
      "\u001b[0;32m~/opt/anaconda3/lib/python3.9/site-packages/yfinance/scrapers/analysis.py\u001b[0m in \u001b[0;36manalyst_price_targets\u001b[0;34m(self)\u001b[0m\n\u001b[1;32m     35\u001b[0m \u001b[0;34m\u001b[0m\u001b[0m\n\u001b[1;32m     36\u001b[0m         \u001b[0;32mtry\u001b[0m\u001b[0;34m:\u001b[0m\u001b[0;34m\u001b[0m\u001b[0;34m\u001b[0m\u001b[0m\n\u001b[0;32m---> 37\u001b[0;31m             \u001b[0mdata\u001b[0m \u001b[0;34m=\u001b[0m \u001b[0mself\u001b[0m\u001b[0;34m.\u001b[0m\u001b[0m_fetch\u001b[0m\u001b[0;34m(\u001b[0m\u001b[0;34m[\u001b[0m\u001b[0;34m'financialData'\u001b[0m\u001b[0;34m]\u001b[0m\u001b[0;34m)\u001b[0m\u001b[0;34m\u001b[0m\u001b[0;34m\u001b[0m\u001b[0m\n\u001b[0m\u001b[1;32m     38\u001b[0m             \u001b[0mdata\u001b[0m \u001b[0;34m=\u001b[0m \u001b[0mdata\u001b[0m\u001b[0;34m[\u001b[0m\u001b[0;34m'quoteSummary'\u001b[0m\u001b[0;34m]\u001b[0m\u001b[0;34m[\u001b[0m\u001b[0;34m'result'\u001b[0m\u001b[0;34m]\u001b[0m\u001b[0;34m[\u001b[0m\u001b[0;36m0\u001b[0m\u001b[0;34m]\u001b[0m\u001b[0;34m[\u001b[0m\u001b[0;34m'financialData'\u001b[0m\u001b[0;34m]\u001b[0m\u001b[0;34m\u001b[0m\u001b[0;34m\u001b[0m\u001b[0m\n\u001b[1;32m     39\u001b[0m         \u001b[0;32mexcept\u001b[0m \u001b[0;34m(\u001b[0m\u001b[0mTypeError\u001b[0m\u001b[0;34m,\u001b[0m \u001b[0mKeyError\u001b[0m\u001b[0;34m)\u001b[0m\u001b[0;34m:\u001b[0m\u001b[0;34m\u001b[0m\u001b[0;34m\u001b[0m\u001b[0m\n",
      "\u001b[0;32m~/opt/anaconda3/lib/python3.9/site-packages/yfinance/scrapers/analysis.py\u001b[0m in \u001b[0;36m_fetch\u001b[0;34m(self, modules)\u001b[0m\n\u001b[1;32m    251\u001b[0m         \u001b[0mparams_dict\u001b[0m \u001b[0;34m=\u001b[0m \u001b[0;34m{\u001b[0m\u001b[0;34m\"modules\"\u001b[0m\u001b[0;34m:\u001b[0m \u001b[0mmodules\u001b[0m\u001b[0;34m,\u001b[0m \u001b[0;34m\"corsDomain\"\u001b[0m\u001b[0;34m:\u001b[0m \u001b[0;34m\"finance.yahoo.com\"\u001b[0m\u001b[0;34m,\u001b[0m \u001b[0;34m\"formatted\"\u001b[0m\u001b[0;34m:\u001b[0m \u001b[0;34m\"false\"\u001b[0m\u001b[0;34m,\u001b[0m \u001b[0;34m\"symbol\"\u001b[0m\u001b[0;34m:\u001b[0m \u001b[0mself\u001b[0m\u001b[0;34m.\u001b[0m\u001b[0m_symbol\u001b[0m\u001b[0;34m}\u001b[0m\u001b[0;34m\u001b[0m\u001b[0;34m\u001b[0m\u001b[0m\n\u001b[1;32m    252\u001b[0m         \u001b[0;32mtry\u001b[0m\u001b[0;34m:\u001b[0m\u001b[0;34m\u001b[0m\u001b[0;34m\u001b[0m\u001b[0m\n\u001b[0;32m--> 253\u001b[0;31m             \u001b[0mresult\u001b[0m \u001b[0;34m=\u001b[0m \u001b[0mself\u001b[0m\u001b[0;34m.\u001b[0m\u001b[0m_data\u001b[0m\u001b[0;34m.\u001b[0m\u001b[0mget_raw_json\u001b[0m\u001b[0;34m(\u001b[0m\u001b[0m_QUOTE_SUMMARY_URL_\u001b[0m \u001b[0;34m+\u001b[0m \u001b[0;34mf\"/{self._symbol}\"\u001b[0m\u001b[0;34m,\u001b[0m \u001b[0muser_agent_headers\u001b[0m\u001b[0;34m=\u001b[0m\u001b[0mself\u001b[0m\u001b[0;34m.\u001b[0m\u001b[0m_data\u001b[0m\u001b[0;34m.\u001b[0m\u001b[0muser_agent_headers\u001b[0m\u001b[0;34m,\u001b[0m \u001b[0mparams\u001b[0m\u001b[0;34m=\u001b[0m\u001b[0mparams_dict\u001b[0m\u001b[0;34m,\u001b[0m \u001b[0mproxy\u001b[0m\u001b[0;34m=\u001b[0m\u001b[0mself\u001b[0m\u001b[0;34m.\u001b[0m\u001b[0mproxy\u001b[0m\u001b[0;34m)\u001b[0m\u001b[0;34m\u001b[0m\u001b[0;34m\u001b[0m\u001b[0m\n\u001b[0m\u001b[1;32m    254\u001b[0m         \u001b[0;32mexcept\u001b[0m \u001b[0mrequests\u001b[0m\u001b[0;34m.\u001b[0m\u001b[0mexceptions\u001b[0m\u001b[0;34m.\u001b[0m\u001b[0mHTTPError\u001b[0m \u001b[0;32mas\u001b[0m \u001b[0me\u001b[0m\u001b[0;34m:\u001b[0m\u001b[0;34m\u001b[0m\u001b[0;34m\u001b[0m\u001b[0m\n\u001b[1;32m    255\u001b[0m             \u001b[0mutils\u001b[0m\u001b[0;34m.\u001b[0m\u001b[0mget_yf_logger\u001b[0m\u001b[0;34m(\u001b[0m\u001b[0;34m)\u001b[0m\u001b[0;34m.\u001b[0m\u001b[0merror\u001b[0m\u001b[0;34m(\u001b[0m\u001b[0mstr\u001b[0m\u001b[0;34m(\u001b[0m\u001b[0me\u001b[0m\u001b[0;34m)\u001b[0m\u001b[0;34m)\u001b[0m\u001b[0;34m\u001b[0m\u001b[0;34m\u001b[0m\u001b[0m\n",
      "\u001b[0;32m~/opt/anaconda3/lib/python3.9/site-packages/yfinance/data.py\u001b[0m in \u001b[0;36mget_raw_json\u001b[0;34m(self, url, user_agent_headers, params, proxy, timeout)\u001b[0m\n\u001b[1;32m    408\u001b[0m     \u001b[0;32mdef\u001b[0m \u001b[0mget_raw_json\u001b[0m\u001b[0;34m(\u001b[0m\u001b[0mself\u001b[0m\u001b[0;34m,\u001b[0m \u001b[0murl\u001b[0m\u001b[0;34m,\u001b[0m \u001b[0muser_agent_headers\u001b[0m\u001b[0;34m=\u001b[0m\u001b[0;32mNone\u001b[0m\u001b[0;34m,\u001b[0m \u001b[0mparams\u001b[0m\u001b[0;34m=\u001b[0m\u001b[0;32mNone\u001b[0m\u001b[0;34m,\u001b[0m \u001b[0mproxy\u001b[0m\u001b[0;34m=\u001b[0m\u001b[0;32mNone\u001b[0m\u001b[0;34m,\u001b[0m \u001b[0mtimeout\u001b[0m\u001b[0;34m=\u001b[0m\u001b[0;36m30\u001b[0m\u001b[0;34m)\u001b[0m\u001b[0;34m:\u001b[0m\u001b[0;34m\u001b[0m\u001b[0;34m\u001b[0m\u001b[0m\n\u001b[1;32m    409\u001b[0m         \u001b[0mutils\u001b[0m\u001b[0;34m.\u001b[0m\u001b[0mget_yf_logger\u001b[0m\u001b[0;34m(\u001b[0m\u001b[0;34m)\u001b[0m\u001b[0;34m.\u001b[0m\u001b[0mdebug\u001b[0m\u001b[0;34m(\u001b[0m\u001b[0;34mf'get_raw_json(): {url}'\u001b[0m\u001b[0;34m)\u001b[0m\u001b[0;34m\u001b[0m\u001b[0;34m\u001b[0m\u001b[0m\n\u001b[0;32m--> 410\u001b[0;31m         \u001b[0mresponse\u001b[0m \u001b[0;34m=\u001b[0m \u001b[0mself\u001b[0m\u001b[0;34m.\u001b[0m\u001b[0mget\u001b[0m\u001b[0;34m(\u001b[0m\u001b[0murl\u001b[0m\u001b[0;34m,\u001b[0m \u001b[0muser_agent_headers\u001b[0m\u001b[0;34m=\u001b[0m\u001b[0muser_agent_headers\u001b[0m\u001b[0;34m,\u001b[0m \u001b[0mparams\u001b[0m\u001b[0;34m=\u001b[0m\u001b[0mparams\u001b[0m\u001b[0;34m,\u001b[0m \u001b[0mproxy\u001b[0m\u001b[0;34m=\u001b[0m\u001b[0mproxy\u001b[0m\u001b[0;34m,\u001b[0m \u001b[0mtimeout\u001b[0m\u001b[0;34m=\u001b[0m\u001b[0mtimeout\u001b[0m\u001b[0;34m)\u001b[0m\u001b[0;34m\u001b[0m\u001b[0;34m\u001b[0m\u001b[0m\n\u001b[0m\u001b[1;32m    411\u001b[0m         \u001b[0mresponse\u001b[0m\u001b[0;34m.\u001b[0m\u001b[0mraise_for_status\u001b[0m\u001b[0;34m(\u001b[0m\u001b[0;34m)\u001b[0m\u001b[0;34m\u001b[0m\u001b[0;34m\u001b[0m\u001b[0m\n\u001b[1;32m    412\u001b[0m         \u001b[0;32mreturn\u001b[0m \u001b[0mresponse\u001b[0m\u001b[0;34m.\u001b[0m\u001b[0mjson\u001b[0m\u001b[0;34m(\u001b[0m\u001b[0;34m)\u001b[0m\u001b[0;34m\u001b[0m\u001b[0;34m\u001b[0m\u001b[0m\n",
      "\u001b[0;32m~/opt/anaconda3/lib/python3.9/site-packages/yfinance/utils.py\u001b[0m in \u001b[0;36mwrapper\u001b[0;34m(*args, **kwargs)\u001b[0m\n\u001b[1;32m    102\u001b[0m \u001b[0;34m\u001b[0m\u001b[0m\n\u001b[1;32m    103\u001b[0m         \u001b[0;32mwith\u001b[0m \u001b[0mIndentationContext\u001b[0m\u001b[0;34m(\u001b[0m\u001b[0;34m)\u001b[0m\u001b[0;34m:\u001b[0m\u001b[0;34m\u001b[0m\u001b[0;34m\u001b[0m\u001b[0m\n\u001b[0;32m--> 104\u001b[0;31m             \u001b[0mresult\u001b[0m \u001b[0;34m=\u001b[0m \u001b[0mfunc\u001b[0m\u001b[0;34m(\u001b[0m\u001b[0;34m*\u001b[0m\u001b[0margs\u001b[0m\u001b[0;34m,\u001b[0m \u001b[0;34m**\u001b[0m\u001b[0mkwargs\u001b[0m\u001b[0;34m)\u001b[0m\u001b[0;34m\u001b[0m\u001b[0;34m\u001b[0m\u001b[0m\n\u001b[0m\u001b[1;32m    105\u001b[0m \u001b[0;34m\u001b[0m\u001b[0m\n\u001b[1;32m    106\u001b[0m         \u001b[0mlogger\u001b[0m\u001b[0;34m.\u001b[0m\u001b[0mdebug\u001b[0m\u001b[0;34m(\u001b[0m\u001b[0;34mf'Exiting {func.__name__}()'\u001b[0m\u001b[0;34m)\u001b[0m\u001b[0;34m\u001b[0m\u001b[0;34m\u001b[0m\u001b[0m\n",
      "\u001b[0;32m~/opt/anaconda3/lib/python3.9/site-packages/yfinance/data.py\u001b[0m in \u001b[0;36mget\u001b[0;34m(self, url, user_agent_headers, params, proxy, timeout)\u001b[0m\n\u001b[1;32m    331\u001b[0m     \u001b[0;34m@\u001b[0m\u001b[0mutils\u001b[0m\u001b[0;34m.\u001b[0m\u001b[0mlog_indent_decorator\u001b[0m\u001b[0;34m\u001b[0m\u001b[0;34m\u001b[0m\u001b[0m\n\u001b[1;32m    332\u001b[0m     \u001b[0;32mdef\u001b[0m \u001b[0mget\u001b[0m\u001b[0;34m(\u001b[0m\u001b[0mself\u001b[0m\u001b[0;34m,\u001b[0m \u001b[0murl\u001b[0m\u001b[0;34m,\u001b[0m \u001b[0muser_agent_headers\u001b[0m\u001b[0;34m=\u001b[0m\u001b[0;32mNone\u001b[0m\u001b[0;34m,\u001b[0m \u001b[0mparams\u001b[0m\u001b[0;34m=\u001b[0m\u001b[0;32mNone\u001b[0m\u001b[0;34m,\u001b[0m \u001b[0mproxy\u001b[0m\u001b[0;34m=\u001b[0m\u001b[0;32mNone\u001b[0m\u001b[0;34m,\u001b[0m \u001b[0mtimeout\u001b[0m\u001b[0;34m=\u001b[0m\u001b[0;36m30\u001b[0m\u001b[0;34m)\u001b[0m\u001b[0;34m:\u001b[0m\u001b[0;34m\u001b[0m\u001b[0;34m\u001b[0m\u001b[0m\n\u001b[0;32m--> 333\u001b[0;31m         \u001b[0;32mreturn\u001b[0m \u001b[0mself\u001b[0m\u001b[0;34m.\u001b[0m\u001b[0m_make_request\u001b[0m\u001b[0;34m(\u001b[0m\u001b[0murl\u001b[0m\u001b[0;34m,\u001b[0m \u001b[0mrequest_method\u001b[0m \u001b[0;34m=\u001b[0m \u001b[0mself\u001b[0m\u001b[0;34m.\u001b[0m\u001b[0m_session\u001b[0m\u001b[0;34m.\u001b[0m\u001b[0mget\u001b[0m\u001b[0;34m,\u001b[0m \u001b[0muser_agent_headers\u001b[0m\u001b[0;34m=\u001b[0m\u001b[0muser_agent_headers\u001b[0m\u001b[0;34m,\u001b[0m \u001b[0mparams\u001b[0m\u001b[0;34m=\u001b[0m\u001b[0mparams\u001b[0m\u001b[0;34m,\u001b[0m \u001b[0mproxy\u001b[0m\u001b[0;34m=\u001b[0m\u001b[0mproxy\u001b[0m\u001b[0;34m,\u001b[0m \u001b[0mtimeout\u001b[0m\u001b[0;34m=\u001b[0m\u001b[0mtimeout\u001b[0m\u001b[0;34m)\u001b[0m\u001b[0;34m\u001b[0m\u001b[0;34m\u001b[0m\u001b[0m\n\u001b[0m\u001b[1;32m    334\u001b[0m \u001b[0;34m\u001b[0m\u001b[0m\n\u001b[1;32m    335\u001b[0m     \u001b[0;34m@\u001b[0m\u001b[0mutils\u001b[0m\u001b[0;34m.\u001b[0m\u001b[0mlog_indent_decorator\u001b[0m\u001b[0;34m\u001b[0m\u001b[0;34m\u001b[0m\u001b[0m\n",
      "\u001b[0;32m~/opt/anaconda3/lib/python3.9/site-packages/yfinance/utils.py\u001b[0m in \u001b[0;36mwrapper\u001b[0;34m(*args, **kwargs)\u001b[0m\n\u001b[1;32m    102\u001b[0m \u001b[0;34m\u001b[0m\u001b[0m\n\u001b[1;32m    103\u001b[0m         \u001b[0;32mwith\u001b[0m \u001b[0mIndentationContext\u001b[0m\u001b[0;34m(\u001b[0m\u001b[0;34m)\u001b[0m\u001b[0;34m:\u001b[0m\u001b[0;34m\u001b[0m\u001b[0;34m\u001b[0m\u001b[0m\n\u001b[0;32m--> 104\u001b[0;31m             \u001b[0mresult\u001b[0m \u001b[0;34m=\u001b[0m \u001b[0mfunc\u001b[0m\u001b[0;34m(\u001b[0m\u001b[0;34m*\u001b[0m\u001b[0margs\u001b[0m\u001b[0;34m,\u001b[0m \u001b[0;34m**\u001b[0m\u001b[0mkwargs\u001b[0m\u001b[0;34m)\u001b[0m\u001b[0;34m\u001b[0m\u001b[0;34m\u001b[0m\u001b[0m\n\u001b[0m\u001b[1;32m    105\u001b[0m \u001b[0;34m\u001b[0m\u001b[0m\n\u001b[1;32m    106\u001b[0m         \u001b[0mlogger\u001b[0m\u001b[0;34m.\u001b[0m\u001b[0mdebug\u001b[0m\u001b[0;34m(\u001b[0m\u001b[0;34mf'Exiting {func.__name__}()'\u001b[0m\u001b[0;34m)\u001b[0m\u001b[0;34m\u001b[0m\u001b[0;34m\u001b[0m\u001b[0m\n",
      "\u001b[0;32m~/opt/anaconda3/lib/python3.9/site-packages/yfinance/data.py\u001b[0m in \u001b[0;36m_make_request\u001b[0;34m(self, url, request_method, user_agent_headers, body, params, proxy, timeout)\u001b[0m\n\u001b[1;32m    376\u001b[0m             \u001b[0mrequest_args\u001b[0m\u001b[0;34m[\u001b[0m\u001b[0;34m'json'\u001b[0m\u001b[0;34m]\u001b[0m \u001b[0;34m=\u001b[0m \u001b[0mbody\u001b[0m\u001b[0;34m\u001b[0m\u001b[0;34m\u001b[0m\u001b[0m\n\u001b[1;32m    377\u001b[0m \u001b[0;34m\u001b[0m\u001b[0m\n\u001b[0;32m--> 378\u001b[0;31m         \u001b[0mresponse\u001b[0m \u001b[0;34m=\u001b[0m \u001b[0mrequest_method\u001b[0m\u001b[0;34m(\u001b[0m\u001b[0;34m**\u001b[0m\u001b[0mrequest_args\u001b[0m\u001b[0;34m)\u001b[0m\u001b[0;34m\u001b[0m\u001b[0;34m\u001b[0m\u001b[0m\n\u001b[0m\u001b[1;32m    379\u001b[0m         \u001b[0mutils\u001b[0m\u001b[0;34m.\u001b[0m\u001b[0mget_yf_logger\u001b[0m\u001b[0;34m(\u001b[0m\u001b[0;34m)\u001b[0m\u001b[0;34m.\u001b[0m\u001b[0mdebug\u001b[0m\u001b[0;34m(\u001b[0m\u001b[0;34mf'response code={response.status_code}'\u001b[0m\u001b[0;34m)\u001b[0m\u001b[0;34m\u001b[0m\u001b[0;34m\u001b[0m\u001b[0m\n\u001b[1;32m    380\u001b[0m         \u001b[0;32mif\u001b[0m \u001b[0mresponse\u001b[0m\u001b[0;34m.\u001b[0m\u001b[0mstatus_code\u001b[0m \u001b[0;34m>=\u001b[0m \u001b[0;36m400\u001b[0m\u001b[0;34m:\u001b[0m\u001b[0;34m\u001b[0m\u001b[0;34m\u001b[0m\u001b[0m\n",
      "\u001b[0;32m~/.local/lib/python3.9/site-packages/requests/sessions.py\u001b[0m in \u001b[0;36mget\u001b[0;34m(self, url, **kwargs)\u001b[0m\n\u001b[1;32m    600\u001b[0m \u001b[0;34m\u001b[0m\u001b[0m\n\u001b[1;32m    601\u001b[0m         \u001b[0mkwargs\u001b[0m\u001b[0;34m.\u001b[0m\u001b[0msetdefault\u001b[0m\u001b[0;34m(\u001b[0m\u001b[0;34m\"allow_redirects\"\u001b[0m\u001b[0;34m,\u001b[0m \u001b[0;32mTrue\u001b[0m\u001b[0;34m)\u001b[0m\u001b[0;34m\u001b[0m\u001b[0;34m\u001b[0m\u001b[0m\n\u001b[0;32m--> 602\u001b[0;31m         \u001b[0;32mreturn\u001b[0m \u001b[0mself\u001b[0m\u001b[0;34m.\u001b[0m\u001b[0mrequest\u001b[0m\u001b[0;34m(\u001b[0m\u001b[0;34m\"GET\"\u001b[0m\u001b[0;34m,\u001b[0m \u001b[0murl\u001b[0m\u001b[0;34m,\u001b[0m \u001b[0;34m**\u001b[0m\u001b[0mkwargs\u001b[0m\u001b[0;34m)\u001b[0m\u001b[0;34m\u001b[0m\u001b[0;34m\u001b[0m\u001b[0m\n\u001b[0m\u001b[1;32m    603\u001b[0m \u001b[0;34m\u001b[0m\u001b[0m\n\u001b[1;32m    604\u001b[0m     \u001b[0;32mdef\u001b[0m \u001b[0moptions\u001b[0m\u001b[0;34m(\u001b[0m\u001b[0mself\u001b[0m\u001b[0;34m,\u001b[0m \u001b[0murl\u001b[0m\u001b[0;34m,\u001b[0m \u001b[0;34m**\u001b[0m\u001b[0mkwargs\u001b[0m\u001b[0;34m)\u001b[0m\u001b[0;34m:\u001b[0m\u001b[0;34m\u001b[0m\u001b[0;34m\u001b[0m\u001b[0m\n",
      "\u001b[0;32m~/.local/lib/python3.9/site-packages/requests/sessions.py\u001b[0m in \u001b[0;36mrequest\u001b[0;34m(self, method, url, params, data, headers, cookies, files, auth, timeout, allow_redirects, proxies, hooks, stream, verify, cert, json)\u001b[0m\n\u001b[1;32m    587\u001b[0m         }\n\u001b[1;32m    588\u001b[0m         \u001b[0msend_kwargs\u001b[0m\u001b[0;34m.\u001b[0m\u001b[0mupdate\u001b[0m\u001b[0;34m(\u001b[0m\u001b[0msettings\u001b[0m\u001b[0;34m)\u001b[0m\u001b[0;34m\u001b[0m\u001b[0;34m\u001b[0m\u001b[0m\n\u001b[0;32m--> 589\u001b[0;31m         \u001b[0mresp\u001b[0m \u001b[0;34m=\u001b[0m \u001b[0mself\u001b[0m\u001b[0;34m.\u001b[0m\u001b[0msend\u001b[0m\u001b[0;34m(\u001b[0m\u001b[0mprep\u001b[0m\u001b[0;34m,\u001b[0m \u001b[0;34m**\u001b[0m\u001b[0msend_kwargs\u001b[0m\u001b[0;34m)\u001b[0m\u001b[0;34m\u001b[0m\u001b[0;34m\u001b[0m\u001b[0m\n\u001b[0m\u001b[1;32m    590\u001b[0m \u001b[0;34m\u001b[0m\u001b[0m\n\u001b[1;32m    591\u001b[0m         \u001b[0;32mreturn\u001b[0m \u001b[0mresp\u001b[0m\u001b[0;34m\u001b[0m\u001b[0;34m\u001b[0m\u001b[0m\n",
      "\u001b[0;32m~/.local/lib/python3.9/site-packages/requests/sessions.py\u001b[0m in \u001b[0;36msend\u001b[0;34m(self, request, **kwargs)\u001b[0m\n\u001b[1;32m    701\u001b[0m \u001b[0;34m\u001b[0m\u001b[0m\n\u001b[1;32m    702\u001b[0m         \u001b[0;31m# Send the request\u001b[0m\u001b[0;34m\u001b[0m\u001b[0;34m\u001b[0m\u001b[0m\n\u001b[0;32m--> 703\u001b[0;31m         \u001b[0mr\u001b[0m \u001b[0;34m=\u001b[0m \u001b[0madapter\u001b[0m\u001b[0;34m.\u001b[0m\u001b[0msend\u001b[0m\u001b[0;34m(\u001b[0m\u001b[0mrequest\u001b[0m\u001b[0;34m,\u001b[0m \u001b[0;34m**\u001b[0m\u001b[0mkwargs\u001b[0m\u001b[0;34m)\u001b[0m\u001b[0;34m\u001b[0m\u001b[0;34m\u001b[0m\u001b[0m\n\u001b[0m\u001b[1;32m    704\u001b[0m \u001b[0;34m\u001b[0m\u001b[0m\n\u001b[1;32m    705\u001b[0m         \u001b[0;31m# Total elapsed time of the request (approximately)\u001b[0m\u001b[0;34m\u001b[0m\u001b[0;34m\u001b[0m\u001b[0m\n",
      "\u001b[0;32m~/.local/lib/python3.9/site-packages/requests/adapters.py\u001b[0m in \u001b[0;36msend\u001b[0;34m(self, request, stream, timeout, verify, cert, proxies)\u001b[0m\n\u001b[1;32m    484\u001b[0m \u001b[0;34m\u001b[0m\u001b[0m\n\u001b[1;32m    485\u001b[0m         \u001b[0;32mtry\u001b[0m\u001b[0;34m:\u001b[0m\u001b[0;34m\u001b[0m\u001b[0;34m\u001b[0m\u001b[0m\n\u001b[0;32m--> 486\u001b[0;31m             resp = conn.urlopen(\n\u001b[0m\u001b[1;32m    487\u001b[0m                 \u001b[0mmethod\u001b[0m\u001b[0;34m=\u001b[0m\u001b[0mrequest\u001b[0m\u001b[0;34m.\u001b[0m\u001b[0mmethod\u001b[0m\u001b[0;34m,\u001b[0m\u001b[0;34m\u001b[0m\u001b[0;34m\u001b[0m\u001b[0m\n\u001b[1;32m    488\u001b[0m                 \u001b[0murl\u001b[0m\u001b[0;34m=\u001b[0m\u001b[0murl\u001b[0m\u001b[0;34m,\u001b[0m\u001b[0;34m\u001b[0m\u001b[0;34m\u001b[0m\u001b[0m\n",
      "\u001b[0;32m~/opt/anaconda3/lib/python3.9/site-packages/urllib3/connectionpool.py\u001b[0m in \u001b[0;36murlopen\u001b[0;34m(self, method, url, body, headers, retries, redirect, assert_same_host, timeout, pool_timeout, release_conn, chunked, body_pos, preload_content, decode_content, **response_kw)\u001b[0m\n\u001b[1;32m    791\u001b[0m \u001b[0;34m\u001b[0m\u001b[0m\n\u001b[1;32m    792\u001b[0m             \u001b[0;31m# Make the request on the HTTPConnection object\u001b[0m\u001b[0;34m\u001b[0m\u001b[0;34m\u001b[0m\u001b[0m\n\u001b[0;32m--> 793\u001b[0;31m             response = self._make_request(\n\u001b[0m\u001b[1;32m    794\u001b[0m                 \u001b[0mconn\u001b[0m\u001b[0;34m,\u001b[0m\u001b[0;34m\u001b[0m\u001b[0;34m\u001b[0m\u001b[0m\n\u001b[1;32m    795\u001b[0m                 \u001b[0mmethod\u001b[0m\u001b[0;34m,\u001b[0m\u001b[0;34m\u001b[0m\u001b[0;34m\u001b[0m\u001b[0m\n",
      "\u001b[0;32m~/opt/anaconda3/lib/python3.9/site-packages/urllib3/connectionpool.py\u001b[0m in \u001b[0;36m_make_request\u001b[0;34m(self, conn, method, url, body, headers, retries, timeout, chunked, response_conn, preload_content, decode_content, enforce_content_length)\u001b[0m\n\u001b[1;32m    535\u001b[0m         \u001b[0;31m# Receive the response from the server\u001b[0m\u001b[0;34m\u001b[0m\u001b[0;34m\u001b[0m\u001b[0m\n\u001b[1;32m    536\u001b[0m         \u001b[0;32mtry\u001b[0m\u001b[0;34m:\u001b[0m\u001b[0;34m\u001b[0m\u001b[0;34m\u001b[0m\u001b[0m\n\u001b[0;32m--> 537\u001b[0;31m             \u001b[0mresponse\u001b[0m \u001b[0;34m=\u001b[0m \u001b[0mconn\u001b[0m\u001b[0;34m.\u001b[0m\u001b[0mgetresponse\u001b[0m\u001b[0;34m(\u001b[0m\u001b[0;34m)\u001b[0m\u001b[0;34m\u001b[0m\u001b[0;34m\u001b[0m\u001b[0m\n\u001b[0m\u001b[1;32m    538\u001b[0m         \u001b[0;32mexcept\u001b[0m \u001b[0;34m(\u001b[0m\u001b[0mBaseSSLError\u001b[0m\u001b[0;34m,\u001b[0m \u001b[0mOSError\u001b[0m\u001b[0;34m)\u001b[0m \u001b[0;32mas\u001b[0m \u001b[0me\u001b[0m\u001b[0;34m:\u001b[0m\u001b[0;34m\u001b[0m\u001b[0;34m\u001b[0m\u001b[0m\n\u001b[1;32m    539\u001b[0m             \u001b[0mself\u001b[0m\u001b[0;34m.\u001b[0m\u001b[0m_raise_timeout\u001b[0m\u001b[0;34m(\u001b[0m\u001b[0merr\u001b[0m\u001b[0;34m=\u001b[0m\u001b[0me\u001b[0m\u001b[0;34m,\u001b[0m \u001b[0murl\u001b[0m\u001b[0;34m=\u001b[0m\u001b[0murl\u001b[0m\u001b[0;34m,\u001b[0m \u001b[0mtimeout_value\u001b[0m\u001b[0;34m=\u001b[0m\u001b[0mread_timeout\u001b[0m\u001b[0;34m)\u001b[0m\u001b[0;34m\u001b[0m\u001b[0;34m\u001b[0m\u001b[0m\n",
      "\u001b[0;32m~/opt/anaconda3/lib/python3.9/site-packages/urllib3/connection.py\u001b[0m in \u001b[0;36mgetresponse\u001b[0;34m(self)\u001b[0m\n\u001b[1;32m    464\u001b[0m \u001b[0;34m\u001b[0m\u001b[0m\n\u001b[1;32m    465\u001b[0m         \u001b[0;31m# Get the response from http.client.HTTPConnection\u001b[0m\u001b[0;34m\u001b[0m\u001b[0;34m\u001b[0m\u001b[0m\n\u001b[0;32m--> 466\u001b[0;31m         \u001b[0mhttplib_response\u001b[0m \u001b[0;34m=\u001b[0m \u001b[0msuper\u001b[0m\u001b[0;34m(\u001b[0m\u001b[0;34m)\u001b[0m\u001b[0;34m.\u001b[0m\u001b[0mgetresponse\u001b[0m\u001b[0;34m(\u001b[0m\u001b[0;34m)\u001b[0m\u001b[0;34m\u001b[0m\u001b[0;34m\u001b[0m\u001b[0m\n\u001b[0m\u001b[1;32m    467\u001b[0m \u001b[0;34m\u001b[0m\u001b[0m\n\u001b[1;32m    468\u001b[0m         \u001b[0;32mtry\u001b[0m\u001b[0;34m:\u001b[0m\u001b[0;34m\u001b[0m\u001b[0;34m\u001b[0m\u001b[0m\n",
      "\u001b[0;32m~/opt/anaconda3/lib/python3.9/http/client.py\u001b[0m in \u001b[0;36mgetresponse\u001b[0;34m(self)\u001b[0m\n\u001b[1;32m   1375\u001b[0m         \u001b[0;32mtry\u001b[0m\u001b[0;34m:\u001b[0m\u001b[0;34m\u001b[0m\u001b[0;34m\u001b[0m\u001b[0m\n\u001b[1;32m   1376\u001b[0m             \u001b[0;32mtry\u001b[0m\u001b[0;34m:\u001b[0m\u001b[0;34m\u001b[0m\u001b[0;34m\u001b[0m\u001b[0m\n\u001b[0;32m-> 1377\u001b[0;31m                 \u001b[0mresponse\u001b[0m\u001b[0;34m.\u001b[0m\u001b[0mbegin\u001b[0m\u001b[0;34m(\u001b[0m\u001b[0;34m)\u001b[0m\u001b[0;34m\u001b[0m\u001b[0;34m\u001b[0m\u001b[0m\n\u001b[0m\u001b[1;32m   1378\u001b[0m             \u001b[0;32mexcept\u001b[0m \u001b[0mConnectionError\u001b[0m\u001b[0;34m:\u001b[0m\u001b[0;34m\u001b[0m\u001b[0;34m\u001b[0m\u001b[0m\n\u001b[1;32m   1379\u001b[0m                 \u001b[0mself\u001b[0m\u001b[0;34m.\u001b[0m\u001b[0mclose\u001b[0m\u001b[0;34m(\u001b[0m\u001b[0;34m)\u001b[0m\u001b[0;34m\u001b[0m\u001b[0;34m\u001b[0m\u001b[0m\n",
      "\u001b[0;32m~/opt/anaconda3/lib/python3.9/http/client.py\u001b[0m in \u001b[0;36mbegin\u001b[0;34m(self)\u001b[0m\n\u001b[1;32m    318\u001b[0m         \u001b[0;31m# read until we get a non-100 response\u001b[0m\u001b[0;34m\u001b[0m\u001b[0;34m\u001b[0m\u001b[0m\n\u001b[1;32m    319\u001b[0m         \u001b[0;32mwhile\u001b[0m \u001b[0;32mTrue\u001b[0m\u001b[0;34m:\u001b[0m\u001b[0;34m\u001b[0m\u001b[0;34m\u001b[0m\u001b[0m\n\u001b[0;32m--> 320\u001b[0;31m             \u001b[0mversion\u001b[0m\u001b[0;34m,\u001b[0m \u001b[0mstatus\u001b[0m\u001b[0;34m,\u001b[0m \u001b[0mreason\u001b[0m \u001b[0;34m=\u001b[0m \u001b[0mself\u001b[0m\u001b[0;34m.\u001b[0m\u001b[0m_read_status\u001b[0m\u001b[0;34m(\u001b[0m\u001b[0;34m)\u001b[0m\u001b[0;34m\u001b[0m\u001b[0;34m\u001b[0m\u001b[0m\n\u001b[0m\u001b[1;32m    321\u001b[0m             \u001b[0;32mif\u001b[0m \u001b[0mstatus\u001b[0m \u001b[0;34m!=\u001b[0m \u001b[0mCONTINUE\u001b[0m\u001b[0;34m:\u001b[0m\u001b[0;34m\u001b[0m\u001b[0;34m\u001b[0m\u001b[0m\n\u001b[1;32m    322\u001b[0m                 \u001b[0;32mbreak\u001b[0m\u001b[0;34m\u001b[0m\u001b[0;34m\u001b[0m\u001b[0m\n",
      "\u001b[0;32m~/opt/anaconda3/lib/python3.9/http/client.py\u001b[0m in \u001b[0;36m_read_status\u001b[0;34m(self)\u001b[0m\n\u001b[1;32m    279\u001b[0m \u001b[0;34m\u001b[0m\u001b[0m\n\u001b[1;32m    280\u001b[0m     \u001b[0;32mdef\u001b[0m \u001b[0m_read_status\u001b[0m\u001b[0;34m(\u001b[0m\u001b[0mself\u001b[0m\u001b[0;34m)\u001b[0m\u001b[0;34m:\u001b[0m\u001b[0;34m\u001b[0m\u001b[0;34m\u001b[0m\u001b[0m\n\u001b[0;32m--> 281\u001b[0;31m         \u001b[0mline\u001b[0m \u001b[0;34m=\u001b[0m \u001b[0mstr\u001b[0m\u001b[0;34m(\u001b[0m\u001b[0mself\u001b[0m\u001b[0;34m.\u001b[0m\u001b[0mfp\u001b[0m\u001b[0;34m.\u001b[0m\u001b[0mreadline\u001b[0m\u001b[0;34m(\u001b[0m\u001b[0m_MAXLINE\u001b[0m \u001b[0;34m+\u001b[0m \u001b[0;36m1\u001b[0m\u001b[0;34m)\u001b[0m\u001b[0;34m,\u001b[0m \u001b[0;34m\"iso-8859-1\"\u001b[0m\u001b[0;34m)\u001b[0m\u001b[0;34m\u001b[0m\u001b[0;34m\u001b[0m\u001b[0m\n\u001b[0m\u001b[1;32m    282\u001b[0m         \u001b[0;32mif\u001b[0m \u001b[0mlen\u001b[0m\u001b[0;34m(\u001b[0m\u001b[0mline\u001b[0m\u001b[0;34m)\u001b[0m \u001b[0;34m>\u001b[0m \u001b[0m_MAXLINE\u001b[0m\u001b[0;34m:\u001b[0m\u001b[0;34m\u001b[0m\u001b[0;34m\u001b[0m\u001b[0m\n\u001b[1;32m    283\u001b[0m             \u001b[0;32mraise\u001b[0m \u001b[0mLineTooLong\u001b[0m\u001b[0;34m(\u001b[0m\u001b[0;34m\"status line\"\u001b[0m\u001b[0;34m)\u001b[0m\u001b[0;34m\u001b[0m\u001b[0;34m\u001b[0m\u001b[0m\n",
      "\u001b[0;32m~/opt/anaconda3/lib/python3.9/socket.py\u001b[0m in \u001b[0;36mreadinto\u001b[0;34m(self, b)\u001b[0m\n\u001b[1;32m    702\u001b[0m         \u001b[0;32mwhile\u001b[0m \u001b[0;32mTrue\u001b[0m\u001b[0;34m:\u001b[0m\u001b[0;34m\u001b[0m\u001b[0;34m\u001b[0m\u001b[0m\n\u001b[1;32m    703\u001b[0m             \u001b[0;32mtry\u001b[0m\u001b[0;34m:\u001b[0m\u001b[0;34m\u001b[0m\u001b[0;34m\u001b[0m\u001b[0m\n\u001b[0;32m--> 704\u001b[0;31m                 \u001b[0;32mreturn\u001b[0m \u001b[0mself\u001b[0m\u001b[0;34m.\u001b[0m\u001b[0m_sock\u001b[0m\u001b[0;34m.\u001b[0m\u001b[0mrecv_into\u001b[0m\u001b[0;34m(\u001b[0m\u001b[0mb\u001b[0m\u001b[0;34m)\u001b[0m\u001b[0;34m\u001b[0m\u001b[0;34m\u001b[0m\u001b[0m\n\u001b[0m\u001b[1;32m    705\u001b[0m             \u001b[0;32mexcept\u001b[0m \u001b[0mtimeout\u001b[0m\u001b[0;34m:\u001b[0m\u001b[0;34m\u001b[0m\u001b[0;34m\u001b[0m\u001b[0m\n\u001b[1;32m    706\u001b[0m                 \u001b[0mself\u001b[0m\u001b[0;34m.\u001b[0m\u001b[0m_timeout_occurred\u001b[0m \u001b[0;34m=\u001b[0m \u001b[0;32mTrue\u001b[0m\u001b[0;34m\u001b[0m\u001b[0;34m\u001b[0m\u001b[0m\n",
      "\u001b[0;32m~/opt/anaconda3/lib/python3.9/ssl.py\u001b[0m in \u001b[0;36mrecv_into\u001b[0;34m(self, buffer, nbytes, flags)\u001b[0m\n\u001b[1;32m   1240\u001b[0m                   \u001b[0;34m\"non-zero flags not allowed in calls to recv_into() on %s\"\u001b[0m \u001b[0;34m%\u001b[0m\u001b[0;34m\u001b[0m\u001b[0;34m\u001b[0m\u001b[0m\n\u001b[1;32m   1241\u001b[0m                   self.__class__)\n\u001b[0;32m-> 1242\u001b[0;31m             \u001b[0;32mreturn\u001b[0m \u001b[0mself\u001b[0m\u001b[0;34m.\u001b[0m\u001b[0mread\u001b[0m\u001b[0;34m(\u001b[0m\u001b[0mnbytes\u001b[0m\u001b[0;34m,\u001b[0m \u001b[0mbuffer\u001b[0m\u001b[0;34m)\u001b[0m\u001b[0;34m\u001b[0m\u001b[0;34m\u001b[0m\u001b[0m\n\u001b[0m\u001b[1;32m   1243\u001b[0m         \u001b[0;32melse\u001b[0m\u001b[0;34m:\u001b[0m\u001b[0;34m\u001b[0m\u001b[0;34m\u001b[0m\u001b[0m\n\u001b[1;32m   1244\u001b[0m             \u001b[0;32mreturn\u001b[0m \u001b[0msuper\u001b[0m\u001b[0;34m(\u001b[0m\u001b[0;34m)\u001b[0m\u001b[0;34m.\u001b[0m\u001b[0mrecv_into\u001b[0m\u001b[0;34m(\u001b[0m\u001b[0mbuffer\u001b[0m\u001b[0;34m,\u001b[0m \u001b[0mnbytes\u001b[0m\u001b[0;34m,\u001b[0m \u001b[0mflags\u001b[0m\u001b[0;34m)\u001b[0m\u001b[0;34m\u001b[0m\u001b[0;34m\u001b[0m\u001b[0m\n",
      "\u001b[0;32m~/opt/anaconda3/lib/python3.9/ssl.py\u001b[0m in \u001b[0;36mread\u001b[0;34m(self, len, buffer)\u001b[0m\n\u001b[1;32m   1098\u001b[0m         \u001b[0;32mtry\u001b[0m\u001b[0;34m:\u001b[0m\u001b[0;34m\u001b[0m\u001b[0;34m\u001b[0m\u001b[0m\n\u001b[1;32m   1099\u001b[0m             \u001b[0;32mif\u001b[0m \u001b[0mbuffer\u001b[0m \u001b[0;32mis\u001b[0m \u001b[0;32mnot\u001b[0m \u001b[0;32mNone\u001b[0m\u001b[0;34m:\u001b[0m\u001b[0;34m\u001b[0m\u001b[0;34m\u001b[0m\u001b[0m\n\u001b[0;32m-> 1100\u001b[0;31m                 \u001b[0;32mreturn\u001b[0m \u001b[0mself\u001b[0m\u001b[0;34m.\u001b[0m\u001b[0m_sslobj\u001b[0m\u001b[0;34m.\u001b[0m\u001b[0mread\u001b[0m\u001b[0;34m(\u001b[0m\u001b[0mlen\u001b[0m\u001b[0;34m,\u001b[0m \u001b[0mbuffer\u001b[0m\u001b[0;34m)\u001b[0m\u001b[0;34m\u001b[0m\u001b[0;34m\u001b[0m\u001b[0m\n\u001b[0m\u001b[1;32m   1101\u001b[0m             \u001b[0;32melse\u001b[0m\u001b[0;34m:\u001b[0m\u001b[0;34m\u001b[0m\u001b[0;34m\u001b[0m\u001b[0m\n\u001b[1;32m   1102\u001b[0m                 \u001b[0;32mreturn\u001b[0m \u001b[0mself\u001b[0m\u001b[0;34m.\u001b[0m\u001b[0m_sslobj\u001b[0m\u001b[0;34m.\u001b[0m\u001b[0mread\u001b[0m\u001b[0;34m(\u001b[0m\u001b[0mlen\u001b[0m\u001b[0;34m)\u001b[0m\u001b[0;34m\u001b[0m\u001b[0;34m\u001b[0m\u001b[0m\n",
      "\u001b[0;31mKeyboardInterrupt\u001b[0m: "
     ]
    }
   ],
   "source": [
    "import time\n",
    "all_stocks = []\n",
    "seen = set()\n",
    "for exchange in exchanges:\n",
    "    for ticker in by_exchange[exchange].keys():\n",
    "        if ticker in seen:\n",
    "            continue\n",
    "        try:\n",
    "            rec = yf.Ticker(ticker).get_analyst_price_targets()\n",
    "            all_stocks.append([{'ticker':ticker, 'analyst_ratio_to_current': rec['current']/rec['mean']}])\n",
    "        except Exception as e:\n",
    "            pass\n",
    "        seen.add(ticker)\n",
    "        \n",
    "        print(all_stocks[-1])"
   ]
  },
  {
   "cell_type": "code",
   "execution_count": null,
   "id": "bfff0dc1",
   "metadata": {},
   "outputs": [],
   "source": []
  }
 ],
 "metadata": {
  "kernelspec": {
   "display_name": "Python 3 (ipykernel)",
   "language": "python",
   "name": "python3"
  },
  "language_info": {
   "codemirror_mode": {
    "name": "ipython",
    "version": 3
   },
   "file_extension": ".py",
   "mimetype": "text/x-python",
   "name": "python",
   "nbconvert_exporter": "python",
   "pygments_lexer": "ipython3",
   "version": "3.9.13"
  }
 },
 "nbformat": 4,
 "nbformat_minor": 5
}
